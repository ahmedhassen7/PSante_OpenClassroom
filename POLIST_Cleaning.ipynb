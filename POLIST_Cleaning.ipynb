{
  "nbformat": 4,
  "nbformat_minor": 0,
  "metadata": {
    "colab": {
      "name": "POLIST_Cleaning.ipynb",
      "provenance": [],
      "collapsed_sections": [
        "mAQ7pTUpPzds"
      ]
    },
    "kernelspec": {
      "name": "python3",
      "display_name": "Python 3"
    }
  },
  "cells": [
    {
      "cell_type": "markdown",
      "metadata": {
        "id": "HNBWkT5aqrAC"
      },
      "source": [
        "##Importing Libraries"
      ]
    },
    {
      "cell_type": "code",
      "metadata": {
        "id": "ulARkloQdLC1"
      },
      "source": [
        "import pandas as pd\n",
        "import numpy as np\n",
        "import matplotlib.pyplot as plt \n",
        "import seaborn as sns\n",
        "%matplotlib inline\n",
        "import warnings\n",
        "warnings.filterwarnings('ignore')"
      ],
      "execution_count": 1,
      "outputs": []
    },
    {
      "cell_type": "code",
      "metadata": {
        "id": "pOI7_gUxdMm9"
      },
      "source": [
        "data_orders=pd.read_csv('/content/drive/MyDrive/Formation_Machine_Learning/POLIST/data/olist_orders_dataset.csv')\n",
        "data_customers=pd.read_csv('/content/drive/MyDrive/Formation_Machine_Learning/POLIST/data/olist_customers_dataset.csv')\n",
        "data_items=pd.read_csv('/content/drive/MyDrive/Formation_Machine_Learning/POLIST/data/olist_order_items_dataset.csv')\n",
        "data_payments=pd.read_csv('/content/drive/MyDrive/Formation_Machine_Learning/POLIST/data/olist_order_payments_dataset.csv')\n",
        "data_reviews=pd.read_csv('/content/drive/MyDrive/Formation_Machine_Learning/POLIST/data/olist_order_reviews_dataset.csv')\n",
        "data_products=pd.read_csv('/content/drive/MyDrive/Formation_Machine_Learning/POLIST/data/olist_products_dataset.csv')\n",
        "data_sellers=pd.read_csv('/content/drive/MyDrive/Formation_Machine_Learning/POLIST/data/olist_sellers_dataset.csv')\n",
        "data_category=pd.read_csv('/content/drive/MyDrive/Formation_Machine_Learning/POLIST/data/product_category_name_translation.csv')\n",
        "data_geo=pd.read_csv('/content/drive/MyDrive/Formation_Machine_Learning/POLIST/data/olist_geolocation_dataset.csv')"
      ],
      "execution_count": 2,
      "outputs": []
    },
    {
      "cell_type": "markdown",
      "metadata": {
        "id": "fOInEb8hjrbg"
      },
      "source": [
        "## **Observations**"
      ]
    },
    {
      "cell_type": "code",
      "metadata": {
        "colab": {
          "base_uri": "https://localhost:8080/",
          "height": 211
        },
        "id": "srPgmVC0dMqJ",
        "outputId": "5c170dd9-c77a-4250-a505-0099307b7934"
      },
      "source": [
        "data_orders.head()"
      ],
      "execution_count": null,
      "outputs": [
        {
          "output_type": "execute_result",
          "data": {
            "text/html": [
              "<div>\n",
              "<style scoped>\n",
              "    .dataframe tbody tr th:only-of-type {\n",
              "        vertical-align: middle;\n",
              "    }\n",
              "\n",
              "    .dataframe tbody tr th {\n",
              "        vertical-align: top;\n",
              "    }\n",
              "\n",
              "    .dataframe thead th {\n",
              "        text-align: right;\n",
              "    }\n",
              "</style>\n",
              "<table border=\"1\" class=\"dataframe\">\n",
              "  <thead>\n",
              "    <tr style=\"text-align: right;\">\n",
              "      <th></th>\n",
              "      <th>order_id</th>\n",
              "      <th>customer_id</th>\n",
              "      <th>order_status</th>\n",
              "      <th>order_purchase_timestamp</th>\n",
              "      <th>order_approved_at</th>\n",
              "      <th>order_delivered_carrier_date</th>\n",
              "      <th>order_delivered_customer_date</th>\n",
              "      <th>order_estimated_delivery_date</th>\n",
              "    </tr>\n",
              "  </thead>\n",
              "  <tbody>\n",
              "    <tr>\n",
              "      <th>0</th>\n",
              "      <td>e481f51cbdc54678b7cc49136f2d6af7</td>\n",
              "      <td>9ef432eb6251297304e76186b10a928d</td>\n",
              "      <td>delivered</td>\n",
              "      <td>2017-10-02 10:56:33</td>\n",
              "      <td>2017-10-02 11:07:15</td>\n",
              "      <td>2017-10-04 19:55:00</td>\n",
              "      <td>2017-10-10 21:25:13</td>\n",
              "      <td>2017-10-18 00:00:00</td>\n",
              "    </tr>\n",
              "    <tr>\n",
              "      <th>1</th>\n",
              "      <td>53cdb2fc8bc7dce0b6741e2150273451</td>\n",
              "      <td>b0830fb4747a6c6d20dea0b8c802d7ef</td>\n",
              "      <td>delivered</td>\n",
              "      <td>2018-07-24 20:41:37</td>\n",
              "      <td>2018-07-26 03:24:27</td>\n",
              "      <td>2018-07-26 14:31:00</td>\n",
              "      <td>2018-08-07 15:27:45</td>\n",
              "      <td>2018-08-13 00:00:00</td>\n",
              "    </tr>\n",
              "    <tr>\n",
              "      <th>2</th>\n",
              "      <td>47770eb9100c2d0c44946d9cf07ec65d</td>\n",
              "      <td>41ce2a54c0b03bf3443c3d931a367089</td>\n",
              "      <td>delivered</td>\n",
              "      <td>2018-08-08 08:38:49</td>\n",
              "      <td>2018-08-08 08:55:23</td>\n",
              "      <td>2018-08-08 13:50:00</td>\n",
              "      <td>2018-08-17 18:06:29</td>\n",
              "      <td>2018-09-04 00:00:00</td>\n",
              "    </tr>\n",
              "    <tr>\n",
              "      <th>3</th>\n",
              "      <td>949d5b44dbf5de918fe9c16f97b45f8a</td>\n",
              "      <td>f88197465ea7920adcdbec7375364d82</td>\n",
              "      <td>delivered</td>\n",
              "      <td>2017-11-18 19:28:06</td>\n",
              "      <td>2017-11-18 19:45:59</td>\n",
              "      <td>2017-11-22 13:39:59</td>\n",
              "      <td>2017-12-02 00:28:42</td>\n",
              "      <td>2017-12-15 00:00:00</td>\n",
              "    </tr>\n",
              "    <tr>\n",
              "      <th>4</th>\n",
              "      <td>ad21c59c0840e6cb83a9ceb5573f8159</td>\n",
              "      <td>8ab97904e6daea8866dbdbc4fb7aad2c</td>\n",
              "      <td>delivered</td>\n",
              "      <td>2018-02-13 21:18:39</td>\n",
              "      <td>2018-02-13 22:20:29</td>\n",
              "      <td>2018-02-14 19:46:34</td>\n",
              "      <td>2018-02-16 18:17:02</td>\n",
              "      <td>2018-02-26 00:00:00</td>\n",
              "    </tr>\n",
              "  </tbody>\n",
              "</table>\n",
              "</div>"
            ],
            "text/plain": [
              "                           order_id  ... order_estimated_delivery_date\n",
              "0  e481f51cbdc54678b7cc49136f2d6af7  ...           2017-10-18 00:00:00\n",
              "1  53cdb2fc8bc7dce0b6741e2150273451  ...           2018-08-13 00:00:00\n",
              "2  47770eb9100c2d0c44946d9cf07ec65d  ...           2018-09-04 00:00:00\n",
              "3  949d5b44dbf5de918fe9c16f97b45f8a  ...           2017-12-15 00:00:00\n",
              "4  ad21c59c0840e6cb83a9ceb5573f8159  ...           2018-02-26 00:00:00\n",
              "\n",
              "[5 rows x 8 columns]"
            ]
          },
          "metadata": {
            "tags": []
          },
          "execution_count": 3
        }
      ]
    },
    {
      "cell_type": "code",
      "metadata": {
        "colab": {
          "base_uri": "https://localhost:8080/",
          "height": 197
        },
        "id": "VlLUEazXdMxS",
        "outputId": "f83de2fd-9b62-4224-fb72-cf3e3a544d90"
      },
      "source": [
        "data_geo.head()"
      ],
      "execution_count": null,
      "outputs": [
        {
          "output_type": "execute_result",
          "data": {
            "text/html": [
              "<div>\n",
              "<style scoped>\n",
              "    .dataframe tbody tr th:only-of-type {\n",
              "        vertical-align: middle;\n",
              "    }\n",
              "\n",
              "    .dataframe tbody tr th {\n",
              "        vertical-align: top;\n",
              "    }\n",
              "\n",
              "    .dataframe thead th {\n",
              "        text-align: right;\n",
              "    }\n",
              "</style>\n",
              "<table border=\"1\" class=\"dataframe\">\n",
              "  <thead>\n",
              "    <tr style=\"text-align: right;\">\n",
              "      <th></th>\n",
              "      <th>geolocation_zip_code_prefix</th>\n",
              "      <th>geolocation_lat</th>\n",
              "      <th>geolocation_lng</th>\n",
              "      <th>geolocation_city</th>\n",
              "      <th>geolocation_state</th>\n",
              "    </tr>\n",
              "  </thead>\n",
              "  <tbody>\n",
              "    <tr>\n",
              "      <th>0</th>\n",
              "      <td>1037</td>\n",
              "      <td>-23.545621</td>\n",
              "      <td>-46.639292</td>\n",
              "      <td>sao paulo</td>\n",
              "      <td>SP</td>\n",
              "    </tr>\n",
              "    <tr>\n",
              "      <th>1</th>\n",
              "      <td>1046</td>\n",
              "      <td>-23.546081</td>\n",
              "      <td>-46.644820</td>\n",
              "      <td>sao paulo</td>\n",
              "      <td>SP</td>\n",
              "    </tr>\n",
              "    <tr>\n",
              "      <th>2</th>\n",
              "      <td>1046</td>\n",
              "      <td>-23.546129</td>\n",
              "      <td>-46.642951</td>\n",
              "      <td>sao paulo</td>\n",
              "      <td>SP</td>\n",
              "    </tr>\n",
              "    <tr>\n",
              "      <th>3</th>\n",
              "      <td>1041</td>\n",
              "      <td>-23.544392</td>\n",
              "      <td>-46.639499</td>\n",
              "      <td>sao paulo</td>\n",
              "      <td>SP</td>\n",
              "    </tr>\n",
              "    <tr>\n",
              "      <th>4</th>\n",
              "      <td>1035</td>\n",
              "      <td>-23.541578</td>\n",
              "      <td>-46.641607</td>\n",
              "      <td>sao paulo</td>\n",
              "      <td>SP</td>\n",
              "    </tr>\n",
              "  </tbody>\n",
              "</table>\n",
              "</div>"
            ],
            "text/plain": [
              "   geolocation_zip_code_prefix  ...  geolocation_state\n",
              "0                         1037  ...                 SP\n",
              "1                         1046  ...                 SP\n",
              "2                         1046  ...                 SP\n",
              "3                         1041  ...                 SP\n",
              "4                         1035  ...                 SP\n",
              "\n",
              "[5 rows x 5 columns]"
            ]
          },
          "metadata": {
            "tags": []
          },
          "execution_count": 6
        }
      ]
    },
    {
      "cell_type": "code",
      "metadata": {
        "colab": {
          "base_uri": "https://localhost:8080/",
          "height": 217
        },
        "id": "_WqO6E6tJ1FW",
        "outputId": "10aae6d5-83b2-4ede-8da5-fff8ed26aeda"
      },
      "source": [
        "data_orders.head()"
      ],
      "execution_count": null,
      "outputs": [
        {
          "output_type": "execute_result",
          "data": {
            "text/html": [
              "<div>\n",
              "<style scoped>\n",
              "    .dataframe tbody tr th:only-of-type {\n",
              "        vertical-align: middle;\n",
              "    }\n",
              "\n",
              "    .dataframe tbody tr th {\n",
              "        vertical-align: top;\n",
              "    }\n",
              "\n",
              "    .dataframe thead th {\n",
              "        text-align: right;\n",
              "    }\n",
              "</style>\n",
              "<table border=\"1\" class=\"dataframe\">\n",
              "  <thead>\n",
              "    <tr style=\"text-align: right;\">\n",
              "      <th></th>\n",
              "      <th>order_id</th>\n",
              "      <th>customer_id</th>\n",
              "      <th>order_status</th>\n",
              "      <th>order_purchase_timestamp</th>\n",
              "      <th>order_approved_at</th>\n",
              "      <th>order_delivered_carrier_date</th>\n",
              "      <th>order_delivered_customer_date</th>\n",
              "      <th>order_estimated_delivery_date</th>\n",
              "    </tr>\n",
              "  </thead>\n",
              "  <tbody>\n",
              "    <tr>\n",
              "      <th>0</th>\n",
              "      <td>e481f51cbdc54678b7cc49136f2d6af7</td>\n",
              "      <td>9ef432eb6251297304e76186b10a928d</td>\n",
              "      <td>delivered</td>\n",
              "      <td>2017-10-02 10:56:33</td>\n",
              "      <td>2017-10-02 11:07:15</td>\n",
              "      <td>2017-10-04 19:55:00</td>\n",
              "      <td>2017-10-10 21:25:13</td>\n",
              "      <td>2017-10-18 00:00:00</td>\n",
              "    </tr>\n",
              "    <tr>\n",
              "      <th>1</th>\n",
              "      <td>53cdb2fc8bc7dce0b6741e2150273451</td>\n",
              "      <td>b0830fb4747a6c6d20dea0b8c802d7ef</td>\n",
              "      <td>delivered</td>\n",
              "      <td>2018-07-24 20:41:37</td>\n",
              "      <td>2018-07-26 03:24:27</td>\n",
              "      <td>2018-07-26 14:31:00</td>\n",
              "      <td>2018-08-07 15:27:45</td>\n",
              "      <td>2018-08-13 00:00:00</td>\n",
              "    </tr>\n",
              "    <tr>\n",
              "      <th>2</th>\n",
              "      <td>47770eb9100c2d0c44946d9cf07ec65d</td>\n",
              "      <td>41ce2a54c0b03bf3443c3d931a367089</td>\n",
              "      <td>delivered</td>\n",
              "      <td>2018-08-08 08:38:49</td>\n",
              "      <td>2018-08-08 08:55:23</td>\n",
              "      <td>2018-08-08 13:50:00</td>\n",
              "      <td>2018-08-17 18:06:29</td>\n",
              "      <td>2018-09-04 00:00:00</td>\n",
              "    </tr>\n",
              "    <tr>\n",
              "      <th>3</th>\n",
              "      <td>949d5b44dbf5de918fe9c16f97b45f8a</td>\n",
              "      <td>f88197465ea7920adcdbec7375364d82</td>\n",
              "      <td>delivered</td>\n",
              "      <td>2017-11-18 19:28:06</td>\n",
              "      <td>2017-11-18 19:45:59</td>\n",
              "      <td>2017-11-22 13:39:59</td>\n",
              "      <td>2017-12-02 00:28:42</td>\n",
              "      <td>2017-12-15 00:00:00</td>\n",
              "    </tr>\n",
              "    <tr>\n",
              "      <th>4</th>\n",
              "      <td>ad21c59c0840e6cb83a9ceb5573f8159</td>\n",
              "      <td>8ab97904e6daea8866dbdbc4fb7aad2c</td>\n",
              "      <td>delivered</td>\n",
              "      <td>2018-02-13 21:18:39</td>\n",
              "      <td>2018-02-13 22:20:29</td>\n",
              "      <td>2018-02-14 19:46:34</td>\n",
              "      <td>2018-02-16 18:17:02</td>\n",
              "      <td>2018-02-26 00:00:00</td>\n",
              "    </tr>\n",
              "  </tbody>\n",
              "</table>\n",
              "</div>"
            ],
            "text/plain": [
              "                           order_id  ... order_estimated_delivery_date\n",
              "0  e481f51cbdc54678b7cc49136f2d6af7  ...           2017-10-18 00:00:00\n",
              "1  53cdb2fc8bc7dce0b6741e2150273451  ...           2018-08-13 00:00:00\n",
              "2  47770eb9100c2d0c44946d9cf07ec65d  ...           2018-09-04 00:00:00\n",
              "3  949d5b44dbf5de918fe9c16f97b45f8a  ...           2017-12-15 00:00:00\n",
              "4  ad21c59c0840e6cb83a9ceb5573f8159  ...           2018-02-26 00:00:00\n",
              "\n",
              "[5 rows x 8 columns]"
            ]
          },
          "metadata": {
            "tags": []
          },
          "execution_count": 32
        }
      ]
    },
    {
      "cell_type": "code",
      "metadata": {
        "colab": {
          "base_uri": "https://localhost:8080/",
          "height": 197
        },
        "id": "F82wceBHgmg5",
        "outputId": "de9821d4-30b3-4c63-f3ca-dd78f7a6bff7"
      },
      "source": [
        "data_payments[data_payments['payment_sequential']>20].head()"
      ],
      "execution_count": null,
      "outputs": [
        {
          "output_type": "execute_result",
          "data": {
            "text/html": [
              "<div>\n",
              "<style scoped>\n",
              "    .dataframe tbody tr th:only-of-type {\n",
              "        vertical-align: middle;\n",
              "    }\n",
              "\n",
              "    .dataframe tbody tr th {\n",
              "        vertical-align: top;\n",
              "    }\n",
              "\n",
              "    .dataframe thead th {\n",
              "        text-align: right;\n",
              "    }\n",
              "</style>\n",
              "<table border=\"1\" class=\"dataframe\">\n",
              "  <thead>\n",
              "    <tr style=\"text-align: right;\">\n",
              "      <th></th>\n",
              "      <th>order_id</th>\n",
              "      <th>payment_sequential</th>\n",
              "      <th>payment_type</th>\n",
              "      <th>payment_installments</th>\n",
              "      <th>payment_value</th>\n",
              "    </tr>\n",
              "  </thead>\n",
              "  <tbody>\n",
              "    <tr>\n",
              "      <th>4885</th>\n",
              "      <td>fa65dad1b0e818e3ccc5cb0e39231352</td>\n",
              "      <td>27</td>\n",
              "      <td>voucher</td>\n",
              "      <td>1</td>\n",
              "      <td>66.02</td>\n",
              "    </tr>\n",
              "    <tr>\n",
              "      <th>24879</th>\n",
              "      <td>fa65dad1b0e818e3ccc5cb0e39231352</td>\n",
              "      <td>25</td>\n",
              "      <td>voucher</td>\n",
              "      <td>1</td>\n",
              "      <td>3.68</td>\n",
              "    </tr>\n",
              "    <tr>\n",
              "      <th>27824</th>\n",
              "      <td>285c2e15bebd4ac83635ccc563dc71f4</td>\n",
              "      <td>22</td>\n",
              "      <td>voucher</td>\n",
              "      <td>1</td>\n",
              "      <td>1.05</td>\n",
              "    </tr>\n",
              "    <tr>\n",
              "      <th>32393</th>\n",
              "      <td>ccf804e764ed5650cd8759557269dc13</td>\n",
              "      <td>26</td>\n",
              "      <td>voucher</td>\n",
              "      <td>1</td>\n",
              "      <td>23.10</td>\n",
              "    </tr>\n",
              "    <tr>\n",
              "      <th>39108</th>\n",
              "      <td>fa65dad1b0e818e3ccc5cb0e39231352</td>\n",
              "      <td>29</td>\n",
              "      <td>voucher</td>\n",
              "      <td>1</td>\n",
              "      <td>19.26</td>\n",
              "    </tr>\n",
              "  </tbody>\n",
              "</table>\n",
              "</div>"
            ],
            "text/plain": [
              "                               order_id  ...  payment_value\n",
              "4885   fa65dad1b0e818e3ccc5cb0e39231352  ...          66.02\n",
              "24879  fa65dad1b0e818e3ccc5cb0e39231352  ...           3.68\n",
              "27824  285c2e15bebd4ac83635ccc563dc71f4  ...           1.05\n",
              "32393  ccf804e764ed5650cd8759557269dc13  ...          23.10\n",
              "39108  fa65dad1b0e818e3ccc5cb0e39231352  ...          19.26\n",
              "\n",
              "[5 rows x 5 columns]"
            ]
          },
          "metadata": {
            "tags": []
          },
          "execution_count": 14
        }
      ]
    },
    {
      "cell_type": "code",
      "metadata": {
        "colab": {
          "base_uri": "https://localhost:8080/"
        },
        "id": "GucXXdOkhYDh",
        "outputId": "c20eb9d5-613f-45e3-8b28-e6c33260144a"
      },
      "source": [
        "data_payments['payment_type'].value_counts()"
      ],
      "execution_count": null,
      "outputs": [
        {
          "output_type": "execute_result",
          "data": {
            "text/plain": [
              "credit_card    76795\n",
              "boleto         19784\n",
              "voucher         5775\n",
              "debit_card      1529\n",
              "not_defined        3\n",
              "Name: payment_type, dtype: int64"
            ]
          },
          "metadata": {
            "tags": []
          },
          "execution_count": 76
        }
      ]
    },
    {
      "cell_type": "code",
      "metadata": {
        "colab": {
          "base_uri": "https://localhost:8080/",
          "height": 197
        },
        "id": "ay4rzobrJ0JV",
        "outputId": "6a7af3df-d803-4eaa-9357-992a8f1a6207"
      },
      "source": [
        "data_items.head()"
      ],
      "execution_count": null,
      "outputs": [
        {
          "output_type": "execute_result",
          "data": {
            "text/html": [
              "<div>\n",
              "<style scoped>\n",
              "    .dataframe tbody tr th:only-of-type {\n",
              "        vertical-align: middle;\n",
              "    }\n",
              "\n",
              "    .dataframe tbody tr th {\n",
              "        vertical-align: top;\n",
              "    }\n",
              "\n",
              "    .dataframe thead th {\n",
              "        text-align: right;\n",
              "    }\n",
              "</style>\n",
              "<table border=\"1\" class=\"dataframe\">\n",
              "  <thead>\n",
              "    <tr style=\"text-align: right;\">\n",
              "      <th></th>\n",
              "      <th>order_id</th>\n",
              "      <th>order_item_id</th>\n",
              "      <th>product_id</th>\n",
              "      <th>seller_id</th>\n",
              "      <th>shipping_limit_date</th>\n",
              "      <th>price</th>\n",
              "      <th>freight_value</th>\n",
              "    </tr>\n",
              "  </thead>\n",
              "  <tbody>\n",
              "    <tr>\n",
              "      <th>0</th>\n",
              "      <td>00010242fe8c5a6d1ba2dd792cb16214</td>\n",
              "      <td>1</td>\n",
              "      <td>4244733e06e7ecb4970a6e2683c13e61</td>\n",
              "      <td>48436dade18ac8b2bce089ec2a041202</td>\n",
              "      <td>2017-09-19 09:45:35</td>\n",
              "      <td>58.90</td>\n",
              "      <td>13.29</td>\n",
              "    </tr>\n",
              "    <tr>\n",
              "      <th>1</th>\n",
              "      <td>00018f77f2f0320c557190d7a144bdd3</td>\n",
              "      <td>1</td>\n",
              "      <td>e5f2d52b802189ee658865ca93d83a8f</td>\n",
              "      <td>dd7ddc04e1b6c2c614352b383efe2d36</td>\n",
              "      <td>2017-05-03 11:05:13</td>\n",
              "      <td>239.90</td>\n",
              "      <td>19.93</td>\n",
              "    </tr>\n",
              "    <tr>\n",
              "      <th>2</th>\n",
              "      <td>000229ec398224ef6ca0657da4fc703e</td>\n",
              "      <td>1</td>\n",
              "      <td>c777355d18b72b67abbeef9df44fd0fd</td>\n",
              "      <td>5b51032eddd242adc84c38acab88f23d</td>\n",
              "      <td>2018-01-18 14:48:30</td>\n",
              "      <td>199.00</td>\n",
              "      <td>17.87</td>\n",
              "    </tr>\n",
              "    <tr>\n",
              "      <th>3</th>\n",
              "      <td>00024acbcdf0a6daa1e931b038114c75</td>\n",
              "      <td>1</td>\n",
              "      <td>7634da152a4610f1595efa32f14722fc</td>\n",
              "      <td>9d7a1d34a5052409006425275ba1c2b4</td>\n",
              "      <td>2018-08-15 10:10:18</td>\n",
              "      <td>12.99</td>\n",
              "      <td>12.79</td>\n",
              "    </tr>\n",
              "    <tr>\n",
              "      <th>4</th>\n",
              "      <td>00042b26cf59d7ce69dfabb4e55b4fd9</td>\n",
              "      <td>1</td>\n",
              "      <td>ac6c3623068f30de03045865e4e10089</td>\n",
              "      <td>df560393f3a51e74553ab94004ba5c87</td>\n",
              "      <td>2017-02-13 13:57:51</td>\n",
              "      <td>199.90</td>\n",
              "      <td>18.14</td>\n",
              "    </tr>\n",
              "  </tbody>\n",
              "</table>\n",
              "</div>"
            ],
            "text/plain": [
              "                           order_id  order_item_id  ...   price freight_value\n",
              "0  00010242fe8c5a6d1ba2dd792cb16214              1  ...   58.90         13.29\n",
              "1  00018f77f2f0320c557190d7a144bdd3              1  ...  239.90         19.93\n",
              "2  000229ec398224ef6ca0657da4fc703e              1  ...  199.00         17.87\n",
              "3  00024acbcdf0a6daa1e931b038114c75              1  ...   12.99         12.79\n",
              "4  00042b26cf59d7ce69dfabb4e55b4fd9              1  ...  199.90         18.14\n",
              "\n",
              "[5 rows x 7 columns]"
            ]
          },
          "metadata": {
            "tags": []
          },
          "execution_count": 42
        }
      ]
    },
    {
      "cell_type": "code",
      "metadata": {
        "id": "DpFbp2uqRUAT"
      },
      "source": [
        "data_items['order_item_id'].value_counts()"
      ],
      "execution_count": null,
      "outputs": []
    },
    {
      "cell_type": "code",
      "metadata": {
        "colab": {
          "base_uri": "https://localhost:8080/",
          "height": 231
        },
        "id": "1B0_wgE4jYR0",
        "outputId": "4061ca7f-bad3-4e1a-d93b-908f4a99ef62"
      },
      "source": [
        "data_reviews.head()"
      ],
      "execution_count": null,
      "outputs": [
        {
          "output_type": "execute_result",
          "data": {
            "text/html": [
              "<div>\n",
              "<style scoped>\n",
              "    .dataframe tbody tr th:only-of-type {\n",
              "        vertical-align: middle;\n",
              "    }\n",
              "\n",
              "    .dataframe tbody tr th {\n",
              "        vertical-align: top;\n",
              "    }\n",
              "\n",
              "    .dataframe thead th {\n",
              "        text-align: right;\n",
              "    }\n",
              "</style>\n",
              "<table border=\"1\" class=\"dataframe\">\n",
              "  <thead>\n",
              "    <tr style=\"text-align: right;\">\n",
              "      <th></th>\n",
              "      <th>review_id</th>\n",
              "      <th>order_id</th>\n",
              "      <th>review_score</th>\n",
              "      <th>review_comment_title</th>\n",
              "      <th>review_comment_message</th>\n",
              "      <th>review_creation_date</th>\n",
              "      <th>review_answer_timestamp</th>\n",
              "    </tr>\n",
              "  </thead>\n",
              "  <tbody>\n",
              "    <tr>\n",
              "      <th>0</th>\n",
              "      <td>7bc2406110b926393aa56f80a40eba40</td>\n",
              "      <td>73fc7af87114b39712e6da79b0a377eb</td>\n",
              "      <td>4</td>\n",
              "      <td>NaN</td>\n",
              "      <td>NaN</td>\n",
              "      <td>2018-01-18 00:00:00</td>\n",
              "      <td>2018-01-18 21:46:59</td>\n",
              "    </tr>\n",
              "    <tr>\n",
              "      <th>1</th>\n",
              "      <td>80e641a11e56f04c1ad469d5645fdfde</td>\n",
              "      <td>a548910a1c6147796b98fdf73dbeba33</td>\n",
              "      <td>5</td>\n",
              "      <td>NaN</td>\n",
              "      <td>NaN</td>\n",
              "      <td>2018-03-10 00:00:00</td>\n",
              "      <td>2018-03-11 03:05:13</td>\n",
              "    </tr>\n",
              "    <tr>\n",
              "      <th>2</th>\n",
              "      <td>228ce5500dc1d8e020d8d1322874b6f0</td>\n",
              "      <td>f9e4b658b201a9f2ecdecbb34bed034b</td>\n",
              "      <td>5</td>\n",
              "      <td>NaN</td>\n",
              "      <td>NaN</td>\n",
              "      <td>2018-02-17 00:00:00</td>\n",
              "      <td>2018-02-18 14:36:24</td>\n",
              "    </tr>\n",
              "    <tr>\n",
              "      <th>3</th>\n",
              "      <td>e64fb393e7b32834bb789ff8bb30750e</td>\n",
              "      <td>658677c97b385a9be170737859d3511b</td>\n",
              "      <td>5</td>\n",
              "      <td>NaN</td>\n",
              "      <td>Recebi bem antes do prazo estipulado.</td>\n",
              "      <td>2017-04-21 00:00:00</td>\n",
              "      <td>2017-04-21 22:02:06</td>\n",
              "    </tr>\n",
              "    <tr>\n",
              "      <th>4</th>\n",
              "      <td>f7c4243c7fe1938f181bec41a392bdeb</td>\n",
              "      <td>8e6bfb81e283fa7e4f11123a3fb894f1</td>\n",
              "      <td>5</td>\n",
              "      <td>NaN</td>\n",
              "      <td>Parabéns lojas lannister adorei comprar pela I...</td>\n",
              "      <td>2018-03-01 00:00:00</td>\n",
              "      <td>2018-03-02 10:26:53</td>\n",
              "    </tr>\n",
              "  </tbody>\n",
              "</table>\n",
              "</div>"
            ],
            "text/plain": [
              "                          review_id  ... review_answer_timestamp\n",
              "0  7bc2406110b926393aa56f80a40eba40  ...     2018-01-18 21:46:59\n",
              "1  80e641a11e56f04c1ad469d5645fdfde  ...     2018-03-11 03:05:13\n",
              "2  228ce5500dc1d8e020d8d1322874b6f0  ...     2018-02-18 14:36:24\n",
              "3  e64fb393e7b32834bb789ff8bb30750e  ...     2017-04-21 22:02:06\n",
              "4  f7c4243c7fe1938f181bec41a392bdeb  ...     2018-03-02 10:26:53\n",
              "\n",
              "[5 rows x 7 columns]"
            ]
          },
          "metadata": {
            "tags": []
          },
          "execution_count": 25
        }
      ]
    },
    {
      "cell_type": "code",
      "metadata": {
        "colab": {
          "base_uri": "https://localhost:8080/"
        },
        "id": "GJ8jdsRJj_5P",
        "outputId": "068eb9c6-83a0-47cb-8994-aa1f9e775ace"
      },
      "source": [
        "data_reviews.shape"
      ],
      "execution_count": null,
      "outputs": [
        {
          "output_type": "execute_result",
          "data": {
            "text/plain": [
              "(100000, 7)"
            ]
          },
          "metadata": {
            "tags": []
          },
          "execution_count": 30
        }
      ]
    },
    {
      "cell_type": "code",
      "metadata": {
        "colab": {
          "base_uri": "https://localhost:8080/"
        },
        "id": "auZi7D-Xki2I",
        "outputId": "dd6cd3d6-a088-475d-f349-be2d18a36ee7"
      },
      "source": [
        "data_payments.isna().sum()"
      ],
      "execution_count": null,
      "outputs": [
        {
          "output_type": "execute_result",
          "data": {
            "text/plain": [
              "order_id                0\n",
              "payment_sequential      0\n",
              "payment_type            0\n",
              "payment_installments    0\n",
              "payment_value           0\n",
              "dtype: int64"
            ]
          },
          "metadata": {
            "tags": []
          },
          "execution_count": 44
        }
      ]
    },
    {
      "cell_type": "markdown",
      "metadata": {
        "id": "XngNEQxzq7bU"
      },
      "source": [
        "In order to get a better sight of the variables in each datset, we are going to create a tablea which gathers all the useful informations\n",
        "\n",
        "- data type\t\n",
        "- unique values\n",
        "- Nans percentage\n",
        "- shape"
      ]
    },
    {
      "cell_type": "code",
      "metadata": {
        "id": "jjfDbxx6Iezl"
      },
      "source": [
        "dict_data={'orders':data_orders,'items':data_items,'products':data_products,'payments':data_payments,'sellers':data_sellers,\n",
        "           'reviews':data_reviews,'geo_localisation':data_geo,'categories':data_category,'customers':data_customers}\n",
        "tableau=pd.DataFrame()\n",
        "for data in dict_data:\n",
        "  types=dict_data[data].dtypes\n",
        "  for index,value in zip(types.index.tolist(),types.values.tolist()):\n",
        "    tableau=tableau.append(pd.DataFrame({\n",
        "        'dataset':data,\n",
        "        'columns':index,\n",
        "        'data_type':value,\n",
        "        'nunique':[dict_data[data][index].nunique()],\n",
        "        'nan_percentage':[round((dict_data[data][index].isna().sum()/len(dict_data[data][index]))*100)],\n",
        "        'shape':[dict_data[data].shape]\n",
        "    }))\n",
        "\n",
        "tableau.reset_index(drop=False,inplace=True)\n",
        "tableau.drop('index',axis=1,inplace=True)\n",
        "\n"
      ],
      "execution_count": null,
      "outputs": []
    },
    {
      "cell_type": "code",
      "metadata": {
        "colab": {
          "base_uri": "https://localhost:8080/",
          "height": 1000
        },
        "id": "M8v0v-0Vhgby",
        "outputId": "cccc929a-9ec5-417e-d137-32fe69342b3a"
      },
      "source": [
        "tableau"
      ],
      "execution_count": null,
      "outputs": [
        {
          "output_type": "execute_result",
          "data": {
            "text/html": [
              "<div>\n",
              "<style scoped>\n",
              "    .dataframe tbody tr th:only-of-type {\n",
              "        vertical-align: middle;\n",
              "    }\n",
              "\n",
              "    .dataframe tbody tr th {\n",
              "        vertical-align: top;\n",
              "    }\n",
              "\n",
              "    .dataframe thead th {\n",
              "        text-align: right;\n",
              "    }\n",
              "</style>\n",
              "<table border=\"1\" class=\"dataframe\">\n",
              "  <thead>\n",
              "    <tr style=\"text-align: right;\">\n",
              "      <th></th>\n",
              "      <th>dataset</th>\n",
              "      <th>columns</th>\n",
              "      <th>data_type</th>\n",
              "      <th>nunique</th>\n",
              "      <th>nan_percentage</th>\n",
              "      <th>shape</th>\n",
              "    </tr>\n",
              "  </thead>\n",
              "  <tbody>\n",
              "    <tr>\n",
              "      <th>0</th>\n",
              "      <td>orders</td>\n",
              "      <td>order_id</td>\n",
              "      <td>object</td>\n",
              "      <td>99441</td>\n",
              "      <td>0</td>\n",
              "      <td>(99441, 8)</td>\n",
              "    </tr>\n",
              "    <tr>\n",
              "      <th>1</th>\n",
              "      <td>orders</td>\n",
              "      <td>customer_id</td>\n",
              "      <td>object</td>\n",
              "      <td>99441</td>\n",
              "      <td>0</td>\n",
              "      <td>(99441, 8)</td>\n",
              "    </tr>\n",
              "    <tr>\n",
              "      <th>2</th>\n",
              "      <td>orders</td>\n",
              "      <td>order_status</td>\n",
              "      <td>object</td>\n",
              "      <td>8</td>\n",
              "      <td>0</td>\n",
              "      <td>(99441, 8)</td>\n",
              "    </tr>\n",
              "    <tr>\n",
              "      <th>3</th>\n",
              "      <td>orders</td>\n",
              "      <td>order_purchase_timestamp</td>\n",
              "      <td>object</td>\n",
              "      <td>98875</td>\n",
              "      <td>0</td>\n",
              "      <td>(99441, 8)</td>\n",
              "    </tr>\n",
              "    <tr>\n",
              "      <th>4</th>\n",
              "      <td>orders</td>\n",
              "      <td>order_approved_at</td>\n",
              "      <td>object</td>\n",
              "      <td>90733</td>\n",
              "      <td>0</td>\n",
              "      <td>(99441, 8)</td>\n",
              "    </tr>\n",
              "    <tr>\n",
              "      <th>5</th>\n",
              "      <td>orders</td>\n",
              "      <td>order_delivered_carrier_date</td>\n",
              "      <td>object</td>\n",
              "      <td>81018</td>\n",
              "      <td>2</td>\n",
              "      <td>(99441, 8)</td>\n",
              "    </tr>\n",
              "    <tr>\n",
              "      <th>6</th>\n",
              "      <td>orders</td>\n",
              "      <td>order_delivered_customer_date</td>\n",
              "      <td>object</td>\n",
              "      <td>95664</td>\n",
              "      <td>3</td>\n",
              "      <td>(99441, 8)</td>\n",
              "    </tr>\n",
              "    <tr>\n",
              "      <th>7</th>\n",
              "      <td>orders</td>\n",
              "      <td>order_estimated_delivery_date</td>\n",
              "      <td>object</td>\n",
              "      <td>459</td>\n",
              "      <td>0</td>\n",
              "      <td>(99441, 8)</td>\n",
              "    </tr>\n",
              "    <tr>\n",
              "      <th>8</th>\n",
              "      <td>items</td>\n",
              "      <td>order_id</td>\n",
              "      <td>object</td>\n",
              "      <td>98666</td>\n",
              "      <td>0</td>\n",
              "      <td>(112650, 7)</td>\n",
              "    </tr>\n",
              "    <tr>\n",
              "      <th>9</th>\n",
              "      <td>items</td>\n",
              "      <td>order_item_id</td>\n",
              "      <td>int64</td>\n",
              "      <td>21</td>\n",
              "      <td>0</td>\n",
              "      <td>(112650, 7)</td>\n",
              "    </tr>\n",
              "    <tr>\n",
              "      <th>10</th>\n",
              "      <td>items</td>\n",
              "      <td>product_id</td>\n",
              "      <td>object</td>\n",
              "      <td>32951</td>\n",
              "      <td>0</td>\n",
              "      <td>(112650, 7)</td>\n",
              "    </tr>\n",
              "    <tr>\n",
              "      <th>11</th>\n",
              "      <td>items</td>\n",
              "      <td>seller_id</td>\n",
              "      <td>object</td>\n",
              "      <td>3095</td>\n",
              "      <td>0</td>\n",
              "      <td>(112650, 7)</td>\n",
              "    </tr>\n",
              "    <tr>\n",
              "      <th>12</th>\n",
              "      <td>items</td>\n",
              "      <td>shipping_limit_date</td>\n",
              "      <td>object</td>\n",
              "      <td>93318</td>\n",
              "      <td>0</td>\n",
              "      <td>(112650, 7)</td>\n",
              "    </tr>\n",
              "    <tr>\n",
              "      <th>13</th>\n",
              "      <td>items</td>\n",
              "      <td>price</td>\n",
              "      <td>float64</td>\n",
              "      <td>5968</td>\n",
              "      <td>0</td>\n",
              "      <td>(112650, 7)</td>\n",
              "    </tr>\n",
              "    <tr>\n",
              "      <th>14</th>\n",
              "      <td>items</td>\n",
              "      <td>freight_value</td>\n",
              "      <td>float64</td>\n",
              "      <td>6999</td>\n",
              "      <td>0</td>\n",
              "      <td>(112650, 7)</td>\n",
              "    </tr>\n",
              "    <tr>\n",
              "      <th>15</th>\n",
              "      <td>products</td>\n",
              "      <td>product_id</td>\n",
              "      <td>object</td>\n",
              "      <td>32951</td>\n",
              "      <td>0</td>\n",
              "      <td>(32951, 9)</td>\n",
              "    </tr>\n",
              "    <tr>\n",
              "      <th>16</th>\n",
              "      <td>products</td>\n",
              "      <td>product_category_name</td>\n",
              "      <td>object</td>\n",
              "      <td>73</td>\n",
              "      <td>2</td>\n",
              "      <td>(32951, 9)</td>\n",
              "    </tr>\n",
              "    <tr>\n",
              "      <th>17</th>\n",
              "      <td>products</td>\n",
              "      <td>product_name_lenght</td>\n",
              "      <td>float64</td>\n",
              "      <td>66</td>\n",
              "      <td>2</td>\n",
              "      <td>(32951, 9)</td>\n",
              "    </tr>\n",
              "    <tr>\n",
              "      <th>18</th>\n",
              "      <td>products</td>\n",
              "      <td>product_description_lenght</td>\n",
              "      <td>float64</td>\n",
              "      <td>2960</td>\n",
              "      <td>2</td>\n",
              "      <td>(32951, 9)</td>\n",
              "    </tr>\n",
              "    <tr>\n",
              "      <th>19</th>\n",
              "      <td>products</td>\n",
              "      <td>product_photos_qty</td>\n",
              "      <td>float64</td>\n",
              "      <td>19</td>\n",
              "      <td>2</td>\n",
              "      <td>(32951, 9)</td>\n",
              "    </tr>\n",
              "    <tr>\n",
              "      <th>20</th>\n",
              "      <td>products</td>\n",
              "      <td>product_weight_g</td>\n",
              "      <td>float64</td>\n",
              "      <td>2204</td>\n",
              "      <td>0</td>\n",
              "      <td>(32951, 9)</td>\n",
              "    </tr>\n",
              "    <tr>\n",
              "      <th>21</th>\n",
              "      <td>products</td>\n",
              "      <td>product_length_cm</td>\n",
              "      <td>float64</td>\n",
              "      <td>99</td>\n",
              "      <td>0</td>\n",
              "      <td>(32951, 9)</td>\n",
              "    </tr>\n",
              "    <tr>\n",
              "      <th>22</th>\n",
              "      <td>products</td>\n",
              "      <td>product_height_cm</td>\n",
              "      <td>float64</td>\n",
              "      <td>102</td>\n",
              "      <td>0</td>\n",
              "      <td>(32951, 9)</td>\n",
              "    </tr>\n",
              "    <tr>\n",
              "      <th>23</th>\n",
              "      <td>products</td>\n",
              "      <td>product_width_cm</td>\n",
              "      <td>float64</td>\n",
              "      <td>95</td>\n",
              "      <td>0</td>\n",
              "      <td>(32951, 9)</td>\n",
              "    </tr>\n",
              "    <tr>\n",
              "      <th>24</th>\n",
              "      <td>payments</td>\n",
              "      <td>order_id</td>\n",
              "      <td>object</td>\n",
              "      <td>99440</td>\n",
              "      <td>0</td>\n",
              "      <td>(103886, 5)</td>\n",
              "    </tr>\n",
              "    <tr>\n",
              "      <th>25</th>\n",
              "      <td>payments</td>\n",
              "      <td>payment_sequential</td>\n",
              "      <td>int64</td>\n",
              "      <td>29</td>\n",
              "      <td>0</td>\n",
              "      <td>(103886, 5)</td>\n",
              "    </tr>\n",
              "    <tr>\n",
              "      <th>26</th>\n",
              "      <td>payments</td>\n",
              "      <td>payment_type</td>\n",
              "      <td>object</td>\n",
              "      <td>5</td>\n",
              "      <td>0</td>\n",
              "      <td>(103886, 5)</td>\n",
              "    </tr>\n",
              "    <tr>\n",
              "      <th>27</th>\n",
              "      <td>payments</td>\n",
              "      <td>payment_installments</td>\n",
              "      <td>int64</td>\n",
              "      <td>24</td>\n",
              "      <td>0</td>\n",
              "      <td>(103886, 5)</td>\n",
              "    </tr>\n",
              "    <tr>\n",
              "      <th>28</th>\n",
              "      <td>payments</td>\n",
              "      <td>payment_value</td>\n",
              "      <td>float64</td>\n",
              "      <td>29077</td>\n",
              "      <td>0</td>\n",
              "      <td>(103886, 5)</td>\n",
              "    </tr>\n",
              "    <tr>\n",
              "      <th>29</th>\n",
              "      <td>sellers</td>\n",
              "      <td>seller_id</td>\n",
              "      <td>object</td>\n",
              "      <td>3095</td>\n",
              "      <td>0</td>\n",
              "      <td>(3095, 4)</td>\n",
              "    </tr>\n",
              "    <tr>\n",
              "      <th>30</th>\n",
              "      <td>sellers</td>\n",
              "      <td>seller_zip_code_prefix</td>\n",
              "      <td>int64</td>\n",
              "      <td>2246</td>\n",
              "      <td>0</td>\n",
              "      <td>(3095, 4)</td>\n",
              "    </tr>\n",
              "    <tr>\n",
              "      <th>31</th>\n",
              "      <td>sellers</td>\n",
              "      <td>seller_city</td>\n",
              "      <td>object</td>\n",
              "      <td>611</td>\n",
              "      <td>0</td>\n",
              "      <td>(3095, 4)</td>\n",
              "    </tr>\n",
              "    <tr>\n",
              "      <th>32</th>\n",
              "      <td>sellers</td>\n",
              "      <td>seller_state</td>\n",
              "      <td>object</td>\n",
              "      <td>23</td>\n",
              "      <td>0</td>\n",
              "      <td>(3095, 4)</td>\n",
              "    </tr>\n",
              "    <tr>\n",
              "      <th>33</th>\n",
              "      <td>reviews</td>\n",
              "      <td>review_id</td>\n",
              "      <td>object</td>\n",
              "      <td>99173</td>\n",
              "      <td>0</td>\n",
              "      <td>(100000, 7)</td>\n",
              "    </tr>\n",
              "    <tr>\n",
              "      <th>34</th>\n",
              "      <td>reviews</td>\n",
              "      <td>order_id</td>\n",
              "      <td>object</td>\n",
              "      <td>99441</td>\n",
              "      <td>0</td>\n",
              "      <td>(100000, 7)</td>\n",
              "    </tr>\n",
              "    <tr>\n",
              "      <th>35</th>\n",
              "      <td>reviews</td>\n",
              "      <td>review_score</td>\n",
              "      <td>int64</td>\n",
              "      <td>5</td>\n",
              "      <td>0</td>\n",
              "      <td>(100000, 7)</td>\n",
              "    </tr>\n",
              "    <tr>\n",
              "      <th>36</th>\n",
              "      <td>reviews</td>\n",
              "      <td>review_comment_title</td>\n",
              "      <td>object</td>\n",
              "      <td>4600</td>\n",
              "      <td>88</td>\n",
              "      <td>(100000, 7)</td>\n",
              "    </tr>\n",
              "    <tr>\n",
              "      <th>37</th>\n",
              "      <td>reviews</td>\n",
              "      <td>review_comment_message</td>\n",
              "      <td>object</td>\n",
              "      <td>36921</td>\n",
              "      <td>58</td>\n",
              "      <td>(100000, 7)</td>\n",
              "    </tr>\n",
              "    <tr>\n",
              "      <th>38</th>\n",
              "      <td>reviews</td>\n",
              "      <td>review_creation_date</td>\n",
              "      <td>object</td>\n",
              "      <td>637</td>\n",
              "      <td>0</td>\n",
              "      <td>(100000, 7)</td>\n",
              "    </tr>\n",
              "    <tr>\n",
              "      <th>39</th>\n",
              "      <td>reviews</td>\n",
              "      <td>review_answer_timestamp</td>\n",
              "      <td>object</td>\n",
              "      <td>99010</td>\n",
              "      <td>0</td>\n",
              "      <td>(100000, 7)</td>\n",
              "    </tr>\n",
              "    <tr>\n",
              "      <th>40</th>\n",
              "      <td>geo_localisation</td>\n",
              "      <td>geolocation_zip_code_prefix</td>\n",
              "      <td>int64</td>\n",
              "      <td>19015</td>\n",
              "      <td>0</td>\n",
              "      <td>(1000163, 5)</td>\n",
              "    </tr>\n",
              "    <tr>\n",
              "      <th>41</th>\n",
              "      <td>geo_localisation</td>\n",
              "      <td>geolocation_lat</td>\n",
              "      <td>float64</td>\n",
              "      <td>717358</td>\n",
              "      <td>0</td>\n",
              "      <td>(1000163, 5)</td>\n",
              "    </tr>\n",
              "    <tr>\n",
              "      <th>42</th>\n",
              "      <td>geo_localisation</td>\n",
              "      <td>geolocation_lng</td>\n",
              "      <td>float64</td>\n",
              "      <td>717613</td>\n",
              "      <td>0</td>\n",
              "      <td>(1000163, 5)</td>\n",
              "    </tr>\n",
              "    <tr>\n",
              "      <th>43</th>\n",
              "      <td>geo_localisation</td>\n",
              "      <td>geolocation_city</td>\n",
              "      <td>object</td>\n",
              "      <td>8011</td>\n",
              "      <td>0</td>\n",
              "      <td>(1000163, 5)</td>\n",
              "    </tr>\n",
              "    <tr>\n",
              "      <th>44</th>\n",
              "      <td>geo_localisation</td>\n",
              "      <td>geolocation_state</td>\n",
              "      <td>object</td>\n",
              "      <td>27</td>\n",
              "      <td>0</td>\n",
              "      <td>(1000163, 5)</td>\n",
              "    </tr>\n",
              "    <tr>\n",
              "      <th>45</th>\n",
              "      <td>categories</td>\n",
              "      <td>product_category_name</td>\n",
              "      <td>object</td>\n",
              "      <td>71</td>\n",
              "      <td>0</td>\n",
              "      <td>(71, 2)</td>\n",
              "    </tr>\n",
              "    <tr>\n",
              "      <th>46</th>\n",
              "      <td>categories</td>\n",
              "      <td>product_category_name_english</td>\n",
              "      <td>object</td>\n",
              "      <td>71</td>\n",
              "      <td>0</td>\n",
              "      <td>(71, 2)</td>\n",
              "    </tr>\n",
              "    <tr>\n",
              "      <th>47</th>\n",
              "      <td>customers</td>\n",
              "      <td>customer_id</td>\n",
              "      <td>object</td>\n",
              "      <td>99441</td>\n",
              "      <td>0</td>\n",
              "      <td>(99441, 5)</td>\n",
              "    </tr>\n",
              "    <tr>\n",
              "      <th>48</th>\n",
              "      <td>customers</td>\n",
              "      <td>customer_unique_id</td>\n",
              "      <td>object</td>\n",
              "      <td>96096</td>\n",
              "      <td>0</td>\n",
              "      <td>(99441, 5)</td>\n",
              "    </tr>\n",
              "    <tr>\n",
              "      <th>49</th>\n",
              "      <td>customers</td>\n",
              "      <td>customer_zip_code_prefix</td>\n",
              "      <td>int64</td>\n",
              "      <td>14994</td>\n",
              "      <td>0</td>\n",
              "      <td>(99441, 5)</td>\n",
              "    </tr>\n",
              "    <tr>\n",
              "      <th>50</th>\n",
              "      <td>customers</td>\n",
              "      <td>customer_city</td>\n",
              "      <td>object</td>\n",
              "      <td>4119</td>\n",
              "      <td>0</td>\n",
              "      <td>(99441, 5)</td>\n",
              "    </tr>\n",
              "    <tr>\n",
              "      <th>51</th>\n",
              "      <td>customers</td>\n",
              "      <td>customer_state</td>\n",
              "      <td>object</td>\n",
              "      <td>27</td>\n",
              "      <td>0</td>\n",
              "      <td>(99441, 5)</td>\n",
              "    </tr>\n",
              "  </tbody>\n",
              "</table>\n",
              "</div>"
            ],
            "text/plain": [
              "             dataset  ...         shape\n",
              "0             orders  ...    (99441, 8)\n",
              "1             orders  ...    (99441, 8)\n",
              "2             orders  ...    (99441, 8)\n",
              "3             orders  ...    (99441, 8)\n",
              "4             orders  ...    (99441, 8)\n",
              "5             orders  ...    (99441, 8)\n",
              "6             orders  ...    (99441, 8)\n",
              "7             orders  ...    (99441, 8)\n",
              "8              items  ...   (112650, 7)\n",
              "9              items  ...   (112650, 7)\n",
              "10             items  ...   (112650, 7)\n",
              "11             items  ...   (112650, 7)\n",
              "12             items  ...   (112650, 7)\n",
              "13             items  ...   (112650, 7)\n",
              "14             items  ...   (112650, 7)\n",
              "15          products  ...    (32951, 9)\n",
              "16          products  ...    (32951, 9)\n",
              "17          products  ...    (32951, 9)\n",
              "18          products  ...    (32951, 9)\n",
              "19          products  ...    (32951, 9)\n",
              "20          products  ...    (32951, 9)\n",
              "21          products  ...    (32951, 9)\n",
              "22          products  ...    (32951, 9)\n",
              "23          products  ...    (32951, 9)\n",
              "24          payments  ...   (103886, 5)\n",
              "25          payments  ...   (103886, 5)\n",
              "26          payments  ...   (103886, 5)\n",
              "27          payments  ...   (103886, 5)\n",
              "28          payments  ...   (103886, 5)\n",
              "29           sellers  ...     (3095, 4)\n",
              "30           sellers  ...     (3095, 4)\n",
              "31           sellers  ...     (3095, 4)\n",
              "32           sellers  ...     (3095, 4)\n",
              "33           reviews  ...   (100000, 7)\n",
              "34           reviews  ...   (100000, 7)\n",
              "35           reviews  ...   (100000, 7)\n",
              "36           reviews  ...   (100000, 7)\n",
              "37           reviews  ...   (100000, 7)\n",
              "38           reviews  ...   (100000, 7)\n",
              "39           reviews  ...   (100000, 7)\n",
              "40  geo_localisation  ...  (1000163, 5)\n",
              "41  geo_localisation  ...  (1000163, 5)\n",
              "42  geo_localisation  ...  (1000163, 5)\n",
              "43  geo_localisation  ...  (1000163, 5)\n",
              "44  geo_localisation  ...  (1000163, 5)\n",
              "45        categories  ...       (71, 2)\n",
              "46        categories  ...       (71, 2)\n",
              "47         customers  ...    (99441, 5)\n",
              "48         customers  ...    (99441, 5)\n",
              "49         customers  ...    (99441, 5)\n",
              "50         customers  ...    (99441, 5)\n",
              "51         customers  ...    (99441, 5)\n",
              "\n",
              "[52 rows x 6 columns]"
            ]
          },
          "metadata": {
            "tags": []
          },
          "execution_count": 4
        }
      ]
    },
    {
      "cell_type": "markdown",
      "metadata": {
        "id": "97ZDa0N3rpw-"
      },
      "source": [
        "Next, we are going to check the values range in each dataset variable"
      ]
    },
    {
      "cell_type": "code",
      "metadata": {
        "id": "zq2_qgFhRe6x"
      },
      "source": [
        "def check_values(dict_df):\n",
        "\n",
        "  result=pd.DataFrame()\n",
        "  for data in dict_df:\n",
        "    numeric_col=dict_df[data].select_dtypes(include=np.number).columns.tolist()\n",
        "    for col in numeric_col:\n",
        "      result=result.append(pd.DataFrame({\n",
        "        'dataset':data,\n",
        "        'columns':col,\n",
        "        'Min_value':[dict_df[data][col].min()],\n",
        "        'Max_value':[dict_df[data][col].max()],\n",
        "        'Mean_value':[dict_df[data][col].mean()],\n",
        "        'Q1_value':[dict_df[data][col].quantile(0.25)],\n",
        "        'Q3_value':[dict_df[data][col].quantile(0.75)]\n",
        "        \n",
        "      }))\n",
        "\n",
        "  return result"
      ],
      "execution_count": null,
      "outputs": []
    },
    {
      "cell_type": "code",
      "metadata": {
        "colab": {
          "base_uri": "https://localhost:8080/",
          "height": 617
        },
        "id": "pm2AqkVnTNJh",
        "outputId": "59f66d26-1d73-4e9f-9e3e-fb48c7ef7df0"
      },
      "source": [
        "check_values(dict_data)"
      ],
      "execution_count": null,
      "outputs": [
        {
          "output_type": "execute_result",
          "data": {
            "text/html": [
              "<div>\n",
              "<style scoped>\n",
              "    .dataframe tbody tr th:only-of-type {\n",
              "        vertical-align: middle;\n",
              "    }\n",
              "\n",
              "    .dataframe tbody tr th {\n",
              "        vertical-align: top;\n",
              "    }\n",
              "\n",
              "    .dataframe thead th {\n",
              "        text-align: right;\n",
              "    }\n",
              "</style>\n",
              "<table border=\"1\" class=\"dataframe\">\n",
              "  <thead>\n",
              "    <tr style=\"text-align: right;\">\n",
              "      <th></th>\n",
              "      <th>dataset</th>\n",
              "      <th>columns</th>\n",
              "      <th>Min_value</th>\n",
              "      <th>Max_value</th>\n",
              "      <th>Mean_value</th>\n",
              "      <th>Q1_value</th>\n",
              "      <th>Q3_value</th>\n",
              "    </tr>\n",
              "  </thead>\n",
              "  <tbody>\n",
              "    <tr>\n",
              "      <th>0</th>\n",
              "      <td>items</td>\n",
              "      <td>order_item_id</td>\n",
              "      <td>1.000000</td>\n",
              "      <td>21.000000</td>\n",
              "      <td>1.197834</td>\n",
              "      <td>1.000000</td>\n",
              "      <td>1.000000</td>\n",
              "    </tr>\n",
              "    <tr>\n",
              "      <th>0</th>\n",
              "      <td>items</td>\n",
              "      <td>price</td>\n",
              "      <td>0.850000</td>\n",
              "      <td>6735.000000</td>\n",
              "      <td>120.653739</td>\n",
              "      <td>39.900000</td>\n",
              "      <td>134.900000</td>\n",
              "    </tr>\n",
              "    <tr>\n",
              "      <th>0</th>\n",
              "      <td>items</td>\n",
              "      <td>freight_value</td>\n",
              "      <td>0.000000</td>\n",
              "      <td>409.680000</td>\n",
              "      <td>19.990320</td>\n",
              "      <td>13.080000</td>\n",
              "      <td>21.150000</td>\n",
              "    </tr>\n",
              "    <tr>\n",
              "      <th>0</th>\n",
              "      <td>products</td>\n",
              "      <td>product_name_lenght</td>\n",
              "      <td>5.000000</td>\n",
              "      <td>76.000000</td>\n",
              "      <td>48.476949</td>\n",
              "      <td>42.000000</td>\n",
              "      <td>57.000000</td>\n",
              "    </tr>\n",
              "    <tr>\n",
              "      <th>0</th>\n",
              "      <td>products</td>\n",
              "      <td>product_description_lenght</td>\n",
              "      <td>4.000000</td>\n",
              "      <td>3992.000000</td>\n",
              "      <td>771.495285</td>\n",
              "      <td>339.000000</td>\n",
              "      <td>972.000000</td>\n",
              "    </tr>\n",
              "    <tr>\n",
              "      <th>0</th>\n",
              "      <td>products</td>\n",
              "      <td>product_photos_qty</td>\n",
              "      <td>1.000000</td>\n",
              "      <td>20.000000</td>\n",
              "      <td>2.188986</td>\n",
              "      <td>1.000000</td>\n",
              "      <td>3.000000</td>\n",
              "    </tr>\n",
              "    <tr>\n",
              "      <th>0</th>\n",
              "      <td>products</td>\n",
              "      <td>product_weight_g</td>\n",
              "      <td>0.000000</td>\n",
              "      <td>40425.000000</td>\n",
              "      <td>2276.472488</td>\n",
              "      <td>300.000000</td>\n",
              "      <td>1900.000000</td>\n",
              "    </tr>\n",
              "    <tr>\n",
              "      <th>0</th>\n",
              "      <td>products</td>\n",
              "      <td>product_length_cm</td>\n",
              "      <td>7.000000</td>\n",
              "      <td>105.000000</td>\n",
              "      <td>30.815078</td>\n",
              "      <td>18.000000</td>\n",
              "      <td>38.000000</td>\n",
              "    </tr>\n",
              "    <tr>\n",
              "      <th>0</th>\n",
              "      <td>products</td>\n",
              "      <td>product_height_cm</td>\n",
              "      <td>2.000000</td>\n",
              "      <td>105.000000</td>\n",
              "      <td>16.937661</td>\n",
              "      <td>8.000000</td>\n",
              "      <td>21.000000</td>\n",
              "    </tr>\n",
              "    <tr>\n",
              "      <th>0</th>\n",
              "      <td>products</td>\n",
              "      <td>product_width_cm</td>\n",
              "      <td>6.000000</td>\n",
              "      <td>118.000000</td>\n",
              "      <td>23.196728</td>\n",
              "      <td>15.000000</td>\n",
              "      <td>30.000000</td>\n",
              "    </tr>\n",
              "    <tr>\n",
              "      <th>0</th>\n",
              "      <td>payments</td>\n",
              "      <td>payment_sequential</td>\n",
              "      <td>1.000000</td>\n",
              "      <td>29.000000</td>\n",
              "      <td>1.092679</td>\n",
              "      <td>1.000000</td>\n",
              "      <td>1.000000</td>\n",
              "    </tr>\n",
              "    <tr>\n",
              "      <th>0</th>\n",
              "      <td>payments</td>\n",
              "      <td>payment_installments</td>\n",
              "      <td>0.000000</td>\n",
              "      <td>24.000000</td>\n",
              "      <td>2.853349</td>\n",
              "      <td>1.000000</td>\n",
              "      <td>4.000000</td>\n",
              "    </tr>\n",
              "    <tr>\n",
              "      <th>0</th>\n",
              "      <td>payments</td>\n",
              "      <td>payment_value</td>\n",
              "      <td>0.000000</td>\n",
              "      <td>13664.080000</td>\n",
              "      <td>154.100380</td>\n",
              "      <td>56.790000</td>\n",
              "      <td>171.837500</td>\n",
              "    </tr>\n",
              "    <tr>\n",
              "      <th>0</th>\n",
              "      <td>sellers</td>\n",
              "      <td>seller_zip_code_prefix</td>\n",
              "      <td>1001.000000</td>\n",
              "      <td>99730.000000</td>\n",
              "      <td>32291.059451</td>\n",
              "      <td>7093.500000</td>\n",
              "      <td>64552.500000</td>\n",
              "    </tr>\n",
              "    <tr>\n",
              "      <th>0</th>\n",
              "      <td>reviews</td>\n",
              "      <td>review_score</td>\n",
              "      <td>1.000000</td>\n",
              "      <td>5.000000</td>\n",
              "      <td>4.070890</td>\n",
              "      <td>4.000000</td>\n",
              "      <td>5.000000</td>\n",
              "    </tr>\n",
              "    <tr>\n",
              "      <th>0</th>\n",
              "      <td>geo_localisation</td>\n",
              "      <td>geolocation_zip_code_prefix</td>\n",
              "      <td>1001.000000</td>\n",
              "      <td>99990.000000</td>\n",
              "      <td>36574.166466</td>\n",
              "      <td>11075.000000</td>\n",
              "      <td>63504.000000</td>\n",
              "    </tr>\n",
              "    <tr>\n",
              "      <th>0</th>\n",
              "      <td>geo_localisation</td>\n",
              "      <td>geolocation_lat</td>\n",
              "      <td>-36.605374</td>\n",
              "      <td>45.065933</td>\n",
              "      <td>-21.176153</td>\n",
              "      <td>-23.603546</td>\n",
              "      <td>-19.979620</td>\n",
              "    </tr>\n",
              "    <tr>\n",
              "      <th>0</th>\n",
              "      <td>geo_localisation</td>\n",
              "      <td>geolocation_lng</td>\n",
              "      <td>-101.466766</td>\n",
              "      <td>121.105394</td>\n",
              "      <td>-46.390541</td>\n",
              "      <td>-48.573172</td>\n",
              "      <td>-43.767709</td>\n",
              "    </tr>\n",
              "    <tr>\n",
              "      <th>0</th>\n",
              "      <td>customers</td>\n",
              "      <td>customer_zip_code_prefix</td>\n",
              "      <td>1003.000000</td>\n",
              "      <td>99990.000000</td>\n",
              "      <td>35137.474583</td>\n",
              "      <td>11347.000000</td>\n",
              "      <td>58900.000000</td>\n",
              "    </tr>\n",
              "  </tbody>\n",
              "</table>\n",
              "</div>"
            ],
            "text/plain": [
              "            dataset                      columns  ...      Q1_value      Q3_value\n",
              "0             items                order_item_id  ...      1.000000      1.000000\n",
              "0             items                        price  ...     39.900000    134.900000\n",
              "0             items                freight_value  ...     13.080000     21.150000\n",
              "0          products          product_name_lenght  ...     42.000000     57.000000\n",
              "0          products   product_description_lenght  ...    339.000000    972.000000\n",
              "0          products           product_photos_qty  ...      1.000000      3.000000\n",
              "0          products             product_weight_g  ...    300.000000   1900.000000\n",
              "0          products            product_length_cm  ...     18.000000     38.000000\n",
              "0          products            product_height_cm  ...      8.000000     21.000000\n",
              "0          products             product_width_cm  ...     15.000000     30.000000\n",
              "0          payments           payment_sequential  ...      1.000000      1.000000\n",
              "0          payments         payment_installments  ...      1.000000      4.000000\n",
              "0          payments                payment_value  ...     56.790000    171.837500\n",
              "0           sellers       seller_zip_code_prefix  ...   7093.500000  64552.500000\n",
              "0           reviews                 review_score  ...      4.000000      5.000000\n",
              "0  geo_localisation  geolocation_zip_code_prefix  ...  11075.000000  63504.000000\n",
              "0  geo_localisation              geolocation_lat  ...    -23.603546    -19.979620\n",
              "0  geo_localisation              geolocation_lng  ...    -48.573172    -43.767709\n",
              "0         customers     customer_zip_code_prefix  ...  11347.000000  58900.000000\n",
              "\n",
              "[19 rows x 7 columns]"
            ]
          },
          "metadata": {
            "tags": []
          },
          "execution_count": 5
        }
      ]
    },
    {
      "cell_type": "markdown",
      "metadata": {
        "id": "mAQ7pTUpPzds"
      },
      "source": [
        "#### Observations\n",
        "\n",
        "**orders** : \n",
        "\n",
        "- 5 time features that we need to convert into a Timestamp Format\n",
        "- we have 8 order_status Categories\n",
        "\n",
        "**items** :\n",
        "\n",
        "- order_item_id: 21 ???\n",
        "- shipping_limit_date to covert (Timestamp)\n",
        "- check difference between order id count in orders and items\n",
        "\n",
        "**products** :\n",
        "\n",
        "- too much categories: mapping of categories\n",
        "\n",
        "**payments** :\n",
        "\n",
        "- 29 types of sequential payments seems a lot (outliers detection)\n",
        "- 24 payment instalmments (can be categorized)\n",
        "- check difference in order id count between payments and orders\n",
        "\n",
        "**customers** :\n",
        "\n",
        "- customers states to categorize\n",
        "\n",
        "- check customers unique id mentioned more than once\n",
        "\n",
        "**categories**\n",
        "\n",
        "- check the difference between products category(73) and categories (71)\n",
        "\n",
        "**geolocation** \n",
        "\n",
        "- use this feature to get the distance between the seller and customer"
      ]
    },
    {
      "cell_type": "markdown",
      "metadata": {
        "id": "E2IX6KLJjdVx"
      },
      "source": [
        "## **Data cleaning**"
      ]
    },
    {
      "cell_type": "markdown",
      "metadata": {
        "id": "Vg6JBAdHiRVK"
      },
      "source": [
        "### Orders"
      ]
    },
    {
      "cell_type": "code",
      "metadata": {
        "colab": {
          "base_uri": "https://localhost:8080/",
          "height": 217
        },
        "id": "GLcH-1TtiYfo",
        "outputId": "87006664-af61-41ca-9100-9dd6cdb7cedd"
      },
      "source": [
        "data_orders.head()"
      ],
      "execution_count": null,
      "outputs": [
        {
          "output_type": "execute_result",
          "data": {
            "text/html": [
              "<div>\n",
              "<style scoped>\n",
              "    .dataframe tbody tr th:only-of-type {\n",
              "        vertical-align: middle;\n",
              "    }\n",
              "\n",
              "    .dataframe tbody tr th {\n",
              "        vertical-align: top;\n",
              "    }\n",
              "\n",
              "    .dataframe thead th {\n",
              "        text-align: right;\n",
              "    }\n",
              "</style>\n",
              "<table border=\"1\" class=\"dataframe\">\n",
              "  <thead>\n",
              "    <tr style=\"text-align: right;\">\n",
              "      <th></th>\n",
              "      <th>order_id</th>\n",
              "      <th>customer_id</th>\n",
              "      <th>order_status</th>\n",
              "      <th>order_purchase_timestamp</th>\n",
              "      <th>order_approved_at</th>\n",
              "      <th>order_delivered_carrier_date</th>\n",
              "      <th>order_delivered_customer_date</th>\n",
              "      <th>order_estimated_delivery_date</th>\n",
              "      <th>purchased_hour</th>\n",
              "      <th>estimated_delivery_days</th>\n",
              "      <th>delivery_days</th>\n",
              "    </tr>\n",
              "  </thead>\n",
              "  <tbody>\n",
              "    <tr>\n",
              "      <th>0</th>\n",
              "      <td>e481f51cbdc54678b7cc49136f2d6af7</td>\n",
              "      <td>9ef432eb6251297304e76186b10a928d</td>\n",
              "      <td>delivered</td>\n",
              "      <td>2017-10-02 10:56:33</td>\n",
              "      <td>2017-10-02 11:07:15</td>\n",
              "      <td>2017-10-04 19:55:00</td>\n",
              "      <td>2017-10-10 21:25:13</td>\n",
              "      <td>2017-10-18</td>\n",
              "      <td>10</td>\n",
              "      <td>15</td>\n",
              "      <td>8.0</td>\n",
              "    </tr>\n",
              "    <tr>\n",
              "      <th>1</th>\n",
              "      <td>53cdb2fc8bc7dce0b6741e2150273451</td>\n",
              "      <td>b0830fb4747a6c6d20dea0b8c802d7ef</td>\n",
              "      <td>delivered</td>\n",
              "      <td>2018-07-24 20:41:37</td>\n",
              "      <td>2018-07-26 03:24:27</td>\n",
              "      <td>2018-07-26 14:31:00</td>\n",
              "      <td>2018-08-07 15:27:45</td>\n",
              "      <td>2018-08-13</td>\n",
              "      <td>20</td>\n",
              "      <td>19</td>\n",
              "      <td>13.0</td>\n",
              "    </tr>\n",
              "    <tr>\n",
              "      <th>2</th>\n",
              "      <td>47770eb9100c2d0c44946d9cf07ec65d</td>\n",
              "      <td>41ce2a54c0b03bf3443c3d931a367089</td>\n",
              "      <td>delivered</td>\n",
              "      <td>2018-08-08 08:38:49</td>\n",
              "      <td>2018-08-08 08:55:23</td>\n",
              "      <td>2018-08-08 13:50:00</td>\n",
              "      <td>2018-08-17 18:06:29</td>\n",
              "      <td>2018-09-04</td>\n",
              "      <td>8</td>\n",
              "      <td>26</td>\n",
              "      <td>9.0</td>\n",
              "    </tr>\n",
              "    <tr>\n",
              "      <th>3</th>\n",
              "      <td>949d5b44dbf5de918fe9c16f97b45f8a</td>\n",
              "      <td>f88197465ea7920adcdbec7375364d82</td>\n",
              "      <td>delivered</td>\n",
              "      <td>2017-11-18 19:28:06</td>\n",
              "      <td>2017-11-18 19:45:59</td>\n",
              "      <td>2017-11-22 13:39:59</td>\n",
              "      <td>2017-12-02 00:28:42</td>\n",
              "      <td>2017-12-15</td>\n",
              "      <td>19</td>\n",
              "      <td>26</td>\n",
              "      <td>13.0</td>\n",
              "    </tr>\n",
              "    <tr>\n",
              "      <th>4</th>\n",
              "      <td>ad21c59c0840e6cb83a9ceb5573f8159</td>\n",
              "      <td>8ab97904e6daea8866dbdbc4fb7aad2c</td>\n",
              "      <td>delivered</td>\n",
              "      <td>2018-02-13 21:18:39</td>\n",
              "      <td>2018-02-13 22:20:29</td>\n",
              "      <td>2018-02-14 19:46:34</td>\n",
              "      <td>2018-02-16 18:17:02</td>\n",
              "      <td>2018-02-26</td>\n",
              "      <td>21</td>\n",
              "      <td>12</td>\n",
              "      <td>2.0</td>\n",
              "    </tr>\n",
              "  </tbody>\n",
              "</table>\n",
              "</div>"
            ],
            "text/plain": [
              "                           order_id  ... delivery_days\n",
              "0  e481f51cbdc54678b7cc49136f2d6af7  ...           8.0\n",
              "1  53cdb2fc8bc7dce0b6741e2150273451  ...          13.0\n",
              "2  47770eb9100c2d0c44946d9cf07ec65d  ...           9.0\n",
              "3  949d5b44dbf5de918fe9c16f97b45f8a  ...          13.0\n",
              "4  ad21c59c0840e6cb83a9ceb5573f8159  ...           2.0\n",
              "\n",
              "[5 rows x 11 columns]"
            ]
          },
          "metadata": {
            "tags": []
          },
          "execution_count": 52
        }
      ]
    },
    {
      "cell_type": "markdown",
      "metadata": {
        "id": "LduMpmZvn24E"
      },
      "source": [
        "**order_purchase_timestamp** : this variable inform us about the customer convenience to purchase an item which will gave us an idea on when to advertise some products \n",
        "\n",
        "**order_approved_at** and **order_estimated_delivery_date** will gave us an idea on how the client respond to delivery time(long/short period)\n",
        "\n",
        "other carrier information could be useful in clients segmentation\n",
        "\n",
        "**Action**: add two features: \n",
        "\n",
        "- hour of the day on which the client passed the order\n",
        "\n",
        "- number of days between the purchase date and the estimated delivery \n",
        "\n",
        "- number of days betwwen the purchase date and the actual delivery"
      ]
    },
    {
      "cell_type": "code",
      "metadata": {
        "id": "82mhEoy1z3I8",
        "colab": {
          "base_uri": "https://localhost:8080/"
        },
        "outputId": "ce5bfc37-9f29-41ee-99d6-71648ccb4702"
      },
      "source": [
        "pip install pendulum"
      ],
      "execution_count": null,
      "outputs": [
        {
          "output_type": "stream",
          "text": [
            "Collecting pendulum\n",
            "\u001b[?25l  Downloading https://files.pythonhosted.org/packages/3e/40/bcf73cf69ffc4d68b80b68b5ce4e5f9d8185170e9fac65a73e247e948ff3/pendulum-2.1.2-cp37-cp37m-manylinux1_x86_64.whl (155kB)\n",
            "\u001b[K     |████████████████████████████████| 163kB 4.3MB/s \n",
            "\u001b[?25hRequirement already satisfied: python-dateutil<3.0,>=2.6 in /usr/local/lib/python3.7/dist-packages (from pendulum) (2.8.1)\n",
            "Collecting pytzdata>=2020.1\n",
            "\u001b[?25l  Downloading https://files.pythonhosted.org/packages/e0/4f/4474bda990ee740a020cbc3eb271925ef7daa7c8444240d34ff62c8442a3/pytzdata-2020.1-py2.py3-none-any.whl (489kB)\n",
            "\u001b[K     |████████████████████████████████| 491kB 5.7MB/s \n",
            "\u001b[?25hRequirement already satisfied: six>=1.5 in /usr/local/lib/python3.7/dist-packages (from python-dateutil<3.0,>=2.6->pendulum) (1.15.0)\n",
            "Installing collected packages: pytzdata, pendulum\n",
            "Successfully installed pendulum-2.1.2 pytzdata-2020.1\n"
          ],
          "name": "stdout"
        }
      ]
    },
    {
      "cell_type": "code",
      "metadata": {
        "id": "iX1py5wGCgQr"
      },
      "source": [
        "import pendulum\n",
        "def orders_infos(df):\n",
        "\n",
        "  df['order_purchase']= df['order_purchase_timestamp'].apply(lambda x: pd.to_datetime(x))\n",
        "  df['order_delivered_customer_date']= df['order_delivered_customer_date'].apply(lambda x: pd.to_datetime(x))\n",
        "  df['order_estimated_delivery_date']= df['order_estimated_delivery_date'].apply(lambda x: pd.to_datetime(x))\n",
        "\n",
        "  hours=df['order_purchase'].apply(lambda x: x.hour)\n",
        "  days=df['order_purchase'].apply(lambda x: x.day_name())\n",
        "  weeks=df['order_purchase_timestamp'].apply(lambda x: pendulum.parse(x).week_of_month)\n",
        "  estimated_delivery=(df['order_estimated_delivery_date']-df['order_purchase']).apply(lambda x: x.days)\n",
        "  delivery_days=(df['order_delivered_customer_date']-df['order_purchase']).apply(lambda x: x.days)\n",
        "  orders=df['order_id'].values.tolist()\n",
        "  customers=df['customer_id'].values.tolist()\n",
        "  \n",
        "  result=pd.DataFrame({'order_id':orders,\n",
        "                       'customer_id':customers,\n",
        "                       'purchase_hour':hours,\n",
        "                       'purchase_day':days,\n",
        "                       'week_of_month':weeks,\n",
        "                       'estimated_delivery_days':estimated_delivery,\n",
        "                       'delivery_days':delivery_days})\n",
        "  return result"
      ],
      "execution_count": null,
      "outputs": []
    },
    {
      "cell_type": "markdown",
      "metadata": {
        "id": "VCm24L8-P00b"
      },
      "source": [
        "### products"
      ]
    },
    {
      "cell_type": "code",
      "metadata": {
        "colab": {
          "base_uri": "https://localhost:8080/",
          "height": 217
        },
        "id": "i_2yUZx2KwBZ",
        "outputId": "15fb2c39-1686-475b-a1bc-1c8d6c4f3371"
      },
      "source": [
        "data_products.head()"
      ],
      "execution_count": null,
      "outputs": [
        {
          "output_type": "execute_result",
          "data": {
            "text/html": [
              "<div>\n",
              "<style scoped>\n",
              "    .dataframe tbody tr th:only-of-type {\n",
              "        vertical-align: middle;\n",
              "    }\n",
              "\n",
              "    .dataframe tbody tr th {\n",
              "        vertical-align: top;\n",
              "    }\n",
              "\n",
              "    .dataframe thead th {\n",
              "        text-align: right;\n",
              "    }\n",
              "</style>\n",
              "<table border=\"1\" class=\"dataframe\">\n",
              "  <thead>\n",
              "    <tr style=\"text-align: right;\">\n",
              "      <th></th>\n",
              "      <th>product_id</th>\n",
              "      <th>product_category_name</th>\n",
              "      <th>product_name_lenght</th>\n",
              "      <th>product_description_lenght</th>\n",
              "      <th>product_photos_qty</th>\n",
              "      <th>product_weight_g</th>\n",
              "      <th>product_length_cm</th>\n",
              "      <th>product_height_cm</th>\n",
              "      <th>product_width_cm</th>\n",
              "    </tr>\n",
              "  </thead>\n",
              "  <tbody>\n",
              "    <tr>\n",
              "      <th>0</th>\n",
              "      <td>1e9e8ef04dbcff4541ed26657ea517e5</td>\n",
              "      <td>perfumaria</td>\n",
              "      <td>40.0</td>\n",
              "      <td>287.0</td>\n",
              "      <td>1.0</td>\n",
              "      <td>225.0</td>\n",
              "      <td>16.0</td>\n",
              "      <td>10.0</td>\n",
              "      <td>14.0</td>\n",
              "    </tr>\n",
              "    <tr>\n",
              "      <th>1</th>\n",
              "      <td>3aa071139cb16b67ca9e5dea641aaa2f</td>\n",
              "      <td>artes</td>\n",
              "      <td>44.0</td>\n",
              "      <td>276.0</td>\n",
              "      <td>1.0</td>\n",
              "      <td>1000.0</td>\n",
              "      <td>30.0</td>\n",
              "      <td>18.0</td>\n",
              "      <td>20.0</td>\n",
              "    </tr>\n",
              "    <tr>\n",
              "      <th>2</th>\n",
              "      <td>96bd76ec8810374ed1b65e291975717f</td>\n",
              "      <td>esporte_lazer</td>\n",
              "      <td>46.0</td>\n",
              "      <td>250.0</td>\n",
              "      <td>1.0</td>\n",
              "      <td>154.0</td>\n",
              "      <td>18.0</td>\n",
              "      <td>9.0</td>\n",
              "      <td>15.0</td>\n",
              "    </tr>\n",
              "    <tr>\n",
              "      <th>3</th>\n",
              "      <td>cef67bcfe19066a932b7673e239eb23d</td>\n",
              "      <td>bebes</td>\n",
              "      <td>27.0</td>\n",
              "      <td>261.0</td>\n",
              "      <td>1.0</td>\n",
              "      <td>371.0</td>\n",
              "      <td>26.0</td>\n",
              "      <td>4.0</td>\n",
              "      <td>26.0</td>\n",
              "    </tr>\n",
              "    <tr>\n",
              "      <th>4</th>\n",
              "      <td>9dc1a7de274444849c219cff195d0b71</td>\n",
              "      <td>utilidades_domesticas</td>\n",
              "      <td>37.0</td>\n",
              "      <td>402.0</td>\n",
              "      <td>4.0</td>\n",
              "      <td>625.0</td>\n",
              "      <td>20.0</td>\n",
              "      <td>17.0</td>\n",
              "      <td>13.0</td>\n",
              "    </tr>\n",
              "  </tbody>\n",
              "</table>\n",
              "</div>"
            ],
            "text/plain": [
              "                         product_id  ... product_width_cm\n",
              "0  1e9e8ef04dbcff4541ed26657ea517e5  ...             14.0\n",
              "1  3aa071139cb16b67ca9e5dea641aaa2f  ...             20.0\n",
              "2  96bd76ec8810374ed1b65e291975717f  ...             15.0\n",
              "3  cef67bcfe19066a932b7673e239eb23d  ...             26.0\n",
              "4  9dc1a7de274444849c219cff195d0b71  ...             13.0\n",
              "\n",
              "[5 rows x 9 columns]"
            ]
          },
          "metadata": {
            "tags": []
          },
          "execution_count": 75
        }
      ]
    },
    {
      "cell_type": "code",
      "metadata": {
        "colab": {
          "base_uri": "https://localhost:8080/"
        },
        "id": "poHIh1drwxQT",
        "outputId": "570e6c98-0a9c-40a2-b8be-f3742de02fd1"
      },
      "source": [
        "data_products['product_category_name'].nunique()\n"
      ],
      "execution_count": null,
      "outputs": [
        {
          "output_type": "execute_result",
          "data": {
            "text/plain": [
              "73"
            ]
          },
          "metadata": {
            "tags": []
          },
          "execution_count": 83
        }
      ]
    },
    {
      "cell_type": "code",
      "metadata": {
        "colab": {
          "base_uri": "https://localhost:8080/"
        },
        "id": "NrmQqPQxxePH",
        "outputId": "dd032cb6-1c8e-4fb3-96fb-ec46ecfcbfd8"
      },
      "source": [
        "data_category.shape"
      ],
      "execution_count": null,
      "outputs": [
        {
          "output_type": "execute_result",
          "data": {
            "text/plain": [
              "(71, 2)"
            ]
          },
          "metadata": {
            "tags": []
          },
          "execution_count": 81
        }
      ]
    },
    {
      "cell_type": "markdown",
      "metadata": {
        "id": "vtn9F7QoUR1x"
      },
      "source": [
        "The main idea for this dataset would be to categorize each feature into groups:\n",
        "\n",
        "- first, we have extra category values in the product data that we need to check\n",
        "\n",
        "- convert each portugues name to english one, then Map them into main categories\n",
        "\n",
        "- merge product description (name_length,description_length,photos_qt) into one category or map each description separatly\n",
        "\n",
        "- categorize the technical descriptions (weight, lengh, width,height) into a size category"
      ]
    },
    {
      "cell_type": "code",
      "metadata": {
        "id": "5s8GcFb0y1XU"
      },
      "source": [
        "def nan_percentage(df):\n",
        "  missing_data=df.isnull().sum().sort_values(ascending=False).reset_index()\n",
        "  missing_data.columns=[\"feature\",\"percentage_nan\"]\n",
        "  missing_data[\"percentage_nan\"]=round((missing_data[\"percentage_nan\"]/df.shape[0])*100)\n",
        "\n",
        "  return missing_data"
      ],
      "execution_count": null,
      "outputs": []
    },
    {
      "cell_type": "code",
      "metadata": {
        "colab": {
          "base_uri": "https://localhost:8080/",
          "height": 317
        },
        "id": "1cYqBcBs07ow",
        "outputId": "fc1167c7-6f82-40d7-d558-72863827d92e"
      },
      "source": [
        "nan_percentage(data_products)"
      ],
      "execution_count": null,
      "outputs": [
        {
          "output_type": "execute_result",
          "data": {
            "text/html": [
              "<div>\n",
              "<style scoped>\n",
              "    .dataframe tbody tr th:only-of-type {\n",
              "        vertical-align: middle;\n",
              "    }\n",
              "\n",
              "    .dataframe tbody tr th {\n",
              "        vertical-align: top;\n",
              "    }\n",
              "\n",
              "    .dataframe thead th {\n",
              "        text-align: right;\n",
              "    }\n",
              "</style>\n",
              "<table border=\"1\" class=\"dataframe\">\n",
              "  <thead>\n",
              "    <tr style=\"text-align: right;\">\n",
              "      <th></th>\n",
              "      <th>feature</th>\n",
              "      <th>percentage_nan</th>\n",
              "    </tr>\n",
              "  </thead>\n",
              "  <tbody>\n",
              "    <tr>\n",
              "      <th>0</th>\n",
              "      <td>product_photos_qty</td>\n",
              "      <td>2.0</td>\n",
              "    </tr>\n",
              "    <tr>\n",
              "      <th>1</th>\n",
              "      <td>product_description_lenght</td>\n",
              "      <td>2.0</td>\n",
              "    </tr>\n",
              "    <tr>\n",
              "      <th>2</th>\n",
              "      <td>product_name_lenght</td>\n",
              "      <td>2.0</td>\n",
              "    </tr>\n",
              "    <tr>\n",
              "      <th>3</th>\n",
              "      <td>product_category_name</td>\n",
              "      <td>2.0</td>\n",
              "    </tr>\n",
              "    <tr>\n",
              "      <th>4</th>\n",
              "      <td>product_width_cm</td>\n",
              "      <td>0.0</td>\n",
              "    </tr>\n",
              "    <tr>\n",
              "      <th>5</th>\n",
              "      <td>product_height_cm</td>\n",
              "      <td>0.0</td>\n",
              "    </tr>\n",
              "    <tr>\n",
              "      <th>6</th>\n",
              "      <td>product_length_cm</td>\n",
              "      <td>0.0</td>\n",
              "    </tr>\n",
              "    <tr>\n",
              "      <th>7</th>\n",
              "      <td>product_weight_g</td>\n",
              "      <td>0.0</td>\n",
              "    </tr>\n",
              "    <tr>\n",
              "      <th>8</th>\n",
              "      <td>product_id</td>\n",
              "      <td>0.0</td>\n",
              "    </tr>\n",
              "  </tbody>\n",
              "</table>\n",
              "</div>"
            ],
            "text/plain": [
              "                      feature  percentage_nan\n",
              "0          product_photos_qty             2.0\n",
              "1  product_description_lenght             2.0\n",
              "2         product_name_lenght             2.0\n",
              "3       product_category_name             2.0\n",
              "4            product_width_cm             0.0\n",
              "5           product_height_cm             0.0\n",
              "6           product_length_cm             0.0\n",
              "7            product_weight_g             0.0\n",
              "8                  product_id             0.0"
            ]
          },
          "metadata": {
            "tags": []
          },
          "execution_count": 5
        }
      ]
    },
    {
      "cell_type": "markdown",
      "metadata": {
        "id": "tpRTjUS69zEZ"
      },
      "source": [
        "Check extra values in categories"
      ]
    },
    {
      "cell_type": "code",
      "metadata": {
        "id": "eFnwdE8M7Ks6"
      },
      "source": [
        "portugues_list1=data_products['product_category_name'].unique().tolist()\n",
        "portugues_list2=data_category['product_category_name'].unique().tolist()"
      ],
      "execution_count": null,
      "outputs": []
    },
    {
      "cell_type": "code",
      "metadata": {
        "id": "hvuUUzWz8rbH",
        "colab": {
          "base_uri": "https://localhost:8080/"
        },
        "outputId": "f6e3e015-b3dc-4336-c637-d770c9e5f6fe"
      },
      "source": [
        "extra_categories=[val for val in portugues_list1 if val not in portugues_list2]\n",
        "extra_categories"
      ],
      "execution_count": null,
      "outputs": [
        {
          "output_type": "execute_result",
          "data": {
            "text/plain": [
              "['other', 'pc_gamer', 'portateis_cozinha_e_preparadores_de_alimentos']"
            ]
          },
          "metadata": {
            "tags": []
          },
          "execution_count": 8
        }
      ]
    },
    {
      "cell_type": "code",
      "metadata": {
        "id": "yFthIA3BXglq"
      },
      "source": [
        "data_category.loc[71,'product_category_name']='pc_gamer'\n",
        "data_category.loc[72,'product_category_name']='portateis_cozinha_e_preparadores_de_alimentos'\n",
        "data_category.loc[71,'product_category_name_english']='pc_gamer'\n",
        "data_category.loc[72,'product_category_name_english']='kitchen_and_prepars_of_food'\n",
        "data_category.loc[73,'product_category_name_english']='other'\n",
        "data_category.loc[73,'product_category_name']='other'\n"
      ],
      "execution_count": null,
      "outputs": []
    },
    {
      "cell_type": "code",
      "metadata": {
        "colab": {
          "base_uri": "https://localhost:8080/",
          "height": 197
        },
        "id": "38baqtB3YBHv",
        "outputId": "e455c9f7-5092-4bbb-ba39-798d2ed1dede"
      },
      "source": [
        "data_category.tail()"
      ],
      "execution_count": null,
      "outputs": [
        {
          "output_type": "execute_result",
          "data": {
            "text/html": [
              "<div>\n",
              "<style scoped>\n",
              "    .dataframe tbody tr th:only-of-type {\n",
              "        vertical-align: middle;\n",
              "    }\n",
              "\n",
              "    .dataframe tbody tr th {\n",
              "        vertical-align: top;\n",
              "    }\n",
              "\n",
              "    .dataframe thead th {\n",
              "        text-align: right;\n",
              "    }\n",
              "</style>\n",
              "<table border=\"1\" class=\"dataframe\">\n",
              "  <thead>\n",
              "    <tr style=\"text-align: right;\">\n",
              "      <th></th>\n",
              "      <th>product_category_name</th>\n",
              "      <th>product_category_name_english</th>\n",
              "    </tr>\n",
              "  </thead>\n",
              "  <tbody>\n",
              "    <tr>\n",
              "      <th>69</th>\n",
              "      <td>fashion_roupa_infanto_juvenil</td>\n",
              "      <td>fashion_childrens_clothes</td>\n",
              "    </tr>\n",
              "    <tr>\n",
              "      <th>70</th>\n",
              "      <td>seguros_e_servicos</td>\n",
              "      <td>security_and_services</td>\n",
              "    </tr>\n",
              "    <tr>\n",
              "      <th>71</th>\n",
              "      <td>pc_gamer</td>\n",
              "      <td>pc_gamer</td>\n",
              "    </tr>\n",
              "    <tr>\n",
              "      <th>72</th>\n",
              "      <td>portateis_cozinha_e_preparadores_de_alimentos</td>\n",
              "      <td>kitchen_and_prepars_of_food</td>\n",
              "    </tr>\n",
              "    <tr>\n",
              "      <th>73</th>\n",
              "      <td>other</td>\n",
              "      <td>other</td>\n",
              "    </tr>\n",
              "  </tbody>\n",
              "</table>\n",
              "</div>"
            ],
            "text/plain": [
              "                            product_category_name product_category_name_english\n",
              "69                  fashion_roupa_infanto_juvenil     fashion_childrens_clothes\n",
              "70                             seguros_e_servicos         security_and_services\n",
              "71                                       pc_gamer                      pc_gamer\n",
              "72  portateis_cozinha_e_preparadores_de_alimentos   kitchen_and_prepars_of_food\n",
              "73                                          other                         other"
            ]
          },
          "metadata": {
            "tags": []
          },
          "execution_count": 10
        }
      ]
    },
    {
      "cell_type": "markdown",
      "metadata": {
        "id": "1dWEmUEc9-yS"
      },
      "source": [
        "replace portugues catgories to english categories\n",
        "\n",
        "join the two dataframes"
      ]
    },
    {
      "cell_type": "code",
      "metadata": {
        "colab": {
          "base_uri": "https://localhost:8080/",
          "height": 426
        },
        "id": "QW2o0YIf4n7A",
        "outputId": "08978634-4036-4a40-e434-fb863fe5a9f1"
      },
      "source": [
        "data_products"
      ],
      "execution_count": null,
      "outputs": [
        {
          "output_type": "execute_result",
          "data": {
            "text/html": [
              "<div>\n",
              "<style scoped>\n",
              "    .dataframe tbody tr th:only-of-type {\n",
              "        vertical-align: middle;\n",
              "    }\n",
              "\n",
              "    .dataframe tbody tr th {\n",
              "        vertical-align: top;\n",
              "    }\n",
              "\n",
              "    .dataframe thead th {\n",
              "        text-align: right;\n",
              "    }\n",
              "</style>\n",
              "<table border=\"1\" class=\"dataframe\">\n",
              "  <thead>\n",
              "    <tr style=\"text-align: right;\">\n",
              "      <th></th>\n",
              "      <th>product_id</th>\n",
              "      <th>product_category_name</th>\n",
              "      <th>product_name_lenght</th>\n",
              "      <th>product_description_lenght</th>\n",
              "      <th>product_photos_qty</th>\n",
              "      <th>product_weight_g</th>\n",
              "      <th>product_length_cm</th>\n",
              "      <th>product_height_cm</th>\n",
              "      <th>product_width_cm</th>\n",
              "      <th>english_category_name</th>\n",
              "      <th>main_category</th>\n",
              "    </tr>\n",
              "  </thead>\n",
              "  <tbody>\n",
              "    <tr>\n",
              "      <th>0</th>\n",
              "      <td>1e9e8ef04dbcff4541ed26657ea517e5</td>\n",
              "      <td>perfumaria</td>\n",
              "      <td>40.0</td>\n",
              "      <td>287.0</td>\n",
              "      <td>1.0</td>\n",
              "      <td>225.0</td>\n",
              "      <td>16.0</td>\n",
              "      <td>10.0</td>\n",
              "      <td>14.0</td>\n",
              "      <td>perfumery</td>\n",
              "      <td>beauty</td>\n",
              "    </tr>\n",
              "    <tr>\n",
              "      <th>1</th>\n",
              "      <td>3aa071139cb16b67ca9e5dea641aaa2f</td>\n",
              "      <td>artes</td>\n",
              "      <td>44.0</td>\n",
              "      <td>276.0</td>\n",
              "      <td>1.0</td>\n",
              "      <td>1000.0</td>\n",
              "      <td>30.0</td>\n",
              "      <td>18.0</td>\n",
              "      <td>20.0</td>\n",
              "      <td>art</td>\n",
              "      <td>leisure</td>\n",
              "    </tr>\n",
              "    <tr>\n",
              "      <th>2</th>\n",
              "      <td>96bd76ec8810374ed1b65e291975717f</td>\n",
              "      <td>esporte_lazer</td>\n",
              "      <td>46.0</td>\n",
              "      <td>250.0</td>\n",
              "      <td>1.0</td>\n",
              "      <td>154.0</td>\n",
              "      <td>18.0</td>\n",
              "      <td>9.0</td>\n",
              "      <td>15.0</td>\n",
              "      <td>sports_leisure</td>\n",
              "      <td>leisure</td>\n",
              "    </tr>\n",
              "    <tr>\n",
              "      <th>3</th>\n",
              "      <td>cef67bcfe19066a932b7673e239eb23d</td>\n",
              "      <td>bebes</td>\n",
              "      <td>27.0</td>\n",
              "      <td>261.0</td>\n",
              "      <td>1.0</td>\n",
              "      <td>371.0</td>\n",
              "      <td>26.0</td>\n",
              "      <td>4.0</td>\n",
              "      <td>26.0</td>\n",
              "      <td>baby</td>\n",
              "      <td>children</td>\n",
              "    </tr>\n",
              "    <tr>\n",
              "      <th>4</th>\n",
              "      <td>9dc1a7de274444849c219cff195d0b71</td>\n",
              "      <td>utilidades_domesticas</td>\n",
              "      <td>37.0</td>\n",
              "      <td>402.0</td>\n",
              "      <td>4.0</td>\n",
              "      <td>625.0</td>\n",
              "      <td>20.0</td>\n",
              "      <td>17.0</td>\n",
              "      <td>13.0</td>\n",
              "      <td>housewares</td>\n",
              "      <td>appliance</td>\n",
              "    </tr>\n",
              "    <tr>\n",
              "      <th>...</th>\n",
              "      <td>...</td>\n",
              "      <td>...</td>\n",
              "      <td>...</td>\n",
              "      <td>...</td>\n",
              "      <td>...</td>\n",
              "      <td>...</td>\n",
              "      <td>...</td>\n",
              "      <td>...</td>\n",
              "      <td>...</td>\n",
              "      <td>...</td>\n",
              "      <td>...</td>\n",
              "    </tr>\n",
              "    <tr>\n",
              "      <th>32946</th>\n",
              "      <td>a0b7d5a992ccda646f2d34e418fff5a0</td>\n",
              "      <td>moveis_decoracao</td>\n",
              "      <td>45.0</td>\n",
              "      <td>67.0</td>\n",
              "      <td>2.0</td>\n",
              "      <td>12300.0</td>\n",
              "      <td>40.0</td>\n",
              "      <td>40.0</td>\n",
              "      <td>40.0</td>\n",
              "      <td>furniture_decor</td>\n",
              "      <td>home_furniture</td>\n",
              "    </tr>\n",
              "    <tr>\n",
              "      <th>32947</th>\n",
              "      <td>bf4538d88321d0fd4412a93c974510e6</td>\n",
              "      <td>construcao_ferramentas_iluminacao</td>\n",
              "      <td>41.0</td>\n",
              "      <td>971.0</td>\n",
              "      <td>1.0</td>\n",
              "      <td>1700.0</td>\n",
              "      <td>16.0</td>\n",
              "      <td>19.0</td>\n",
              "      <td>16.0</td>\n",
              "      <td>construction_tools_lights</td>\n",
              "      <td>tools</td>\n",
              "    </tr>\n",
              "    <tr>\n",
              "      <th>32948</th>\n",
              "      <td>9a7c6041fa9592d9d9ef6cfe62a71f8c</td>\n",
              "      <td>cama_mesa_banho</td>\n",
              "      <td>50.0</td>\n",
              "      <td>799.0</td>\n",
              "      <td>1.0</td>\n",
              "      <td>1400.0</td>\n",
              "      <td>27.0</td>\n",
              "      <td>7.0</td>\n",
              "      <td>27.0</td>\n",
              "      <td>bed_bath_table</td>\n",
              "      <td>home_furniture</td>\n",
              "    </tr>\n",
              "    <tr>\n",
              "      <th>32949</th>\n",
              "      <td>83808703fc0706a22e264b9d75f04a2e</td>\n",
              "      <td>informatica_acessorios</td>\n",
              "      <td>60.0</td>\n",
              "      <td>156.0</td>\n",
              "      <td>2.0</td>\n",
              "      <td>700.0</td>\n",
              "      <td>31.0</td>\n",
              "      <td>13.0</td>\n",
              "      <td>20.0</td>\n",
              "      <td>computers_accessories</td>\n",
              "      <td>electronics</td>\n",
              "    </tr>\n",
              "    <tr>\n",
              "      <th>32950</th>\n",
              "      <td>106392145fca363410d287a815be6de4</td>\n",
              "      <td>cama_mesa_banho</td>\n",
              "      <td>58.0</td>\n",
              "      <td>309.0</td>\n",
              "      <td>1.0</td>\n",
              "      <td>2083.0</td>\n",
              "      <td>12.0</td>\n",
              "      <td>2.0</td>\n",
              "      <td>7.0</td>\n",
              "      <td>bed_bath_table</td>\n",
              "      <td>home_furniture</td>\n",
              "    </tr>\n",
              "  </tbody>\n",
              "</table>\n",
              "<p>32951 rows × 11 columns</p>\n",
              "</div>"
            ],
            "text/plain": [
              "                             product_id  ...   main_category\n",
              "0      1e9e8ef04dbcff4541ed26657ea517e5  ...          beauty\n",
              "1      3aa071139cb16b67ca9e5dea641aaa2f  ...         leisure\n",
              "2      96bd76ec8810374ed1b65e291975717f  ...         leisure\n",
              "3      cef67bcfe19066a932b7673e239eb23d  ...        children\n",
              "4      9dc1a7de274444849c219cff195d0b71  ...       appliance\n",
              "...                                 ...  ...             ...\n",
              "32946  a0b7d5a992ccda646f2d34e418fff5a0  ...  home_furniture\n",
              "32947  bf4538d88321d0fd4412a93c974510e6  ...           tools\n",
              "32948  9a7c6041fa9592d9d9ef6cfe62a71f8c  ...  home_furniture\n",
              "32949  83808703fc0706a22e264b9d75f04a2e  ...     electronics\n",
              "32950  106392145fca363410d287a815be6de4  ...  home_furniture\n",
              "\n",
              "[32951 rows x 11 columns]"
            ]
          },
          "metadata": {
            "tags": []
          },
          "execution_count": 42
        }
      ]
    },
    {
      "cell_type": "code",
      "metadata": {
        "id": "bl-A6P7BCgRO"
      },
      "source": [
        "main_categories_dict={#Beauty_fashion\n",
        "                      'health_beauty':'beauty',\n",
        "                      'perfumery':'beauty',\n",
        "                      'watches_gifts':'beauty',\n",
        "                      'fashion_shoes':'beauty',\n",
        "                      'fashion_male_clothing':'beauty',\n",
        "                      'fashion_underwear_beach':'beauty',\n",
        "                      'fashion_sport':'beauty',\n",
        "                      'fashio_female_clothing':'beauty',\n",
        "                      'fashion_bags_accessories':'beauty',\n",
        "                      \n",
        "                      #electronics\n",
        "                      'computers_accessories':'electronics',\n",
        "                      'telephony':'electronics',\n",
        "                      'tablets_printing_image':'electronics',\n",
        "                      'consoles_games':'electronics',\n",
        "                      'fixed_telephony':'electronics',\n",
        "                      'electronics':'electronics',\n",
        "                      'computers':'electronics',\n",
        "                      'pc_gamer':'electronics',\n",
        "                      \n",
        "                      #leisure\n",
        "                      'sports_leisure':'leisure',\n",
        "                      'cool_stuff':'leisure',\n",
        "                      'musical_instruments':'leisure',\n",
        "                      'art':'leisure',\n",
        "                      'music':'leisure',\n",
        "                      'cds_dvds_musicals':'leisure',\n",
        "                      'dvds_blu_ray':'leisure',\n",
        "                      'audio':'leisure',\n",
        "                      'books_technical':'leisure',\n",
        "                      'books_general_interest':'leisure',\n",
        "                      'books_imported':'leisure',\n",
        "                      'cine_photo':'leisure',\n",
        "                      'arts_and_craftmanship':'beauty',\n",
        "\n",
        "                      #home_furniture\n",
        "                      'bed_bath_table':'home_furniture',\n",
        "                      'furniture_decor':'home_furniture',\n",
        "                      'flowers':'home_furniture',\n",
        "                      'kitchen_dining_laundry_garden_furniture':'home_furniture',\n",
        "                      'furniture_living_room':'home_furniture',\n",
        "                      'furniture_mattress_and_upholstery':'home_furniture',\n",
        "                      'furniture_bedroom':'home_furniture',\n",
        "                      'la_cuisine':'home_furniture',\n",
        "                      'home_comfort_2':'home_furniture',                      \n",
        "                      'home_confort':'home_furniture',\n",
        "                      'air_conditioning':'home_furniture',\n",
        "                      'party_supplies':'home_furniture',\n",
        "                      'christmas_supplies':'home_furniture',\n",
        "                      'kitchen_and_prepars_of_food':'home_furniture',\n",
        "\n",
        "                      #appliances\n",
        "                      'home_appliances':'appliance',\n",
        "                      'signaling_and_security':'appliance',\n",
        "                      'home_appliances_2':'appliance',\n",
        "                      'housewares':'appliance',\n",
        "                      'small_appliances':'appliance',\n",
        "                      'small_appliances_home_oven_and_coffee':'appliance',\n",
        "                     \n",
        "                      #tools\n",
        "                      'garden_tools':'tools',\n",
        "                      'construction_tools_construction':'tools',\n",
        "                      'costruction_tools_garden':'tools',\n",
        "                      'costruction_tools_tools':'tools',\n",
        "                      'home_construction':'tools',\n",
        "                      'construction_tools_lights':'tools',\n",
        "                      'construction_tools_safety':'tools',\n",
        "                               \n",
        "                      #food\n",
        "                      'food_drink':'food',\n",
        "                      'food':'food',\n",
        "                      'drinks':'food',\n",
        "\n",
        "                      #children\n",
        "                      'baby':'children',\n",
        "                      'toys':'children',\n",
        "                      'pet_shop':'children',\n",
        "                      'diapers_and_hygiene':'children',\n",
        "                      'fashion_childrens_clothes':'children',\n",
        "                      \n",
        "                      #other\n",
        "                      'luggage_accessories':'other',\n",
        "                      'auto':'other',\n",
        "                      'market_place':'other',\n",
        "                      'other':'other',\n",
        "\n",
        "                      #office\n",
        "                      'office_furniture':'office',\n",
        "                      'stationery':'office',\n",
        "                      'agro_industry_and_commerce':'office', \n",
        "                      'industry_commerce_and_business':'office',\n",
        "                      'security_and_services':'office'\n",
        " \n",
        " }"
      ],
      "execution_count": null,
      "outputs": []
    },
    {
      "cell_type": "code",
      "metadata": {
        "id": "h5Y6_hQVCgRU"
      },
      "source": [
        "def products_infos(df):\n",
        "  #fill description variables\n",
        "  df['product_photos_qty'].fillna(0,inplace=True)\n",
        "  df['product_description_lenght'].fillna(0,inplace=True)\n",
        "  df['product_name_lenght'].fillna(0,inplace=True)\n",
        "\n",
        "  #fill missing categories with other\n",
        "  df['product_category_name'].fillna('other',inplace=True)\n",
        "\n",
        "  #add missing values to categories datset\n",
        "  data_category.loc[71,'product_category_name']='pc_gamer'\n",
        "  data_category.loc[72,'product_category_name']='portateis_cozinha_e_preparadores_de_alimentos'\n",
        "  data_category.loc[71,'product_category_name_english']='pc_gamer'\n",
        "  data_category.loc[72,'product_category_name_english']='kitchen_and_prepars_of_food'\n",
        "  data_category.loc[73,'product_category_name_english']='other'\n",
        "  data_category.loc[73,'product_category_name']='other'\n",
        "\n",
        "  #join products and category datset\n",
        "  df=df.set_index('product_category_name').join(data_category.set_index('product_category_name')).reset_index()\n",
        "\n",
        "  #map main categories\n",
        "  df['main_category']=df['product_category_name_english'].map(main_categories_dict)\n",
        "\n",
        "  return df\n"
      ],
      "execution_count": null,
      "outputs": []
    },
    {
      "cell_type": "markdown",
      "metadata": {
        "id": "6w5EECjpKTfO"
      },
      "source": [
        "### Items"
      ]
    },
    {
      "cell_type": "markdown",
      "metadata": {
        "id": "ZrSYRlkZogA2"
      },
      "source": [
        "check payment values between items dataset and payment dataset"
      ]
    },
    {
      "cell_type": "code",
      "metadata": {
        "colab": {
          "base_uri": "https://localhost:8080/",
          "height": 191
        },
        "id": "0P2I8dtJu4-M",
        "outputId": "12215110-94ce-48c2-891f-e5939925a4e5"
      },
      "source": [
        "data_items.head()"
      ],
      "execution_count": 3,
      "outputs": [
        {
          "output_type": "execute_result",
          "data": {
            "text/html": [
              "<div>\n",
              "<style scoped>\n",
              "    .dataframe tbody tr th:only-of-type {\n",
              "        vertical-align: middle;\n",
              "    }\n",
              "\n",
              "    .dataframe tbody tr th {\n",
              "        vertical-align: top;\n",
              "    }\n",
              "\n",
              "    .dataframe thead th {\n",
              "        text-align: right;\n",
              "    }\n",
              "</style>\n",
              "<table border=\"1\" class=\"dataframe\">\n",
              "  <thead>\n",
              "    <tr style=\"text-align: right;\">\n",
              "      <th></th>\n",
              "      <th>order_id</th>\n",
              "      <th>order_item_id</th>\n",
              "      <th>product_id</th>\n",
              "      <th>seller_id</th>\n",
              "      <th>shipping_limit_date</th>\n",
              "      <th>price</th>\n",
              "      <th>freight_value</th>\n",
              "    </tr>\n",
              "  </thead>\n",
              "  <tbody>\n",
              "    <tr>\n",
              "      <th>0</th>\n",
              "      <td>00010242fe8c5a6d1ba2dd792cb16214</td>\n",
              "      <td>1</td>\n",
              "      <td>4244733e06e7ecb4970a6e2683c13e61</td>\n",
              "      <td>48436dade18ac8b2bce089ec2a041202</td>\n",
              "      <td>2017-09-19 09:45:35</td>\n",
              "      <td>58.90</td>\n",
              "      <td>13.29</td>\n",
              "    </tr>\n",
              "    <tr>\n",
              "      <th>1</th>\n",
              "      <td>00018f77f2f0320c557190d7a144bdd3</td>\n",
              "      <td>1</td>\n",
              "      <td>e5f2d52b802189ee658865ca93d83a8f</td>\n",
              "      <td>dd7ddc04e1b6c2c614352b383efe2d36</td>\n",
              "      <td>2017-05-03 11:05:13</td>\n",
              "      <td>239.90</td>\n",
              "      <td>19.93</td>\n",
              "    </tr>\n",
              "    <tr>\n",
              "      <th>2</th>\n",
              "      <td>000229ec398224ef6ca0657da4fc703e</td>\n",
              "      <td>1</td>\n",
              "      <td>c777355d18b72b67abbeef9df44fd0fd</td>\n",
              "      <td>5b51032eddd242adc84c38acab88f23d</td>\n",
              "      <td>2018-01-18 14:48:30</td>\n",
              "      <td>199.00</td>\n",
              "      <td>17.87</td>\n",
              "    </tr>\n",
              "    <tr>\n",
              "      <th>3</th>\n",
              "      <td>00024acbcdf0a6daa1e931b038114c75</td>\n",
              "      <td>1</td>\n",
              "      <td>7634da152a4610f1595efa32f14722fc</td>\n",
              "      <td>9d7a1d34a5052409006425275ba1c2b4</td>\n",
              "      <td>2018-08-15 10:10:18</td>\n",
              "      <td>12.99</td>\n",
              "      <td>12.79</td>\n",
              "    </tr>\n",
              "    <tr>\n",
              "      <th>4</th>\n",
              "      <td>00042b26cf59d7ce69dfabb4e55b4fd9</td>\n",
              "      <td>1</td>\n",
              "      <td>ac6c3623068f30de03045865e4e10089</td>\n",
              "      <td>df560393f3a51e74553ab94004ba5c87</td>\n",
              "      <td>2017-02-13 13:57:51</td>\n",
              "      <td>199.90</td>\n",
              "      <td>18.14</td>\n",
              "    </tr>\n",
              "  </tbody>\n",
              "</table>\n",
              "</div>"
            ],
            "text/plain": [
              "                           order_id  order_item_id  ...   price freight_value\n",
              "0  00010242fe8c5a6d1ba2dd792cb16214              1  ...   58.90         13.29\n",
              "1  00018f77f2f0320c557190d7a144bdd3              1  ...  239.90         19.93\n",
              "2  000229ec398224ef6ca0657da4fc703e              1  ...  199.00         17.87\n",
              "3  00024acbcdf0a6daa1e931b038114c75              1  ...   12.99         12.79\n",
              "4  00042b26cf59d7ce69dfabb4e55b4fd9              1  ...  199.90         18.14\n",
              "\n",
              "[5 rows x 7 columns]"
            ]
          },
          "metadata": {
            "tags": []
          },
          "execution_count": 3
        }
      ]
    },
    {
      "cell_type": "code",
      "metadata": {
        "id": "_FqXKpEu6eOv",
        "colab": {
          "base_uri": "https://localhost:8080/"
        },
        "outputId": "7e18e8b9-23d7-4bbd-e30d-82ddc99745ba"
      },
      "source": [
        "data_payments.shape"
      ],
      "execution_count": 7,
      "outputs": [
        {
          "output_type": "execute_result",
          "data": {
            "text/plain": [
              "(103886, 5)"
            ]
          },
          "metadata": {
            "tags": []
          },
          "execution_count": 7
        }
      ]
    },
    {
      "cell_type": "markdown",
      "metadata": {
        "id": "wawsZ-AgozNf"
      },
      "source": [
        "check most common orders"
      ]
    },
    {
      "cell_type": "code",
      "metadata": {
        "id": "ZJji4P-nvEro",
        "colab": {
          "base_uri": "https://localhost:8080/",
          "height": 478
        },
        "outputId": "9f02af01-090d-40e9-a58c-3993a3c4cc27"
      },
      "source": [
        "data_items[data_items['order_id']=='428a2f660dc84138d969ccd69a0ab6d5']"
      ],
      "execution_count": 5,
      "outputs": [
        {
          "output_type": "execute_result",
          "data": {
            "text/html": [
              "<div>\n",
              "<style scoped>\n",
              "    .dataframe tbody tr th:only-of-type {\n",
              "        vertical-align: middle;\n",
              "    }\n",
              "\n",
              "    .dataframe tbody tr th {\n",
              "        vertical-align: top;\n",
              "    }\n",
              "\n",
              "    .dataframe thead th {\n",
              "        text-align: right;\n",
              "    }\n",
              "</style>\n",
              "<table border=\"1\" class=\"dataframe\">\n",
              "  <thead>\n",
              "    <tr style=\"text-align: right;\">\n",
              "      <th></th>\n",
              "      <th>order_id</th>\n",
              "      <th>order_item_id</th>\n",
              "      <th>product_id</th>\n",
              "      <th>seller_id</th>\n",
              "      <th>shipping_limit_date</th>\n",
              "      <th>price</th>\n",
              "      <th>freight_value</th>\n",
              "    </tr>\n",
              "  </thead>\n",
              "  <tbody>\n",
              "    <tr>\n",
              "      <th>29257</th>\n",
              "      <td>428a2f660dc84138d969ccd69a0ab6d5</td>\n",
              "      <td>1</td>\n",
              "      <td>89b190a046022486c635022524a974a8</td>\n",
              "      <td>f326006815956455b2859abd58fe7e39</td>\n",
              "      <td>2017-11-30 10:30:51</td>\n",
              "      <td>65.49</td>\n",
              "      <td>16.22</td>\n",
              "    </tr>\n",
              "    <tr>\n",
              "      <th>29258</th>\n",
              "      <td>428a2f660dc84138d969ccd69a0ab6d5</td>\n",
              "      <td>2</td>\n",
              "      <td>89b190a046022486c635022524a974a8</td>\n",
              "      <td>f326006815956455b2859abd58fe7e39</td>\n",
              "      <td>2017-11-30 10:30:51</td>\n",
              "      <td>65.49</td>\n",
              "      <td>16.22</td>\n",
              "    </tr>\n",
              "    <tr>\n",
              "      <th>29259</th>\n",
              "      <td>428a2f660dc84138d969ccd69a0ab6d5</td>\n",
              "      <td>3</td>\n",
              "      <td>89b190a046022486c635022524a974a8</td>\n",
              "      <td>f326006815956455b2859abd58fe7e39</td>\n",
              "      <td>2017-11-30 10:30:51</td>\n",
              "      <td>65.49</td>\n",
              "      <td>16.22</td>\n",
              "    </tr>\n",
              "    <tr>\n",
              "      <th>29260</th>\n",
              "      <td>428a2f660dc84138d969ccd69a0ab6d5</td>\n",
              "      <td>4</td>\n",
              "      <td>89b190a046022486c635022524a974a8</td>\n",
              "      <td>f326006815956455b2859abd58fe7e39</td>\n",
              "      <td>2017-11-30 10:30:51</td>\n",
              "      <td>65.49</td>\n",
              "      <td>16.22</td>\n",
              "    </tr>\n",
              "    <tr>\n",
              "      <th>29261</th>\n",
              "      <td>428a2f660dc84138d969ccd69a0ab6d5</td>\n",
              "      <td>5</td>\n",
              "      <td>89b190a046022486c635022524a974a8</td>\n",
              "      <td>f326006815956455b2859abd58fe7e39</td>\n",
              "      <td>2017-11-30 10:30:51</td>\n",
              "      <td>65.49</td>\n",
              "      <td>16.22</td>\n",
              "    </tr>\n",
              "    <tr>\n",
              "      <th>29262</th>\n",
              "      <td>428a2f660dc84138d969ccd69a0ab6d5</td>\n",
              "      <td>6</td>\n",
              "      <td>89b190a046022486c635022524a974a8</td>\n",
              "      <td>f326006815956455b2859abd58fe7e39</td>\n",
              "      <td>2017-11-30 10:30:51</td>\n",
              "      <td>65.49</td>\n",
              "      <td>16.22</td>\n",
              "    </tr>\n",
              "    <tr>\n",
              "      <th>29263</th>\n",
              "      <td>428a2f660dc84138d969ccd69a0ab6d5</td>\n",
              "      <td>7</td>\n",
              "      <td>89b190a046022486c635022524a974a8</td>\n",
              "      <td>f326006815956455b2859abd58fe7e39</td>\n",
              "      <td>2017-11-30 10:30:51</td>\n",
              "      <td>65.49</td>\n",
              "      <td>16.22</td>\n",
              "    </tr>\n",
              "    <tr>\n",
              "      <th>29264</th>\n",
              "      <td>428a2f660dc84138d969ccd69a0ab6d5</td>\n",
              "      <td>8</td>\n",
              "      <td>89b190a046022486c635022524a974a8</td>\n",
              "      <td>f326006815956455b2859abd58fe7e39</td>\n",
              "      <td>2017-11-30 10:30:51</td>\n",
              "      <td>65.49</td>\n",
              "      <td>16.22</td>\n",
              "    </tr>\n",
              "    <tr>\n",
              "      <th>29265</th>\n",
              "      <td>428a2f660dc84138d969ccd69a0ab6d5</td>\n",
              "      <td>9</td>\n",
              "      <td>89b190a046022486c635022524a974a8</td>\n",
              "      <td>f326006815956455b2859abd58fe7e39</td>\n",
              "      <td>2017-11-30 10:30:51</td>\n",
              "      <td>65.49</td>\n",
              "      <td>16.22</td>\n",
              "    </tr>\n",
              "    <tr>\n",
              "      <th>29266</th>\n",
              "      <td>428a2f660dc84138d969ccd69a0ab6d5</td>\n",
              "      <td>10</td>\n",
              "      <td>89b190a046022486c635022524a974a8</td>\n",
              "      <td>f326006815956455b2859abd58fe7e39</td>\n",
              "      <td>2017-11-30 10:30:51</td>\n",
              "      <td>65.49</td>\n",
              "      <td>16.22</td>\n",
              "    </tr>\n",
              "    <tr>\n",
              "      <th>29267</th>\n",
              "      <td>428a2f660dc84138d969ccd69a0ab6d5</td>\n",
              "      <td>11</td>\n",
              "      <td>89b190a046022486c635022524a974a8</td>\n",
              "      <td>f326006815956455b2859abd58fe7e39</td>\n",
              "      <td>2017-11-30 10:30:51</td>\n",
              "      <td>65.49</td>\n",
              "      <td>16.22</td>\n",
              "    </tr>\n",
              "    <tr>\n",
              "      <th>29268</th>\n",
              "      <td>428a2f660dc84138d969ccd69a0ab6d5</td>\n",
              "      <td>12</td>\n",
              "      <td>89b190a046022486c635022524a974a8</td>\n",
              "      <td>f326006815956455b2859abd58fe7e39</td>\n",
              "      <td>2017-11-30 10:30:51</td>\n",
              "      <td>65.49</td>\n",
              "      <td>16.22</td>\n",
              "    </tr>\n",
              "    <tr>\n",
              "      <th>29269</th>\n",
              "      <td>428a2f660dc84138d969ccd69a0ab6d5</td>\n",
              "      <td>13</td>\n",
              "      <td>89b190a046022486c635022524a974a8</td>\n",
              "      <td>f326006815956455b2859abd58fe7e39</td>\n",
              "      <td>2017-11-30 10:30:51</td>\n",
              "      <td>65.49</td>\n",
              "      <td>16.22</td>\n",
              "    </tr>\n",
              "    <tr>\n",
              "      <th>29270</th>\n",
              "      <td>428a2f660dc84138d969ccd69a0ab6d5</td>\n",
              "      <td>14</td>\n",
              "      <td>89b190a046022486c635022524a974a8</td>\n",
              "      <td>f326006815956455b2859abd58fe7e39</td>\n",
              "      <td>2017-11-30 10:30:51</td>\n",
              "      <td>65.49</td>\n",
              "      <td>16.22</td>\n",
              "    </tr>\n",
              "    <tr>\n",
              "      <th>29271</th>\n",
              "      <td>428a2f660dc84138d969ccd69a0ab6d5</td>\n",
              "      <td>15</td>\n",
              "      <td>89b190a046022486c635022524a974a8</td>\n",
              "      <td>f326006815956455b2859abd58fe7e39</td>\n",
              "      <td>2017-11-30 10:30:51</td>\n",
              "      <td>65.49</td>\n",
              "      <td>16.22</td>\n",
              "    </tr>\n",
              "  </tbody>\n",
              "</table>\n",
              "</div>"
            ],
            "text/plain": [
              "                               order_id  order_item_id  ...  price freight_value\n",
              "29257  428a2f660dc84138d969ccd69a0ab6d5              1  ...  65.49         16.22\n",
              "29258  428a2f660dc84138d969ccd69a0ab6d5              2  ...  65.49         16.22\n",
              "29259  428a2f660dc84138d969ccd69a0ab6d5              3  ...  65.49         16.22\n",
              "29260  428a2f660dc84138d969ccd69a0ab6d5              4  ...  65.49         16.22\n",
              "29261  428a2f660dc84138d969ccd69a0ab6d5              5  ...  65.49         16.22\n",
              "29262  428a2f660dc84138d969ccd69a0ab6d5              6  ...  65.49         16.22\n",
              "29263  428a2f660dc84138d969ccd69a0ab6d5              7  ...  65.49         16.22\n",
              "29264  428a2f660dc84138d969ccd69a0ab6d5              8  ...  65.49         16.22\n",
              "29265  428a2f660dc84138d969ccd69a0ab6d5              9  ...  65.49         16.22\n",
              "29266  428a2f660dc84138d969ccd69a0ab6d5             10  ...  65.49         16.22\n",
              "29267  428a2f660dc84138d969ccd69a0ab6d5             11  ...  65.49         16.22\n",
              "29268  428a2f660dc84138d969ccd69a0ab6d5             12  ...  65.49         16.22\n",
              "29269  428a2f660dc84138d969ccd69a0ab6d5             13  ...  65.49         16.22\n",
              "29270  428a2f660dc84138d969ccd69a0ab6d5             14  ...  65.49         16.22\n",
              "29271  428a2f660dc84138d969ccd69a0ab6d5             15  ...  65.49         16.22\n",
              "\n",
              "[15 rows x 7 columns]"
            ]
          },
          "metadata": {
            "tags": []
          },
          "execution_count": 5
        }
      ]
    },
    {
      "cell_type": "code",
      "metadata": {
        "id": "o8PH9nftyI3G",
        "colab": {
          "base_uri": "https://localhost:8080/",
          "height": 76
        },
        "outputId": "b5bf822d-3e0f-442e-f0c5-94b416618672"
      },
      "source": [
        "data_payments[data_payments['order_id']=='428a2f660dc84138d969ccd69a0ab6d5']"
      ],
      "execution_count": 6,
      "outputs": [
        {
          "output_type": "execute_result",
          "data": {
            "text/html": [
              "<div>\n",
              "<style scoped>\n",
              "    .dataframe tbody tr th:only-of-type {\n",
              "        vertical-align: middle;\n",
              "    }\n",
              "\n",
              "    .dataframe tbody tr th {\n",
              "        vertical-align: top;\n",
              "    }\n",
              "\n",
              "    .dataframe thead th {\n",
              "        text-align: right;\n",
              "    }\n",
              "</style>\n",
              "<table border=\"1\" class=\"dataframe\">\n",
              "  <thead>\n",
              "    <tr style=\"text-align: right;\">\n",
              "      <th></th>\n",
              "      <th>order_id</th>\n",
              "      <th>payment_sequential</th>\n",
              "      <th>payment_type</th>\n",
              "      <th>payment_installments</th>\n",
              "      <th>payment_value</th>\n",
              "    </tr>\n",
              "  </thead>\n",
              "  <tbody>\n",
              "    <tr>\n",
              "      <th>17373</th>\n",
              "      <td>428a2f660dc84138d969ccd69a0ab6d5</td>\n",
              "      <td>1</td>\n",
              "      <td>credit_card</td>\n",
              "      <td>10</td>\n",
              "      <td>1225.65</td>\n",
              "    </tr>\n",
              "  </tbody>\n",
              "</table>\n",
              "</div>"
            ],
            "text/plain": [
              "                               order_id  ...  payment_value\n",
              "17373  428a2f660dc84138d969ccd69a0ab6d5  ...        1225.65\n",
              "\n",
              "[1 rows x 5 columns]"
            ]
          },
          "metadata": {
            "tags": []
          },
          "execution_count": 6
        }
      ]
    },
    {
      "cell_type": "markdown",
      "metadata": {
        "id": "pYhIXK0KvspK"
      },
      "source": [
        "As we can see, in the **item dataset** from a single **order_id** we can extract several informations such us: \n",
        "\n",
        "- the number of items ordered\n",
        "- sellers related to this order\n",
        "- most common product\n",
        "- and most common seller \n"
      ]
    },
    {
      "cell_type": "code",
      "metadata": {
        "id": "G3zHpZLwCgRW"
      },
      "source": [
        "from scipy import stats\n",
        "\n",
        "def items_infos(df_item,df_orders,df_products): \n",
        "\n",
        "  items_number=df_item.groupby(['order_id']).apply(lambda x: x['product_id'].nunique())\n",
        "  sellers_number=df_item.groupby(['order_id']).apply(lambda x: x['seller_id'].nunique())\n",
        "  common_product=df_item.groupby(['order_id']).apply(lambda x: stats.mode(x['product_id'])[0][0])\n",
        "  common_seller=df_item.groupby(['order_id']).apply(lambda x: stats.mode(x['seller_id'])[0][0])\n",
        "        \n",
        "  result=pd.DataFrame({'items_number':items_number.values.tolist(),\n",
        "                       'sellers_number':sellers_number.values.tolist(),\n",
        "                       'product_id':common_product,\n",
        "                       'most_common_seller':common_seller\n",
        "                       }).join(df_orders.set_index('order_id')[['customer_id']]).reset_index().set_index('product_id')\n",
        "  result=result.join(df_products.set_index('product_id')[['main_category']])\n",
        "\n",
        "  return result.reset_index().drop('product_id',axis=1)"
      ],
      "execution_count": null,
      "outputs": []
    },
    {
      "cell_type": "markdown",
      "metadata": {
        "id": "xTXWxUk0Uk-x"
      },
      "source": [
        "### payments"
      ]
    },
    {
      "cell_type": "code",
      "metadata": {
        "colab": {
          "base_uri": "https://localhost:8080/"
        },
        "id": "_kWPKt6FLg0_",
        "outputId": "e561f3d7-5bc3-41e7-c011-ee51a4f324b0"
      },
      "source": [
        "data_payments.info()"
      ],
      "execution_count": null,
      "outputs": [
        {
          "output_type": "stream",
          "text": [
            "<class 'pandas.core.frame.DataFrame'>\n",
            "RangeIndex: 103886 entries, 0 to 103885\n",
            "Data columns (total 5 columns):\n",
            " #   Column                Non-Null Count   Dtype  \n",
            "---  ------                --------------   -----  \n",
            " 0   order_id              103886 non-null  object \n",
            " 1   payment_sequential    103886 non-null  int64  \n",
            " 2   payment_type          103886 non-null  object \n",
            " 3   payment_installments  103886 non-null  int64  \n",
            " 4   payment_value         103886 non-null  float64\n",
            "dtypes: float64(1), int64(2), object(2)\n",
            "memory usage: 4.0+ MB\n"
          ],
          "name": "stdout"
        }
      ]
    },
    {
      "cell_type": "code",
      "metadata": {
        "colab": {
          "base_uri": "https://localhost:8080/",
          "height": 197
        },
        "id": "mVoDJrj3a7s9",
        "outputId": "f83ecc75-0822-422b-bbed-df67bb2c3932"
      },
      "source": [
        "data_payments.head()"
      ],
      "execution_count": null,
      "outputs": [
        {
          "output_type": "execute_result",
          "data": {
            "text/html": [
              "<div>\n",
              "<style scoped>\n",
              "    .dataframe tbody tr th:only-of-type {\n",
              "        vertical-align: middle;\n",
              "    }\n",
              "\n",
              "    .dataframe tbody tr th {\n",
              "        vertical-align: top;\n",
              "    }\n",
              "\n",
              "    .dataframe thead th {\n",
              "        text-align: right;\n",
              "    }\n",
              "</style>\n",
              "<table border=\"1\" class=\"dataframe\">\n",
              "  <thead>\n",
              "    <tr style=\"text-align: right;\">\n",
              "      <th></th>\n",
              "      <th>order_id</th>\n",
              "      <th>payment_sequential</th>\n",
              "      <th>payment_type</th>\n",
              "      <th>payment_installments</th>\n",
              "      <th>payment_value</th>\n",
              "    </tr>\n",
              "  </thead>\n",
              "  <tbody>\n",
              "    <tr>\n",
              "      <th>0</th>\n",
              "      <td>b81ef226f3fe1789b1e8b2acac839d17</td>\n",
              "      <td>1</td>\n",
              "      <td>credit_card</td>\n",
              "      <td>8</td>\n",
              "      <td>99.33</td>\n",
              "    </tr>\n",
              "    <tr>\n",
              "      <th>1</th>\n",
              "      <td>a9810da82917af2d9aefd1278f1dcfa0</td>\n",
              "      <td>1</td>\n",
              "      <td>credit_card</td>\n",
              "      <td>1</td>\n",
              "      <td>24.39</td>\n",
              "    </tr>\n",
              "    <tr>\n",
              "      <th>2</th>\n",
              "      <td>25e8ea4e93396b6fa0d3dd708e76c1bd</td>\n",
              "      <td>1</td>\n",
              "      <td>credit_card</td>\n",
              "      <td>1</td>\n",
              "      <td>65.71</td>\n",
              "    </tr>\n",
              "    <tr>\n",
              "      <th>3</th>\n",
              "      <td>ba78997921bbcdc1373bb41e913ab953</td>\n",
              "      <td>1</td>\n",
              "      <td>credit_card</td>\n",
              "      <td>8</td>\n",
              "      <td>107.78</td>\n",
              "    </tr>\n",
              "    <tr>\n",
              "      <th>4</th>\n",
              "      <td>42fdf880ba16b47b59251dd489d4441a</td>\n",
              "      <td>1</td>\n",
              "      <td>credit_card</td>\n",
              "      <td>2</td>\n",
              "      <td>128.45</td>\n",
              "    </tr>\n",
              "  </tbody>\n",
              "</table>\n",
              "</div>"
            ],
            "text/plain": [
              "                           order_id  ...  payment_value\n",
              "0  b81ef226f3fe1789b1e8b2acac839d17  ...          99.33\n",
              "1  a9810da82917af2d9aefd1278f1dcfa0  ...          24.39\n",
              "2  25e8ea4e93396b6fa0d3dd708e76c1bd  ...          65.71\n",
              "3  ba78997921bbcdc1373bb41e913ab953  ...         107.78\n",
              "4  42fdf880ba16b47b59251dd489d4441a  ...         128.45\n",
              "\n",
              "[5 rows x 5 columns]"
            ]
          },
          "metadata": {
            "tags": []
          },
          "execution_count": 33
        }
      ]
    },
    {
      "cell_type": "code",
      "metadata": {
        "colab": {
          "base_uri": "https://localhost:8080/"
        },
        "id": "PFnBxzfv2uew",
        "outputId": "0d732367-64cf-4de7-eba0-d45208071535"
      },
      "source": [
        "data_payments.nunique()"
      ],
      "execution_count": 8,
      "outputs": [
        {
          "output_type": "execute_result",
          "data": {
            "text/plain": [
              "order_id                99440\n",
              "payment_sequential         29\n",
              "payment_type                5\n",
              "payment_installments       24\n",
              "payment_value           29077\n",
              "dtype: int64"
            ]
          },
          "metadata": {
            "tags": []
          },
          "execution_count": 8
        }
      ]
    },
    {
      "cell_type": "markdown",
      "metadata": {
        "id": "5HQ1L5C8xKFW"
      },
      "source": [
        "from the **payment_dataset**, the main informations to provide are:\n",
        "\n",
        "- most common payment method\n",
        "- mean payment \n",
        "- max payment (in case of a single command)\n",
        "- payment seqences \n",
        "\n"
      ]
    },
    {
      "cell_type": "code",
      "metadata": {
        "id": "P9eMDYEgCgRY"
      },
      "source": [
        "def payments_infos(df_payment,df_orders):\n",
        "\n",
        "  #extract useful informations\n",
        "  common_payment=df_payment.groupby('order_id').apply(lambda x: stats.mode(x['payment_type'])[0][0])\n",
        "  moy_payments=df_payment.groupby('order_id').apply(lambda x: x['payment_value'].mean())\n",
        "  max_payments=df_payment.groupby('order_id').apply(lambda x: x['payment_value'].max())\n",
        "  payment_sequences=df_payment.groupby('order_id').apply(lambda x: x['payment_sequential'].max() if len(x)>1 else x['payment_installments'].max())\n",
        "\n",
        "  df=pd.DataFrame({'common_payment_method':common_payment.values.tolist(),\n",
        "                   'mean_payments':moy_payments.values.tolist(),\n",
        "                   'max_payment':max_payments.values.tolist(),\n",
        "                   'payment_ease':payment_sequences\n",
        "                       }).join(df_orders.set_index('order_id')[['customer_id']]).reset_index()\n",
        "\n",
        "   \n",
        "  return df"
      ],
      "execution_count": null,
      "outputs": []
    },
    {
      "cell_type": "markdown",
      "metadata": {
        "id": "qrgB-1sdrcNc"
      },
      "source": [
        "###geolocation"
      ]
    },
    {
      "cell_type": "code",
      "metadata": {
        "colab": {
          "base_uri": "https://localhost:8080/",
          "height": 197
        },
        "id": "6Po-yq9mrgsh",
        "outputId": "f1a72423-1a54-49b9-e5cc-0d14eabe05fe"
      },
      "source": [
        "data_geo.head()"
      ],
      "execution_count": null,
      "outputs": [
        {
          "output_type": "execute_result",
          "data": {
            "text/html": [
              "<div>\n",
              "<style scoped>\n",
              "    .dataframe tbody tr th:only-of-type {\n",
              "        vertical-align: middle;\n",
              "    }\n",
              "\n",
              "    .dataframe tbody tr th {\n",
              "        vertical-align: top;\n",
              "    }\n",
              "\n",
              "    .dataframe thead th {\n",
              "        text-align: right;\n",
              "    }\n",
              "</style>\n",
              "<table border=\"1\" class=\"dataframe\">\n",
              "  <thead>\n",
              "    <tr style=\"text-align: right;\">\n",
              "      <th></th>\n",
              "      <th>geolocation_zip_code_prefix</th>\n",
              "      <th>geolocation_lat</th>\n",
              "      <th>geolocation_lng</th>\n",
              "      <th>geolocation_city</th>\n",
              "      <th>geolocation_state</th>\n",
              "    </tr>\n",
              "  </thead>\n",
              "  <tbody>\n",
              "    <tr>\n",
              "      <th>0</th>\n",
              "      <td>1037</td>\n",
              "      <td>-23.545621</td>\n",
              "      <td>-46.639292</td>\n",
              "      <td>sao paulo</td>\n",
              "      <td>SP</td>\n",
              "    </tr>\n",
              "    <tr>\n",
              "      <th>1</th>\n",
              "      <td>1046</td>\n",
              "      <td>-23.546081</td>\n",
              "      <td>-46.644820</td>\n",
              "      <td>sao paulo</td>\n",
              "      <td>SP</td>\n",
              "    </tr>\n",
              "    <tr>\n",
              "      <th>2</th>\n",
              "      <td>1046</td>\n",
              "      <td>-23.546129</td>\n",
              "      <td>-46.642951</td>\n",
              "      <td>sao paulo</td>\n",
              "      <td>SP</td>\n",
              "    </tr>\n",
              "    <tr>\n",
              "      <th>3</th>\n",
              "      <td>1041</td>\n",
              "      <td>-23.544392</td>\n",
              "      <td>-46.639499</td>\n",
              "      <td>sao paulo</td>\n",
              "      <td>SP</td>\n",
              "    </tr>\n",
              "    <tr>\n",
              "      <th>4</th>\n",
              "      <td>1035</td>\n",
              "      <td>-23.541578</td>\n",
              "      <td>-46.641607</td>\n",
              "      <td>sao paulo</td>\n",
              "      <td>SP</td>\n",
              "    </tr>\n",
              "  </tbody>\n",
              "</table>\n",
              "</div>"
            ],
            "text/plain": [
              "   geolocation_zip_code_prefix  ...  geolocation_state\n",
              "0                         1037  ...                 SP\n",
              "1                         1046  ...                 SP\n",
              "2                         1046  ...                 SP\n",
              "3                         1041  ...                 SP\n",
              "4                         1035  ...                 SP\n",
              "\n",
              "[5 rows x 5 columns]"
            ]
          },
          "metadata": {
            "tags": []
          },
          "execution_count": 157
        }
      ]
    },
    {
      "cell_type": "code",
      "metadata": {
        "colab": {
          "base_uri": "https://localhost:8080/"
        },
        "id": "CFJLyw4o3z0Z",
        "outputId": "91af4177-3728-4cfe-880b-565527480d60"
      },
      "source": [
        "data_geo.shape"
      ],
      "execution_count": 10,
      "outputs": [
        {
          "output_type": "execute_result",
          "data": {
            "text/plain": [
              "(1000163, 5)"
            ]
          },
          "metadata": {
            "tags": []
          },
          "execution_count": 10
        }
      ]
    },
    {
      "cell_type": "code",
      "metadata": {
        "colab": {
          "base_uri": "https://localhost:8080/"
        },
        "id": "8ZGl6hya3u5Z",
        "outputId": "44322b0b-0afc-4fd9-f78e-57793e467488"
      },
      "source": [
        "data_geo.nunique()"
      ],
      "execution_count": 9,
      "outputs": [
        {
          "output_type": "execute_result",
          "data": {
            "text/plain": [
              "geolocation_zip_code_prefix     19015\n",
              "geolocation_lat                717358\n",
              "geolocation_lng                717613\n",
              "geolocation_city                 8011\n",
              "geolocation_state                  27\n",
              "dtype: int64"
            ]
          },
          "metadata": {
            "tags": []
          },
          "execution_count": 9
        }
      ]
    },
    {
      "cell_type": "markdown",
      "metadata": {
        "id": "Z6h5YT5l36nP"
      },
      "source": [
        "As we can see for a single **geolocation_zip_code_prefix** we have several values to Latitude and longitude. the Idea is to take the mean for each variable \n",
        "\n",
        "then we set for each zip_code the state and the longitude and latitude related"
      ]
    },
    {
      "cell_type": "code",
      "metadata": {
        "id": "IAlgypkUrmTI"
      },
      "source": [
        "def geo_infos(df):\n",
        "\n",
        "  state=df.groupby('geolocation_zip_code_prefix').apply(lambda x: x['geolocation_state'].unique()[0])\n",
        "  zip_code_lat=df.groupby('geolocation_zip_code_prefix').apply(lambda x: x['geolocation_lat'].mean())\n",
        "  zip_code_long=df.groupby('geolocation_zip_code_prefix').apply(lambda x: x['geolocation_lng'].mean())\n",
        "\n",
        "  df=pd.DataFrame({'geolocation_zip_code_prefix': state.index.tolist(),\n",
        "                   'state':state.values.tolist(),\n",
        "                   'geolocation_lat':zip_code_lat.values.tolist(),\n",
        "                   'geolocation_lng':zip_code_long.values.tolist()\n",
        "                       })\n",
        "\n",
        "  return df\n"
      ],
      "execution_count": null,
      "outputs": []
    },
    {
      "cell_type": "code",
      "metadata": {
        "colab": {
          "base_uri": "https://localhost:8080/",
          "height": 406
        },
        "id": "up3NGQ8vtAj3",
        "outputId": "8f2accaf-9874-4948-8f97-412827ece84a"
      },
      "source": [
        "data_geo"
      ],
      "execution_count": null,
      "outputs": [
        {
          "output_type": "execute_result",
          "data": {
            "text/html": [
              "<div>\n",
              "<style scoped>\n",
              "    .dataframe tbody tr th:only-of-type {\n",
              "        vertical-align: middle;\n",
              "    }\n",
              "\n",
              "    .dataframe tbody tr th {\n",
              "        vertical-align: top;\n",
              "    }\n",
              "\n",
              "    .dataframe thead th {\n",
              "        text-align: right;\n",
              "    }\n",
              "</style>\n",
              "<table border=\"1\" class=\"dataframe\">\n",
              "  <thead>\n",
              "    <tr style=\"text-align: right;\">\n",
              "      <th></th>\n",
              "      <th>geolocation_zip_code_prefix</th>\n",
              "      <th>state</th>\n",
              "      <th>geolocation_lat</th>\n",
              "      <th>geolocation_lng</th>\n",
              "    </tr>\n",
              "  </thead>\n",
              "  <tbody>\n",
              "    <tr>\n",
              "      <th>0</th>\n",
              "      <td>1001</td>\n",
              "      <td>SP</td>\n",
              "      <td>-23.550190</td>\n",
              "      <td>-46.634024</td>\n",
              "    </tr>\n",
              "    <tr>\n",
              "      <th>1</th>\n",
              "      <td>1002</td>\n",
              "      <td>SP</td>\n",
              "      <td>-23.548146</td>\n",
              "      <td>-46.634979</td>\n",
              "    </tr>\n",
              "    <tr>\n",
              "      <th>2</th>\n",
              "      <td>1003</td>\n",
              "      <td>SP</td>\n",
              "      <td>-23.548994</td>\n",
              "      <td>-46.635731</td>\n",
              "    </tr>\n",
              "    <tr>\n",
              "      <th>3</th>\n",
              "      <td>1004</td>\n",
              "      <td>SP</td>\n",
              "      <td>-23.549799</td>\n",
              "      <td>-46.634757</td>\n",
              "    </tr>\n",
              "    <tr>\n",
              "      <th>4</th>\n",
              "      <td>1005</td>\n",
              "      <td>SP</td>\n",
              "      <td>-23.549456</td>\n",
              "      <td>-46.636733</td>\n",
              "    </tr>\n",
              "    <tr>\n",
              "      <th>...</th>\n",
              "      <td>...</td>\n",
              "      <td>...</td>\n",
              "      <td>...</td>\n",
              "      <td>...</td>\n",
              "    </tr>\n",
              "    <tr>\n",
              "      <th>19010</th>\n",
              "      <td>99960</td>\n",
              "      <td>RS</td>\n",
              "      <td>-27.953722</td>\n",
              "      <td>-52.025511</td>\n",
              "    </tr>\n",
              "    <tr>\n",
              "      <th>19011</th>\n",
              "      <td>99965</td>\n",
              "      <td>RS</td>\n",
              "      <td>-28.183372</td>\n",
              "      <td>-52.039850</td>\n",
              "    </tr>\n",
              "    <tr>\n",
              "      <th>19012</th>\n",
              "      <td>99970</td>\n",
              "      <td>RS</td>\n",
              "      <td>-28.343766</td>\n",
              "      <td>-51.874689</td>\n",
              "    </tr>\n",
              "    <tr>\n",
              "      <th>19013</th>\n",
              "      <td>99980</td>\n",
              "      <td>RS</td>\n",
              "      <td>-28.389129</td>\n",
              "      <td>-51.843836</td>\n",
              "    </tr>\n",
              "    <tr>\n",
              "      <th>19014</th>\n",
              "      <td>99990</td>\n",
              "      <td>RS</td>\n",
              "      <td>-28.329595</td>\n",
              "      <td>-51.769362</td>\n",
              "    </tr>\n",
              "  </tbody>\n",
              "</table>\n",
              "<p>19015 rows × 4 columns</p>\n",
              "</div>"
            ],
            "text/plain": [
              "       geolocation_zip_code_prefix state  geolocation_lat  geolocation_lng\n",
              "0                             1001    SP       -23.550190       -46.634024\n",
              "1                             1002    SP       -23.548146       -46.634979\n",
              "2                             1003    SP       -23.548994       -46.635731\n",
              "3                             1004    SP       -23.549799       -46.634757\n",
              "4                             1005    SP       -23.549456       -46.636733\n",
              "...                            ...   ...              ...              ...\n",
              "19010                        99960    RS       -27.953722       -52.025511\n",
              "19011                        99965    RS       -28.183372       -52.039850\n",
              "19012                        99970    RS       -28.343766       -51.874689\n",
              "19013                        99980    RS       -28.389129       -51.843836\n",
              "19014                        99990    RS       -28.329595       -51.769362\n",
              "\n",
              "[19015 rows x 4 columns]"
            ]
          },
          "metadata": {
            "tags": []
          },
          "execution_count": 207
        }
      ]
    },
    {
      "cell_type": "markdown",
      "metadata": {
        "id": "qtg_spupRPB5"
      },
      "source": [
        "### customers"
      ]
    },
    {
      "cell_type": "code",
      "metadata": {
        "id": "JCCXvN2AdxCN",
        "colab": {
          "base_uri": "https://localhost:8080/",
          "height": 391
        },
        "outputId": "6d95374c-755d-48b6-fcd0-ed740205f5fc"
      },
      "source": [
        "data_customers"
      ],
      "execution_count": null,
      "outputs": [
        {
          "output_type": "execute_result",
          "data": {
            "text/html": [
              "<div>\n",
              "<style scoped>\n",
              "    .dataframe tbody tr th:only-of-type {\n",
              "        vertical-align: middle;\n",
              "    }\n",
              "\n",
              "    .dataframe tbody tr th {\n",
              "        vertical-align: top;\n",
              "    }\n",
              "\n",
              "    .dataframe thead th {\n",
              "        text-align: right;\n",
              "    }\n",
              "</style>\n",
              "<table border=\"1\" class=\"dataframe\">\n",
              "  <thead>\n",
              "    <tr style=\"text-align: right;\">\n",
              "      <th></th>\n",
              "      <th>customer_id</th>\n",
              "      <th>customer_unique_id</th>\n",
              "      <th>customer_zip_code_prefix</th>\n",
              "      <th>customer_city</th>\n",
              "      <th>customer_state</th>\n",
              "    </tr>\n",
              "  </thead>\n",
              "  <tbody>\n",
              "    <tr>\n",
              "      <th>0</th>\n",
              "      <td>06b8999e2fba1a1fbc88172c00ba8bc7</td>\n",
              "      <td>861eff4711a542e4b93843c6dd7febb0</td>\n",
              "      <td>14409</td>\n",
              "      <td>franca</td>\n",
              "      <td>SP</td>\n",
              "    </tr>\n",
              "    <tr>\n",
              "      <th>1</th>\n",
              "      <td>18955e83d337fd6b2def6b18a428ac77</td>\n",
              "      <td>290c77bc529b7ac935b93aa66c333dc3</td>\n",
              "      <td>9790</td>\n",
              "      <td>sao bernardo do campo</td>\n",
              "      <td>SP</td>\n",
              "    </tr>\n",
              "    <tr>\n",
              "      <th>2</th>\n",
              "      <td>4e7b3e00288586ebd08712fdd0374a03</td>\n",
              "      <td>060e732b5b29e8181a18229c7b0b2b5e</td>\n",
              "      <td>1151</td>\n",
              "      <td>sao paulo</td>\n",
              "      <td>SP</td>\n",
              "    </tr>\n",
              "    <tr>\n",
              "      <th>3</th>\n",
              "      <td>b2b6027bc5c5109e529d4dc6358b12c3</td>\n",
              "      <td>259dac757896d24d7702b9acbbff3f3c</td>\n",
              "      <td>8775</td>\n",
              "      <td>mogi das cruzes</td>\n",
              "      <td>SP</td>\n",
              "    </tr>\n",
              "    <tr>\n",
              "      <th>4</th>\n",
              "      <td>4f2d8ab171c80ec8364f7c12e35b23ad</td>\n",
              "      <td>345ecd01c38d18a9036ed96c73b8d066</td>\n",
              "      <td>13056</td>\n",
              "      <td>campinas</td>\n",
              "      <td>SP</td>\n",
              "    </tr>\n",
              "    <tr>\n",
              "      <th>...</th>\n",
              "      <td>...</td>\n",
              "      <td>...</td>\n",
              "      <td>...</td>\n",
              "      <td>...</td>\n",
              "      <td>...</td>\n",
              "    </tr>\n",
              "    <tr>\n",
              "      <th>99436</th>\n",
              "      <td>17ddf5dd5d51696bb3d7c6291687be6f</td>\n",
              "      <td>1a29b476fee25c95fbafc67c5ac95cf8</td>\n",
              "      <td>3937</td>\n",
              "      <td>sao paulo</td>\n",
              "      <td>SP</td>\n",
              "    </tr>\n",
              "    <tr>\n",
              "      <th>99437</th>\n",
              "      <td>e7b71a9017aa05c9a7fd292d714858e8</td>\n",
              "      <td>d52a67c98be1cf6a5c84435bd38d095d</td>\n",
              "      <td>6764</td>\n",
              "      <td>taboao da serra</td>\n",
              "      <td>SP</td>\n",
              "    </tr>\n",
              "    <tr>\n",
              "      <th>99438</th>\n",
              "      <td>5e28dfe12db7fb50a4b2f691faecea5e</td>\n",
              "      <td>e9f50caf99f032f0bf3c55141f019d99</td>\n",
              "      <td>60115</td>\n",
              "      <td>fortaleza</td>\n",
              "      <td>CE</td>\n",
              "    </tr>\n",
              "    <tr>\n",
              "      <th>99439</th>\n",
              "      <td>56b18e2166679b8a959d72dd06da27f9</td>\n",
              "      <td>73c2643a0a458b49f58cea58833b192e</td>\n",
              "      <td>92120</td>\n",
              "      <td>canoas</td>\n",
              "      <td>RS</td>\n",
              "    </tr>\n",
              "    <tr>\n",
              "      <th>99440</th>\n",
              "      <td>274fa6071e5e17fe303b9748641082c8</td>\n",
              "      <td>84732c5050c01db9b23e19ba39899398</td>\n",
              "      <td>6703</td>\n",
              "      <td>cotia</td>\n",
              "      <td>SP</td>\n",
              "    </tr>\n",
              "  </tbody>\n",
              "</table>\n",
              "<p>99441 rows × 5 columns</p>\n",
              "</div>"
            ],
            "text/plain": [
              "                            customer_id  ... customer_state\n",
              "0      06b8999e2fba1a1fbc88172c00ba8bc7  ...             SP\n",
              "1      18955e83d337fd6b2def6b18a428ac77  ...             SP\n",
              "2      4e7b3e00288586ebd08712fdd0374a03  ...             SP\n",
              "3      b2b6027bc5c5109e529d4dc6358b12c3  ...             SP\n",
              "4      4f2d8ab171c80ec8364f7c12e35b23ad  ...             SP\n",
              "...                                 ...  ...            ...\n",
              "99436  17ddf5dd5d51696bb3d7c6291687be6f  ...             SP\n",
              "99437  e7b71a9017aa05c9a7fd292d714858e8  ...             SP\n",
              "99438  5e28dfe12db7fb50a4b2f691faecea5e  ...             CE\n",
              "99439  56b18e2166679b8a959d72dd06da27f9  ...             RS\n",
              "99440  274fa6071e5e17fe303b9748641082c8  ...             SP\n",
              "\n",
              "[99441 rows x 5 columns]"
            ]
          },
          "metadata": {
            "tags": []
          },
          "execution_count": 4
        }
      ]
    },
    {
      "cell_type": "markdown",
      "metadata": {
        "id": "Gensj78o-2fT"
      },
      "source": [
        "According to each customer_zip_code_prefix we will set the related longitude and latitude\n",
        "\n",
        "we will use informations from the geo_datset"
      ]
    },
    {
      "cell_type": "code",
      "metadata": {
        "id": "KD3q2reNCgRc"
      },
      "source": [
        "def customers_infos(df_customer,df_geo):\n",
        "\n",
        "  df=df_customer.drop(['customer_unique_id','customer_city'],axis=1)\n",
        "  df=df.rename({'customer_zip_code_prefix':'geolocation_zip_code_prefix'},axis=1)\n",
        "  df=df.set_index('geolocation_zip_code_prefix').join(df_geo.set_index('geolocation_zip_code_prefix')[['geolocation_lat','geolocation_lng']]).reset_index()\n",
        "  \n",
        "  \n",
        "  return df"
      ],
      "execution_count": null,
      "outputs": []
    },
    {
      "cell_type": "markdown",
      "metadata": {
        "id": "us4m7w2vuU4H"
      },
      "source": [
        "### sellers"
      ]
    },
    {
      "cell_type": "code",
      "metadata": {
        "colab": {
          "base_uri": "https://localhost:8080/",
          "height": 406
        },
        "id": "VFb6nH3xuXea",
        "outputId": "597236fd-7129-4a42-80cb-876fb354c8b6"
      },
      "source": [
        "data_sellers"
      ],
      "execution_count": null,
      "outputs": [
        {
          "output_type": "execute_result",
          "data": {
            "text/html": [
              "<div>\n",
              "<style scoped>\n",
              "    .dataframe tbody tr th:only-of-type {\n",
              "        vertical-align: middle;\n",
              "    }\n",
              "\n",
              "    .dataframe tbody tr th {\n",
              "        vertical-align: top;\n",
              "    }\n",
              "\n",
              "    .dataframe thead th {\n",
              "        text-align: right;\n",
              "    }\n",
              "</style>\n",
              "<table border=\"1\" class=\"dataframe\">\n",
              "  <thead>\n",
              "    <tr style=\"text-align: right;\">\n",
              "      <th></th>\n",
              "      <th>seller_id</th>\n",
              "      <th>seller_zip_code_prefix</th>\n",
              "      <th>seller_city</th>\n",
              "      <th>seller_state</th>\n",
              "    </tr>\n",
              "  </thead>\n",
              "  <tbody>\n",
              "    <tr>\n",
              "      <th>0</th>\n",
              "      <td>3442f8959a84dea7ee197c632cb2df15</td>\n",
              "      <td>13023</td>\n",
              "      <td>campinas</td>\n",
              "      <td>SP</td>\n",
              "    </tr>\n",
              "    <tr>\n",
              "      <th>1</th>\n",
              "      <td>d1b65fc7debc3361ea86b5f14c68d2e2</td>\n",
              "      <td>13844</td>\n",
              "      <td>mogi guacu</td>\n",
              "      <td>SP</td>\n",
              "    </tr>\n",
              "    <tr>\n",
              "      <th>2</th>\n",
              "      <td>ce3ad9de960102d0677a81f5d0bb7b2d</td>\n",
              "      <td>20031</td>\n",
              "      <td>rio de janeiro</td>\n",
              "      <td>RJ</td>\n",
              "    </tr>\n",
              "    <tr>\n",
              "      <th>3</th>\n",
              "      <td>c0f3eea2e14555b6faeea3dd58c1b1c3</td>\n",
              "      <td>4195</td>\n",
              "      <td>sao paulo</td>\n",
              "      <td>SP</td>\n",
              "    </tr>\n",
              "    <tr>\n",
              "      <th>4</th>\n",
              "      <td>51a04a8a6bdcb23deccc82b0b80742cf</td>\n",
              "      <td>12914</td>\n",
              "      <td>braganca paulista</td>\n",
              "      <td>SP</td>\n",
              "    </tr>\n",
              "    <tr>\n",
              "      <th>...</th>\n",
              "      <td>...</td>\n",
              "      <td>...</td>\n",
              "      <td>...</td>\n",
              "      <td>...</td>\n",
              "    </tr>\n",
              "    <tr>\n",
              "      <th>3090</th>\n",
              "      <td>98dddbc4601dd4443ca174359b237166</td>\n",
              "      <td>87111</td>\n",
              "      <td>sarandi</td>\n",
              "      <td>PR</td>\n",
              "    </tr>\n",
              "    <tr>\n",
              "      <th>3091</th>\n",
              "      <td>f8201cab383e484733266d1906e2fdfa</td>\n",
              "      <td>88137</td>\n",
              "      <td>palhoca</td>\n",
              "      <td>SC</td>\n",
              "    </tr>\n",
              "    <tr>\n",
              "      <th>3092</th>\n",
              "      <td>74871d19219c7d518d0090283e03c137</td>\n",
              "      <td>4650</td>\n",
              "      <td>sao paulo</td>\n",
              "      <td>SP</td>\n",
              "    </tr>\n",
              "    <tr>\n",
              "      <th>3093</th>\n",
              "      <td>e603cf3fec55f8697c9059638d6c8eb5</td>\n",
              "      <td>96080</td>\n",
              "      <td>pelotas</td>\n",
              "      <td>RS</td>\n",
              "    </tr>\n",
              "    <tr>\n",
              "      <th>3094</th>\n",
              "      <td>9e25199f6ef7e7c347120ff175652c3b</td>\n",
              "      <td>12051</td>\n",
              "      <td>taubate</td>\n",
              "      <td>SP</td>\n",
              "    </tr>\n",
              "  </tbody>\n",
              "</table>\n",
              "<p>3095 rows × 4 columns</p>\n",
              "</div>"
            ],
            "text/plain": [
              "                             seller_id  ...  seller_state\n",
              "0     3442f8959a84dea7ee197c632cb2df15  ...            SP\n",
              "1     d1b65fc7debc3361ea86b5f14c68d2e2  ...            SP\n",
              "2     ce3ad9de960102d0677a81f5d0bb7b2d  ...            RJ\n",
              "3     c0f3eea2e14555b6faeea3dd58c1b1c3  ...            SP\n",
              "4     51a04a8a6bdcb23deccc82b0b80742cf  ...            SP\n",
              "...                                ...  ...           ...\n",
              "3090  98dddbc4601dd4443ca174359b237166  ...            PR\n",
              "3091  f8201cab383e484733266d1906e2fdfa  ...            SC\n",
              "3092  74871d19219c7d518d0090283e03c137  ...            SP\n",
              "3093  e603cf3fec55f8697c9059638d6c8eb5  ...            RS\n",
              "3094  9e25199f6ef7e7c347120ff175652c3b  ...            SP\n",
              "\n",
              "[3095 rows x 4 columns]"
            ]
          },
          "metadata": {
            "tags": []
          },
          "execution_count": 178
        }
      ]
    },
    {
      "cell_type": "markdown",
      "metadata": {
        "id": "l2LY-aJo_exk"
      },
      "source": [
        "Same transformation as the customer_dataset\n",
        "\n",
        "For each seller we will add the location variables \n",
        "\n",
        "This well help us get the distance between the seller and the customer "
      ]
    },
    {
      "cell_type": "code",
      "metadata": {
        "id": "8osnu8xYCgRe"
      },
      "source": [
        "def sellers_info(df_seller,df_geo):\n",
        "\n",
        "  df=df_seller.drop(['seller_city'],axis=1)\n",
        "  df=df.rename({'seller_zip_code_prefix':'geolocation_zip_code_prefix'},axis=1)\n",
        "  df=df.set_index('geolocation_zip_code_prefix').join(df_geo.set_index('geolocation_zip_code_prefix')[['geolocation_lat','geolocation_lng']]).reset_index()\n",
        "  df=df.rename({'geolocation_lat':'geolocation_lat_seller',\t'geolocation_lng':'geolocation_lng_seller'},axis=1)\n",
        "  \n",
        "  \n",
        "  return df.drop(['geolocation_zip_code_prefix','seller_state'],axis=1)\n",
        "\n"
      ],
      "execution_count": null,
      "outputs": []
    },
    {
      "cell_type": "code",
      "metadata": {
        "colab": {
          "base_uri": "https://localhost:8080/",
          "height": 406
        },
        "id": "P8rTHW6qrEuA",
        "outputId": "7c251450-5522-4c48-f936-3d77e52471cf"
      },
      "source": [
        "sellers_info(data_sellers)"
      ],
      "execution_count": null,
      "outputs": [
        {
          "output_type": "execute_result",
          "data": {
            "text/html": [
              "<div>\n",
              "<style scoped>\n",
              "    .dataframe tbody tr th:only-of-type {\n",
              "        vertical-align: middle;\n",
              "    }\n",
              "\n",
              "    .dataframe tbody tr th {\n",
              "        vertical-align: top;\n",
              "    }\n",
              "\n",
              "    .dataframe thead th {\n",
              "        text-align: right;\n",
              "    }\n",
              "</style>\n",
              "<table border=\"1\" class=\"dataframe\">\n",
              "  <thead>\n",
              "    <tr style=\"text-align: right;\">\n",
              "      <th></th>\n",
              "      <th>geolocation_zip_code_prefix</th>\n",
              "      <th>seller_id</th>\n",
              "      <th>seller_state</th>\n",
              "      <th>geolocation_lat</th>\n",
              "      <th>geolocation_lng</th>\n",
              "    </tr>\n",
              "  </thead>\n",
              "  <tbody>\n",
              "    <tr>\n",
              "      <th>0</th>\n",
              "      <td>1001</td>\n",
              "      <td>8602a61d680a10a82cceeeda0d99ea3d</td>\n",
              "      <td>SP</td>\n",
              "      <td>-23.550190</td>\n",
              "      <td>-46.634024</td>\n",
              "    </tr>\n",
              "    <tr>\n",
              "      <th>1</th>\n",
              "      <td>1021</td>\n",
              "      <td>e0487761face83d64fcada2408959a36</td>\n",
              "      <td>SP</td>\n",
              "      <td>-23.543000</td>\n",
              "      <td>-46.632143</td>\n",
              "    </tr>\n",
              "    <tr>\n",
              "      <th>2</th>\n",
              "      <td>1021</td>\n",
              "      <td>dd55f1bb788714a40e7954c3be6df745</td>\n",
              "      <td>SP</td>\n",
              "      <td>-23.543000</td>\n",
              "      <td>-46.632143</td>\n",
              "    </tr>\n",
              "    <tr>\n",
              "      <th>3</th>\n",
              "      <td>1022</td>\n",
              "      <td>09bad886111255c5b5030314fc7f1a4a</td>\n",
              "      <td>SP</td>\n",
              "      <td>-23.544922</td>\n",
              "      <td>-46.631931</td>\n",
              "    </tr>\n",
              "    <tr>\n",
              "      <th>4</th>\n",
              "      <td>1023</td>\n",
              "      <td>f049a72cf58fd31b11f8919cade515e7</td>\n",
              "      <td>SP</td>\n",
              "      <td>-23.542331</td>\n",
              "      <td>-46.631373</td>\n",
              "    </tr>\n",
              "    <tr>\n",
              "      <th>...</th>\n",
              "      <td>...</td>\n",
              "      <td>...</td>\n",
              "      <td>...</td>\n",
              "      <td>...</td>\n",
              "      <td>...</td>\n",
              "    </tr>\n",
              "    <tr>\n",
              "      <th>3090</th>\n",
              "      <td>99500</td>\n",
              "      <td>447d377bdb757058acb569025ee18a93</td>\n",
              "      <td>RS</td>\n",
              "      <td>-28.291245</td>\n",
              "      <td>-52.790256</td>\n",
              "    </tr>\n",
              "    <tr>\n",
              "      <th>3091</th>\n",
              "      <td>99500</td>\n",
              "      <td>b1a81260566c1bac3114a6d124413f27</td>\n",
              "      <td>RS</td>\n",
              "      <td>-28.291245</td>\n",
              "      <td>-52.790256</td>\n",
              "    </tr>\n",
              "    <tr>\n",
              "      <th>3092</th>\n",
              "      <td>99670</td>\n",
              "      <td>4fae87d32467e18eb46e4a76a0a0b9ce</td>\n",
              "      <td>RS</td>\n",
              "      <td>-27.782222</td>\n",
              "      <td>-52.806500</td>\n",
              "    </tr>\n",
              "    <tr>\n",
              "      <th>3093</th>\n",
              "      <td>99700</td>\n",
              "      <td>968ee78631915a63fef426d6733d7422</td>\n",
              "      <td>RS</td>\n",
              "      <td>-27.636046</td>\n",
              "      <td>-52.273049</td>\n",
              "    </tr>\n",
              "    <tr>\n",
              "      <th>3094</th>\n",
              "      <td>99730</td>\n",
              "      <td>d1c7fa84e48cfa21a0e595167c1c500e</td>\n",
              "      <td>RS</td>\n",
              "      <td>-27.728956</td>\n",
              "      <td>-52.536535</td>\n",
              "    </tr>\n",
              "  </tbody>\n",
              "</table>\n",
              "<p>3095 rows × 5 columns</p>\n",
              "</div>"
            ],
            "text/plain": [
              "      geolocation_zip_code_prefix  ... geolocation_lng\n",
              "0                            1001  ...      -46.634024\n",
              "1                            1021  ...      -46.632143\n",
              "2                            1021  ...      -46.632143\n",
              "3                            1022  ...      -46.631931\n",
              "4                            1023  ...      -46.631373\n",
              "...                           ...  ...             ...\n",
              "3090                        99500  ...      -52.790256\n",
              "3091                        99500  ...      -52.790256\n",
              "3092                        99670  ...      -52.806500\n",
              "3093                        99700  ...      -52.273049\n",
              "3094                        99730  ...      -52.536535\n",
              "\n",
              "[3095 rows x 5 columns]"
            ]
          },
          "metadata": {
            "tags": []
          },
          "execution_count": 180
        }
      ]
    },
    {
      "cell_type": "markdown",
      "metadata": {
        "id": "XEYDaKDZVnUB"
      },
      "source": [
        "### reviews"
      ]
    },
    {
      "cell_type": "code",
      "metadata": {
        "colab": {
          "base_uri": "https://localhost:8080/",
          "height": 490
        },
        "id": "l_LB6XemVsF4",
        "outputId": "a76f10c0-e976-49f5-aa47-576eaa3c58eb"
      },
      "source": [
        "data_reviews"
      ],
      "execution_count": null,
      "outputs": [
        {
          "output_type": "execute_result",
          "data": {
            "text/html": [
              "<div>\n",
              "<style scoped>\n",
              "    .dataframe tbody tr th:only-of-type {\n",
              "        vertical-align: middle;\n",
              "    }\n",
              "\n",
              "    .dataframe tbody tr th {\n",
              "        vertical-align: top;\n",
              "    }\n",
              "\n",
              "    .dataframe thead th {\n",
              "        text-align: right;\n",
              "    }\n",
              "</style>\n",
              "<table border=\"1\" class=\"dataframe\">\n",
              "  <thead>\n",
              "    <tr style=\"text-align: right;\">\n",
              "      <th></th>\n",
              "      <th>review_id</th>\n",
              "      <th>order_id</th>\n",
              "      <th>review_score</th>\n",
              "      <th>review_comment_title</th>\n",
              "      <th>review_comment_message</th>\n",
              "      <th>review_creation_date</th>\n",
              "      <th>review_answer_timestamp</th>\n",
              "    </tr>\n",
              "  </thead>\n",
              "  <tbody>\n",
              "    <tr>\n",
              "      <th>0</th>\n",
              "      <td>7bc2406110b926393aa56f80a40eba40</td>\n",
              "      <td>73fc7af87114b39712e6da79b0a377eb</td>\n",
              "      <td>4</td>\n",
              "      <td>NaN</td>\n",
              "      <td>NaN</td>\n",
              "      <td>2018-01-18 00:00:00</td>\n",
              "      <td>2018-01-18 21:46:59</td>\n",
              "    </tr>\n",
              "    <tr>\n",
              "      <th>1</th>\n",
              "      <td>80e641a11e56f04c1ad469d5645fdfde</td>\n",
              "      <td>a548910a1c6147796b98fdf73dbeba33</td>\n",
              "      <td>5</td>\n",
              "      <td>NaN</td>\n",
              "      <td>NaN</td>\n",
              "      <td>2018-03-10 00:00:00</td>\n",
              "      <td>2018-03-11 03:05:13</td>\n",
              "    </tr>\n",
              "    <tr>\n",
              "      <th>2</th>\n",
              "      <td>228ce5500dc1d8e020d8d1322874b6f0</td>\n",
              "      <td>f9e4b658b201a9f2ecdecbb34bed034b</td>\n",
              "      <td>5</td>\n",
              "      <td>NaN</td>\n",
              "      <td>NaN</td>\n",
              "      <td>2018-02-17 00:00:00</td>\n",
              "      <td>2018-02-18 14:36:24</td>\n",
              "    </tr>\n",
              "    <tr>\n",
              "      <th>3</th>\n",
              "      <td>e64fb393e7b32834bb789ff8bb30750e</td>\n",
              "      <td>658677c97b385a9be170737859d3511b</td>\n",
              "      <td>5</td>\n",
              "      <td>NaN</td>\n",
              "      <td>Recebi bem antes do prazo estipulado.</td>\n",
              "      <td>2017-04-21 00:00:00</td>\n",
              "      <td>2017-04-21 22:02:06</td>\n",
              "    </tr>\n",
              "    <tr>\n",
              "      <th>4</th>\n",
              "      <td>f7c4243c7fe1938f181bec41a392bdeb</td>\n",
              "      <td>8e6bfb81e283fa7e4f11123a3fb894f1</td>\n",
              "      <td>5</td>\n",
              "      <td>NaN</td>\n",
              "      <td>Parabéns lojas lannister adorei comprar pela I...</td>\n",
              "      <td>2018-03-01 00:00:00</td>\n",
              "      <td>2018-03-02 10:26:53</td>\n",
              "    </tr>\n",
              "    <tr>\n",
              "      <th>...</th>\n",
              "      <td>...</td>\n",
              "      <td>...</td>\n",
              "      <td>...</td>\n",
              "      <td>...</td>\n",
              "      <td>...</td>\n",
              "      <td>...</td>\n",
              "      <td>...</td>\n",
              "    </tr>\n",
              "    <tr>\n",
              "      <th>99995</th>\n",
              "      <td>f3897127253a9592a73be9bdfdf4ed7a</td>\n",
              "      <td>22ec9f0669f784db00fa86d035cf8602</td>\n",
              "      <td>5</td>\n",
              "      <td>NaN</td>\n",
              "      <td>NaN</td>\n",
              "      <td>2017-12-09 00:00:00</td>\n",
              "      <td>2017-12-11 20:06:42</td>\n",
              "    </tr>\n",
              "    <tr>\n",
              "      <th>99996</th>\n",
              "      <td>b3de70c89b1510c4cd3d0649fd302472</td>\n",
              "      <td>55d4004744368f5571d1f590031933e4</td>\n",
              "      <td>5</td>\n",
              "      <td>NaN</td>\n",
              "      <td>Excelente mochila, entrega super rápida. Super...</td>\n",
              "      <td>2018-03-22 00:00:00</td>\n",
              "      <td>2018-03-23 09:10:43</td>\n",
              "    </tr>\n",
              "    <tr>\n",
              "      <th>99997</th>\n",
              "      <td>1adeb9d84d72fe4e337617733eb85149</td>\n",
              "      <td>7725825d039fc1f0ceb7635e3f7d9206</td>\n",
              "      <td>4</td>\n",
              "      <td>NaN</td>\n",
              "      <td>NaN</td>\n",
              "      <td>2018-07-01 00:00:00</td>\n",
              "      <td>2018-07-02 12:59:13</td>\n",
              "    </tr>\n",
              "    <tr>\n",
              "      <th>99998</th>\n",
              "      <td>be360f18f5df1e0541061c87021e6d93</td>\n",
              "      <td>f8bd3f2000c28c5342fedeb5e50f2e75</td>\n",
              "      <td>1</td>\n",
              "      <td>NaN</td>\n",
              "      <td>Solicitei a compra de uma capa de retrovisor c...</td>\n",
              "      <td>2017-12-15 00:00:00</td>\n",
              "      <td>2017-12-16 01:29:43</td>\n",
              "    </tr>\n",
              "    <tr>\n",
              "      <th>99999</th>\n",
              "      <td>efe49f1d6f951dd88b51e6ccd4cc548f</td>\n",
              "      <td>90531360ecb1eec2a1fbb265a0db0508</td>\n",
              "      <td>1</td>\n",
              "      <td>NaN</td>\n",
              "      <td>meu produto chegou e ja tenho que devolver, po...</td>\n",
              "      <td>2017-07-03 00:00:00</td>\n",
              "      <td>2017-07-03 21:01:49</td>\n",
              "    </tr>\n",
              "  </tbody>\n",
              "</table>\n",
              "<p>100000 rows × 7 columns</p>\n",
              "</div>"
            ],
            "text/plain": [
              "                              review_id  ... review_answer_timestamp\n",
              "0      7bc2406110b926393aa56f80a40eba40  ...     2018-01-18 21:46:59\n",
              "1      80e641a11e56f04c1ad469d5645fdfde  ...     2018-03-11 03:05:13\n",
              "2      228ce5500dc1d8e020d8d1322874b6f0  ...     2018-02-18 14:36:24\n",
              "3      e64fb393e7b32834bb789ff8bb30750e  ...     2017-04-21 22:02:06\n",
              "4      f7c4243c7fe1938f181bec41a392bdeb  ...     2018-03-02 10:26:53\n",
              "...                                 ...  ...                     ...\n",
              "99995  f3897127253a9592a73be9bdfdf4ed7a  ...     2017-12-11 20:06:42\n",
              "99996  b3de70c89b1510c4cd3d0649fd302472  ...     2018-03-23 09:10:43\n",
              "99997  1adeb9d84d72fe4e337617733eb85149  ...     2018-07-02 12:59:13\n",
              "99998  be360f18f5df1e0541061c87021e6d93  ...     2017-12-16 01:29:43\n",
              "99999  efe49f1d6f951dd88b51e6ccd4cc548f  ...     2017-07-03 21:01:49\n",
              "\n",
              "[100000 rows x 7 columns]"
            ]
          },
          "metadata": {
            "tags": []
          },
          "execution_count": 3
        }
      ]
    },
    {
      "cell_type": "code",
      "metadata": {
        "colab": {
          "base_uri": "https://localhost:8080/"
        },
        "id": "6b5prbcBVr_X",
        "outputId": "102bd872-73d6-456b-a93e-74808d6aa388"
      },
      "source": [
        "data_reviews.nunique()"
      ],
      "execution_count": null,
      "outputs": [
        {
          "output_type": "execute_result",
          "data": {
            "text/plain": [
              "review_id                  99173\n",
              "order_id                   99441\n",
              "review_score                   5\n",
              "review_comment_title        4600\n",
              "review_comment_message     36921\n",
              "review_creation_date         637\n",
              "review_answer_timestamp    99010\n",
              "dtype: int64"
            ]
          },
          "metadata": {
            "tags": []
          },
          "execution_count": 5
        }
      ]
    },
    {
      "cell_type": "code",
      "metadata": {
        "colab": {
          "base_uri": "https://localhost:8080/"
        },
        "id": "Z_LzQ5f2XZpK",
        "outputId": "090d2e64-a7f5-44a1-e454-80f256809235"
      },
      "source": [
        "data_reviews['order_id'].value_counts()"
      ],
      "execution_count": null,
      "outputs": [
        {
          "output_type": "execute_result",
          "data": {
            "text/plain": [
              "03c939fd7fd3b38f8485a0f95798f1f6    3\n",
              "df56136b8031ecd28e200bb18e6ddb2e    3\n",
              "8e17072ec97ce29f0e1f111e598b0c85    3\n",
              "c88b1d1b157a9999ce368f218a407141    3\n",
              "c7e1e46af92704b1c2e1924de96e7479    2\n",
              "                                   ..\n",
              "d8b32d5403c47d8ee3dadd8efa2fa960    1\n",
              "68d1af4ddb903ed2dc66559f1d6ccb6d    1\n",
              "b8b9d7046c083150cb5360b83a8ebb51    1\n",
              "82c997b659ae33d1e56c30e028bd7591    1\n",
              "843fae0263cbfc12d1126522fb216aa7    1\n",
              "Name: order_id, Length: 99441, dtype: int64"
            ]
          },
          "metadata": {
            "tags": []
          },
          "execution_count": 6
        }
      ]
    },
    {
      "cell_type": "code",
      "metadata": {
        "id": "j6gdNJQcVr33"
      },
      "source": [
        "from scipy import stats\n",
        "def reviews_infos(df):\n",
        "\n",
        "  df=df[['order_id','review_score']]\n",
        "\n",
        "  scores=df.groupby('order_id').apply(lambda x: stats.mode(x['review_score'])[0][0])\n",
        "  df=pd.DataFrame({'order_id':scores.index.tolist(),\n",
        "                   'review_score':scores.values.tolist()\n",
        "                       })\n",
        "  return df"
      ],
      "execution_count": null,
      "outputs": []
    },
    {
      "cell_type": "code",
      "metadata": {
        "colab": {
          "base_uri": "https://localhost:8080/",
          "height": 406
        },
        "id": "xotkDWhnYvve",
        "outputId": "592c6c43-9332-486b-8e28-a27d0361e668"
      },
      "source": [
        "reviews_infos(data_reviews)"
      ],
      "execution_count": null,
      "outputs": [
        {
          "output_type": "execute_result",
          "data": {
            "text/html": [
              "<div>\n",
              "<style scoped>\n",
              "    .dataframe tbody tr th:only-of-type {\n",
              "        vertical-align: middle;\n",
              "    }\n",
              "\n",
              "    .dataframe tbody tr th {\n",
              "        vertical-align: top;\n",
              "    }\n",
              "\n",
              "    .dataframe thead th {\n",
              "        text-align: right;\n",
              "    }\n",
              "</style>\n",
              "<table border=\"1\" class=\"dataframe\">\n",
              "  <thead>\n",
              "    <tr style=\"text-align: right;\">\n",
              "      <th></th>\n",
              "      <th>order_id</th>\n",
              "      <th>review_score</th>\n",
              "    </tr>\n",
              "  </thead>\n",
              "  <tbody>\n",
              "    <tr>\n",
              "      <th>0</th>\n",
              "      <td>00010242fe8c5a6d1ba2dd792cb16214</td>\n",
              "      <td>5</td>\n",
              "    </tr>\n",
              "    <tr>\n",
              "      <th>1</th>\n",
              "      <td>00018f77f2f0320c557190d7a144bdd3</td>\n",
              "      <td>4</td>\n",
              "    </tr>\n",
              "    <tr>\n",
              "      <th>2</th>\n",
              "      <td>000229ec398224ef6ca0657da4fc703e</td>\n",
              "      <td>5</td>\n",
              "    </tr>\n",
              "    <tr>\n",
              "      <th>3</th>\n",
              "      <td>00024acbcdf0a6daa1e931b038114c75</td>\n",
              "      <td>4</td>\n",
              "    </tr>\n",
              "    <tr>\n",
              "      <th>4</th>\n",
              "      <td>00042b26cf59d7ce69dfabb4e55b4fd9</td>\n",
              "      <td>5</td>\n",
              "    </tr>\n",
              "    <tr>\n",
              "      <th>...</th>\n",
              "      <td>...</td>\n",
              "      <td>...</td>\n",
              "    </tr>\n",
              "    <tr>\n",
              "      <th>99436</th>\n",
              "      <td>fffc94f6ce00a00581880bf54a75a037</td>\n",
              "      <td>5</td>\n",
              "    </tr>\n",
              "    <tr>\n",
              "      <th>99437</th>\n",
              "      <td>fffcd46ef2263f404302a634eb57f7eb</td>\n",
              "      <td>5</td>\n",
              "    </tr>\n",
              "    <tr>\n",
              "      <th>99438</th>\n",
              "      <td>fffce4705a9662cd70adb13d4a31832d</td>\n",
              "      <td>5</td>\n",
              "    </tr>\n",
              "    <tr>\n",
              "      <th>99439</th>\n",
              "      <td>fffe18544ffabc95dfada21779c9644f</td>\n",
              "      <td>5</td>\n",
              "    </tr>\n",
              "    <tr>\n",
              "      <th>99440</th>\n",
              "      <td>fffe41c64501cc87c801fd61db3f6244</td>\n",
              "      <td>5</td>\n",
              "    </tr>\n",
              "  </tbody>\n",
              "</table>\n",
              "<p>99441 rows × 2 columns</p>\n",
              "</div>"
            ],
            "text/plain": [
              "                               order_id  review_score\n",
              "0      00010242fe8c5a6d1ba2dd792cb16214             5\n",
              "1      00018f77f2f0320c557190d7a144bdd3             4\n",
              "2      000229ec398224ef6ca0657da4fc703e             5\n",
              "3      00024acbcdf0a6daa1e931b038114c75             4\n",
              "4      00042b26cf59d7ce69dfabb4e55b4fd9             5\n",
              "...                                 ...           ...\n",
              "99436  fffc94f6ce00a00581880bf54a75a037             5\n",
              "99437  fffcd46ef2263f404302a634eb57f7eb             5\n",
              "99438  fffce4705a9662cd70adb13d4a31832d             5\n",
              "99439  fffe18544ffabc95dfada21779c9644f             5\n",
              "99440  fffe41c64501cc87c801fd61db3f6244             5\n",
              "\n",
              "[99441 rows x 2 columns]"
            ]
          },
          "metadata": {
            "tags": []
          },
          "execution_count": 15
        }
      ]
    },
    {
      "cell_type": "markdown",
      "metadata": {
        "id": "1UfkIu4RC7dr"
      },
      "source": [
        "### Clean Outliers"
      ]
    },
    {
      "cell_type": "markdown",
      "metadata": {
        "id": "ezvOuupzDVkM"
      },
      "source": [
        "This step is very important in order to get a better distribution of our numerical variables \n",
        "\n",
        "We are using the quantile method "
      ]
    },
    {
      "cell_type": "code",
      "metadata": {
        "id": "C_TEVNaooCbH"
      },
      "source": [
        "def clean_outliers(df):\n",
        "\n",
        "  for column in df.drop(['geolocation_zip_code_prefix',\t'geolocation_lat','geolocation_lng',\n",
        "                         'geolocation_lat_seller',\t'geolocation_lng_seller'],axis=1).select_dtypes(include =np.number).columns.tolist() :\n",
        "\n",
        "\n",
        "\n",
        "    index_todrop=df.loc[(df[column] > df[column].quantile(0.99))|(df[column] < df[column].quantile(0.01))].index.tolist()\n",
        "    df[column].loc[index_todrop] = np.nan\n",
        "    \n",
        "    \n",
        "\n",
        "  return df.dropna(axis=0)\n",
        "    "
      ],
      "execution_count": null,
      "outputs": []
    },
    {
      "cell_type": "markdown",
      "metadata": {
        "id": "D8H9elzUEfX9"
      },
      "source": [
        "### Distance between Seller/Customer"
      ]
    },
    {
      "cell_type": "markdown",
      "metadata": {
        "id": "cGmTI4oyEkSm"
      },
      "source": [
        "The main idea behind the following function is to get an idea of the customer preference on long/short distance with seller \n",
        "\n",
        "For this, we are using the Haversine method "
      ]
    },
    {
      "cell_type": "code",
      "metadata": {
        "id": "excdsI8EJsif"
      },
      "source": [
        "import math\n",
        "def dist(cols):\n",
        " #radius of the Earth\n",
        " r = 6373.0\n",
        "\n",
        " lat1 = math.radians(cols[0])\n",
        " lon1 = math.radians(cols[1])\n",
        " lat2 = math.radians(cols[2])\n",
        " lon2 = math.radians(cols[3])\n",
        "\n",
        " dlon = lon2 - lon1\n",
        " dlat = lat2 - lat1\n",
        " \n",
        " a = math.sin(dlat / 2)**2 + math.cos(lat1) * math.cos(lat2) * math.sin(dlon / 2)**2\n",
        " \n",
        " c = 2 * math.atan2(math.sqrt(a), math.sqrt(1 - a))\n",
        " \n",
        " distance = np.round(r*c)\n",
        "\n",
        " return distance\n",
        "\n",
        "  "
      ],
      "execution_count": null,
      "outputs": []
    },
    {
      "cell_type": "markdown",
      "metadata": {
        "id": "FvbwpkQtkYkp"
      },
      "source": [
        "## Data cleaning - Final functions"
      ]
    },
    {
      "cell_type": "markdown",
      "metadata": {
        "id": "eOq9BNb8CDUs"
      },
      "source": [
        "### Cleaning process"
      ]
    },
    {
      "cell_type": "code",
      "metadata": {
        "id": "CNru9ObV1OEf"
      },
      "source": [
        "dict_data={'orders':data_orders,'items':data_items,'products':data_products,'payments':data_payments,'sellers':data_sellers,\n",
        "           'reviews':data_reviews,'geo_localisation':data_geo,'categories':data_category,'customers':data_customers}\n",
        "functions_list=[orders_infos,items_infos,products_infos,payments_infos,sellers_info,reviews_infos,geo_infos,customers_infos]\n",
        "df_list=[data_orders,data_items,data_products,data_payments,data_sellers,data_reviews,data_geo,data_customers]\n",
        "\n",
        "def dataset_joints(data_list):\n",
        "  \n",
        "  data_orders=orders_infos(data_list['orders'])\n",
        "  \n",
        "  data_products=products_infos(data_list['products'])\n",
        "\n",
        "  data_items=items_infos(data_list['items'],data_orders,data_products)\n",
        "\n",
        "  data_payments=payments_infos(data_list['payments'],data_orders)\n",
        "\n",
        "  data_reviews=reviews_infos(data_list['reviews'])\n",
        "    \n",
        "    \n",
        "  dataframe1=data_items.set_index('order_id').join(data_orders.drop('customer_id',axis=1).set_index('order_id').join(data_reviews.set_index('order_id')))\n",
        "  \n",
        "  dataframe2=dataframe1.set_index('customer_id').join(data_payments.drop('order_id',axis=1).set_index('customer_id'))\n",
        "  \n",
        "\n",
        "  data_geo=geo_infos(data_list['geo_localisation'])\n",
        "  data_customers=customers_infos(data_list['customers'],data_geo)\n",
        "  \n",
        "  dataframe3=dataframe2.join(data_customers.set_index('customer_id'))\n",
        "  dataframe3=dataframe3.reset_index()\n",
        "  dataframe3=dataframe3.rename({'most_common_seller':'seller_id'},axis=1).set_index('seller_id')\n",
        "\n",
        "  data_sellers=sellers_info(data_list['sellers'],data_geo)\n",
        "  \n",
        "  dataframe=dataframe3.join(data_sellers.set_index('seller_id')).reset_index()\n",
        "\n",
        "  dataframe['distance']=dataframe.iloc[:,-4:].apply(dist,axis=1)\n",
        "  \n",
        "  dataframe=clean_outliers(dataframe)\n",
        "  \n",
        "  return dataframe"
      ],
      "execution_count": null,
      "outputs": []
    },
    {
      "cell_type": "code",
      "metadata": {
        "id": "8X-_IRcBTX3v"
      },
      "source": [
        "data=dataset_joints(dict_data)"
      ],
      "execution_count": null,
      "outputs": []
    },
    {
      "cell_type": "code",
      "metadata": {
        "colab": {
          "base_uri": "https://localhost:8080/",
          "height": 411
        },
        "id": "BeGae-oXc8A7",
        "outputId": "f84c4f59-fb25-4f34-e912-d7e8fdc2a285"
      },
      "source": [
        "data"
      ],
      "execution_count": null,
      "outputs": [
        {
          "output_type": "execute_result",
          "data": {
            "text/html": [
              "<div>\n",
              "<style scoped>\n",
              "    .dataframe tbody tr th:only-of-type {\n",
              "        vertical-align: middle;\n",
              "    }\n",
              "\n",
              "    .dataframe tbody tr th {\n",
              "        vertical-align: top;\n",
              "    }\n",
              "\n",
              "    .dataframe thead th {\n",
              "        text-align: right;\n",
              "    }\n",
              "</style>\n",
              "<table border=\"1\" class=\"dataframe\">\n",
              "  <thead>\n",
              "    <tr style=\"text-align: right;\">\n",
              "      <th></th>\n",
              "      <th>seller_id</th>\n",
              "      <th>customer_id</th>\n",
              "      <th>items_number</th>\n",
              "      <th>sellers_number</th>\n",
              "      <th>main_category</th>\n",
              "      <th>purchase_hour</th>\n",
              "      <th>purchase_day</th>\n",
              "      <th>week_of_month</th>\n",
              "      <th>estimated_delivery_days</th>\n",
              "      <th>delivery_days</th>\n",
              "      <th>review_score</th>\n",
              "      <th>common_payment_method</th>\n",
              "      <th>mean_payments</th>\n",
              "      <th>max_payment</th>\n",
              "      <th>payment_ease</th>\n",
              "      <th>geolocation_zip_code_prefix</th>\n",
              "      <th>customer_state</th>\n",
              "      <th>geolocation_lat</th>\n",
              "      <th>geolocation_lng</th>\n",
              "      <th>geolocation_lat_seller</th>\n",
              "      <th>geolocation_lng_seller</th>\n",
              "      <th>distance</th>\n",
              "    </tr>\n",
              "  </thead>\n",
              "  <tbody>\n",
              "    <tr>\n",
              "      <th>0</th>\n",
              "      <td>0015a82c2db000af6aaaf3ae2ecb0532</td>\n",
              "      <td>d7fc82cbeafea77bd0a8fbbf6296e387</td>\n",
              "      <td>1.0</td>\n",
              "      <td>1.0</td>\n",
              "      <td>appliance</td>\n",
              "      <td>8.0</td>\n",
              "      <td>Wednesday</td>\n",
              "      <td>4.0</td>\n",
              "      <td>21.0</td>\n",
              "      <td>9.0</td>\n",
              "      <td>1.0</td>\n",
              "      <td>credit_card</td>\n",
              "      <td>916.02</td>\n",
              "      <td>916.02</td>\n",
              "      <td>8.0</td>\n",
              "      <td>35490</td>\n",
              "      <td>MG</td>\n",
              "      <td>-20.671105</td>\n",
              "      <td>-44.065872</td>\n",
              "      <td>-23.640444</td>\n",
              "      <td>-46.541742</td>\n",
              "      <td>417.0</td>\n",
              "    </tr>\n",
              "    <tr>\n",
              "      <th>1</th>\n",
              "      <td>0015a82c2db000af6aaaf3ae2ecb0532</td>\n",
              "      <td>d9442164acf4b03109425633efaa0cfc</td>\n",
              "      <td>1.0</td>\n",
              "      <td>1.0</td>\n",
              "      <td>appliance</td>\n",
              "      <td>13.0</td>\n",
              "      <td>Thursday</td>\n",
              "      <td>3.0</td>\n",
              "      <td>24.0</td>\n",
              "      <td>12.0</td>\n",
              "      <td>5.0</td>\n",
              "      <td>credit_card</td>\n",
              "      <td>916.02</td>\n",
              "      <td>916.02</td>\n",
              "      <td>4.0</td>\n",
              "      <td>38600</td>\n",
              "      <td>MG</td>\n",
              "      <td>-17.224179</td>\n",
              "      <td>-46.874265</td>\n",
              "      <td>-23.640444</td>\n",
              "      <td>-46.541742</td>\n",
              "      <td>715.0</td>\n",
              "    </tr>\n",
              "    <tr>\n",
              "      <th>2</th>\n",
              "      <td>0015a82c2db000af6aaaf3ae2ecb0532</td>\n",
              "      <td>944b72539d7e1f7f7fc6e46639ef1fe3</td>\n",
              "      <td>1.0</td>\n",
              "      <td>1.0</td>\n",
              "      <td>appliance</td>\n",
              "      <td>22.0</td>\n",
              "      <td>Tuesday</td>\n",
              "      <td>5.0</td>\n",
              "      <td>33.0</td>\n",
              "      <td>10.0</td>\n",
              "      <td>5.0</td>\n",
              "      <td>credit_card</td>\n",
              "      <td>916.02</td>\n",
              "      <td>916.02</td>\n",
              "      <td>10.0</td>\n",
              "      <td>87502</td>\n",
              "      <td>PR</td>\n",
              "      <td>-23.759416</td>\n",
              "      <td>-53.292784</td>\n",
              "      <td>-23.640444</td>\n",
              "      <td>-46.541742</td>\n",
              "      <td>688.0</td>\n",
              "    </tr>\n",
              "    <tr>\n",
              "      <th>3</th>\n",
              "      <td>001cca7ae9ae17fb1caed9dfb1094831</td>\n",
              "      <td>23bfd4316e261786deed5a08231c75bc</td>\n",
              "      <td>1.0</td>\n",
              "      <td>1.0</td>\n",
              "      <td>tools</td>\n",
              "      <td>0.0</td>\n",
              "      <td>Thursday</td>\n",
              "      <td>2.0</td>\n",
              "      <td>21.0</td>\n",
              "      <td>8.0</td>\n",
              "      <td>5.0</td>\n",
              "      <td>credit_card</td>\n",
              "      <td>142.06</td>\n",
              "      <td>142.06</td>\n",
              "      <td>3.0</td>\n",
              "      <td>11431</td>\n",
              "      <td>SP</td>\n",
              "      <td>-23.995826</td>\n",
              "      <td>-46.278739</td>\n",
              "      <td>-20.278513</td>\n",
              "      <td>-40.411675</td>\n",
              "      <td>732.0</td>\n",
              "    </tr>\n",
              "    <tr>\n",
              "      <th>5</th>\n",
              "      <td>001cca7ae9ae17fb1caed9dfb1094831</td>\n",
              "      <td>5fb9d23a8af73d1d81be9447185a10f7</td>\n",
              "      <td>1.0</td>\n",
              "      <td>1.0</td>\n",
              "      <td>tools</td>\n",
              "      <td>18.0</td>\n",
              "      <td>Monday</td>\n",
              "      <td>2.0</td>\n",
              "      <td>20.0</td>\n",
              "      <td>7.0</td>\n",
              "      <td>4.0</td>\n",
              "      <td>credit_card</td>\n",
              "      <td>132.08</td>\n",
              "      <td>132.08</td>\n",
              "      <td>2.0</td>\n",
              "      <td>6702</td>\n",
              "      <td>SP</td>\n",
              "      <td>-23.581605</td>\n",
              "      <td>-46.929404</td>\n",
              "      <td>-20.278513</td>\n",
              "      <td>-40.411675</td>\n",
              "      <td>766.0</td>\n",
              "    </tr>\n",
              "    <tr>\n",
              "      <th>...</th>\n",
              "      <td>...</td>\n",
              "      <td>...</td>\n",
              "      <td>...</td>\n",
              "      <td>...</td>\n",
              "      <td>...</td>\n",
              "      <td>...</td>\n",
              "      <td>...</td>\n",
              "      <td>...</td>\n",
              "      <td>...</td>\n",
              "      <td>...</td>\n",
              "      <td>...</td>\n",
              "      <td>...</td>\n",
              "      <td>...</td>\n",
              "      <td>...</td>\n",
              "      <td>...</td>\n",
              "      <td>...</td>\n",
              "      <td>...</td>\n",
              "      <td>...</td>\n",
              "      <td>...</td>\n",
              "      <td>...</td>\n",
              "      <td>...</td>\n",
              "      <td>...</td>\n",
              "    </tr>\n",
              "    <tr>\n",
              "      <th>98641</th>\n",
              "      <td>fffd5413c0700ac820c7069d66d98c89</td>\n",
              "      <td>9f978a12f447c1d1e426f473f95983c8</td>\n",
              "      <td>1.0</td>\n",
              "      <td>1.0</td>\n",
              "      <td>appliance</td>\n",
              "      <td>10.0</td>\n",
              "      <td>Wednesday</td>\n",
              "      <td>4.0</td>\n",
              "      <td>22.0</td>\n",
              "      <td>5.0</td>\n",
              "      <td>4.0</td>\n",
              "      <td>credit_card</td>\n",
              "      <td>97.90</td>\n",
              "      <td>97.90</td>\n",
              "      <td>1.0</td>\n",
              "      <td>5145</td>\n",
              "      <td>SP</td>\n",
              "      <td>-23.503257</td>\n",
              "      <td>-46.720354</td>\n",
              "      <td>-22.721605</td>\n",
              "      <td>-46.844150</td>\n",
              "      <td>88.0</td>\n",
              "    </tr>\n",
              "    <tr>\n",
              "      <th>98642</th>\n",
              "      <td>fffd5413c0700ac820c7069d66d98c89</td>\n",
              "      <td>0ad73a033a18bf40507b6a86e483b303</td>\n",
              "      <td>1.0</td>\n",
              "      <td>1.0</td>\n",
              "      <td>appliance</td>\n",
              "      <td>12.0</td>\n",
              "      <td>Monday</td>\n",
              "      <td>2.0</td>\n",
              "      <td>21.0</td>\n",
              "      <td>4.0</td>\n",
              "      <td>4.0</td>\n",
              "      <td>credit_card</td>\n",
              "      <td>97.90</td>\n",
              "      <td>97.90</td>\n",
              "      <td>3.0</td>\n",
              "      <td>3267</td>\n",
              "      <td>SP</td>\n",
              "      <td>-23.600908</td>\n",
              "      <td>-46.529253</td>\n",
              "      <td>-22.721605</td>\n",
              "      <td>-46.844150</td>\n",
              "      <td>103.0</td>\n",
              "    </tr>\n",
              "    <tr>\n",
              "      <th>98643</th>\n",
              "      <td>fffd5413c0700ac820c7069d66d98c89</td>\n",
              "      <td>c8ca4bcdd8d22697394008267108810d</td>\n",
              "      <td>1.0</td>\n",
              "      <td>1.0</td>\n",
              "      <td>appliance</td>\n",
              "      <td>18.0</td>\n",
              "      <td>Thursday</td>\n",
              "      <td>3.0</td>\n",
              "      <td>21.0</td>\n",
              "      <td>7.0</td>\n",
              "      <td>5.0</td>\n",
              "      <td>credit_card</td>\n",
              "      <td>97.90</td>\n",
              "      <td>97.90</td>\n",
              "      <td>3.0</td>\n",
              "      <td>19051</td>\n",
              "      <td>SP</td>\n",
              "      <td>-22.143068</td>\n",
              "      <td>-51.458799</td>\n",
              "      <td>-22.721605</td>\n",
              "      <td>-46.844150</td>\n",
              "      <td>479.0</td>\n",
              "    </tr>\n",
              "    <tr>\n",
              "      <th>98644</th>\n",
              "      <td>fffd5413c0700ac820c7069d66d98c89</td>\n",
              "      <td>967dda13a14683fe2fbcc6533e74a2c7</td>\n",
              "      <td>1.0</td>\n",
              "      <td>1.0</td>\n",
              "      <td>appliance</td>\n",
              "      <td>13.0</td>\n",
              "      <td>Wednesday</td>\n",
              "      <td>2.0</td>\n",
              "      <td>21.0</td>\n",
              "      <td>16.0</td>\n",
              "      <td>3.0</td>\n",
              "      <td>credit_card</td>\n",
              "      <td>111.02</td>\n",
              "      <td>111.02</td>\n",
              "      <td>1.0</td>\n",
              "      <td>35700</td>\n",
              "      <td>MG</td>\n",
              "      <td>-19.457995</td>\n",
              "      <td>-44.248128</td>\n",
              "      <td>-22.721605</td>\n",
              "      <td>-46.844150</td>\n",
              "      <td>452.0</td>\n",
              "    </tr>\n",
              "    <tr>\n",
              "      <th>98645</th>\n",
              "      <td>fffd5413c0700ac820c7069d66d98c89</td>\n",
              "      <td>749d4a25eb7bd33a4a39b0b106125744</td>\n",
              "      <td>1.0</td>\n",
              "      <td>1.0</td>\n",
              "      <td>appliance</td>\n",
              "      <td>12.0</td>\n",
              "      <td>Wednesday</td>\n",
              "      <td>5.0</td>\n",
              "      <td>22.0</td>\n",
              "      <td>12.0</td>\n",
              "      <td>5.0</td>\n",
              "      <td>boleto</td>\n",
              "      <td>130.61</td>\n",
              "      <td>130.61</td>\n",
              "      <td>1.0</td>\n",
              "      <td>90420</td>\n",
              "      <td>RS</td>\n",
              "      <td>-30.035781</td>\n",
              "      <td>-51.201151</td>\n",
              "      <td>-22.721605</td>\n",
              "      <td>-46.844150</td>\n",
              "      <td>922.0</td>\n",
              "    </tr>\n",
              "  </tbody>\n",
              "</table>\n",
              "<p>88361 rows × 22 columns</p>\n",
              "</div>"
            ],
            "text/plain": [
              "                              seller_id  ... distance\n",
              "0      0015a82c2db000af6aaaf3ae2ecb0532  ...    417.0\n",
              "1      0015a82c2db000af6aaaf3ae2ecb0532  ...    715.0\n",
              "2      0015a82c2db000af6aaaf3ae2ecb0532  ...    688.0\n",
              "3      001cca7ae9ae17fb1caed9dfb1094831  ...    732.0\n",
              "5      001cca7ae9ae17fb1caed9dfb1094831  ...    766.0\n",
              "...                                 ...  ...      ...\n",
              "98641  fffd5413c0700ac820c7069d66d98c89  ...     88.0\n",
              "98642  fffd5413c0700ac820c7069d66d98c89  ...    103.0\n",
              "98643  fffd5413c0700ac820c7069d66d98c89  ...    479.0\n",
              "98644  fffd5413c0700ac820c7069d66d98c89  ...    452.0\n",
              "98645  fffd5413c0700ac820c7069d66d98c89  ...    922.0\n",
              "\n",
              "[88361 rows x 22 columns]"
            ]
          },
          "metadata": {
            "tags": []
          },
          "execution_count": 21
        }
      ]
    },
    {
      "cell_type": "markdown",
      "metadata": {
        "id": "Z--8qfsYn_y0"
      },
      "source": [
        "## Exploratory Data Analysis"
      ]
    },
    {
      "cell_type": "code",
      "metadata": {
        "colab": {
          "base_uri": "https://localhost:8080/"
        },
        "id": "HFIml_q0sNSN",
        "outputId": "af74bad8-7bb9-444c-8c16-10fdde011822"
      },
      "source": [
        "data.dtypes.sort_values()"
      ],
      "execution_count": null,
      "outputs": [
        {
          "output_type": "execute_result",
          "data": {
            "text/plain": [
              "geolocation_zip_code_prefix      int64\n",
              "review_score                   float64\n",
              "geolocation_lat_seller         float64\n",
              "geolocation_lng                float64\n",
              "geolocation_lat                float64\n",
              "payment_ease                   float64\n",
              "max_payment                    float64\n",
              "mean_payments                  float64\n",
              "geolocation_lng_seller         float64\n",
              "distance                       float64\n",
              "estimated_delivery_days        float64\n",
              "week_of_month                  float64\n",
              "purchase_hour                  float64\n",
              "sellers_number                 float64\n",
              "items_number                   float64\n",
              "delivery_days                  float64\n",
              "common_payment_method           object\n",
              "purchase_day                    object\n",
              "main_category                   object\n",
              "customer_state                  object\n",
              "customer_id                     object\n",
              "seller_id                       object\n",
              "dtype: object"
            ]
          },
          "metadata": {
            "tags": []
          },
          "execution_count": 138
        }
      ]
    },
    {
      "cell_type": "code",
      "metadata": {
        "colab": {
          "base_uri": "https://localhost:8080/",
          "height": 297
        },
        "id": "l3EFZtyVZ1uG",
        "outputId": "b0f79482-3ba2-459b-d318-d80e853be6a3"
      },
      "source": [
        "data.describe()"
      ],
      "execution_count": null,
      "outputs": [
        {
          "output_type": "execute_result",
          "data": {
            "text/html": [
              "<div>\n",
              "<style scoped>\n",
              "    .dataframe tbody tr th:only-of-type {\n",
              "        vertical-align: middle;\n",
              "    }\n",
              "\n",
              "    .dataframe tbody tr th {\n",
              "        vertical-align: top;\n",
              "    }\n",
              "\n",
              "    .dataframe thead th {\n",
              "        text-align: right;\n",
              "    }\n",
              "</style>\n",
              "<table border=\"1\" class=\"dataframe\">\n",
              "  <thead>\n",
              "    <tr style=\"text-align: right;\">\n",
              "      <th></th>\n",
              "      <th>items_number</th>\n",
              "      <th>sellers_number</th>\n",
              "      <th>purchase_hour</th>\n",
              "      <th>week_of_month</th>\n",
              "      <th>estimated_delivery_days</th>\n",
              "      <th>delivery_days</th>\n",
              "      <th>review_score</th>\n",
              "      <th>mean_payments</th>\n",
              "      <th>max_payment</th>\n",
              "      <th>payment_ease</th>\n",
              "      <th>geolocation_zip_code_prefix</th>\n",
              "      <th>geolocation_lat</th>\n",
              "      <th>geolocation_lng</th>\n",
              "      <th>geolocation_lat_seller</th>\n",
              "      <th>geolocation_lng_seller</th>\n",
              "      <th>distance</th>\n",
              "    </tr>\n",
              "  </thead>\n",
              "  <tbody>\n",
              "    <tr>\n",
              "      <th>count</th>\n",
              "      <td>88361.000000</td>\n",
              "      <td>88361.000000</td>\n",
              "      <td>88361.000000</td>\n",
              "      <td>88361.000000</td>\n",
              "      <td>88361.000000</td>\n",
              "      <td>88361.000000</td>\n",
              "      <td>88361.000000</td>\n",
              "      <td>88361.000000</td>\n",
              "      <td>88361.000000</td>\n",
              "      <td>88361.000000</td>\n",
              "      <td>88361.000000</td>\n",
              "      <td>88361.000000</td>\n",
              "      <td>88361.000000</td>\n",
              "      <td>88361.000000</td>\n",
              "      <td>88361.000000</td>\n",
              "      <td>88361.000000</td>\n",
              "    </tr>\n",
              "    <tr>\n",
              "      <th>mean</th>\n",
              "      <td>1.029753</td>\n",
              "      <td>1.011804</td>\n",
              "      <td>14.770272</td>\n",
              "      <td>3.118469</td>\n",
              "      <td>23.095053</td>\n",
              "      <td>11.639377</td>\n",
              "      <td>4.165978</td>\n",
              "      <td>141.905698</td>\n",
              "      <td>142.874684</td>\n",
              "      <td>2.863379</td>\n",
              "      <td>35180.843030</td>\n",
              "      <td>-21.358874</td>\n",
              "      <td>-46.174846</td>\n",
              "      <td>-22.788432</td>\n",
              "      <td>-47.246973</td>\n",
              "      <td>586.145494</td>\n",
              "    </tr>\n",
              "    <tr>\n",
              "      <th>std</th>\n",
              "      <td>0.169906</td>\n",
              "      <td>0.108003</td>\n",
              "      <td>5.319721</td>\n",
              "      <td>1.306164</td>\n",
              "      <td>7.660900</td>\n",
              "      <td>7.689204</td>\n",
              "      <td>1.272359</td>\n",
              "      <td>133.594658</td>\n",
              "      <td>134.069119</td>\n",
              "      <td>2.558414</td>\n",
              "      <td>29839.593925</td>\n",
              "      <td>5.345928</td>\n",
              "      <td>3.937815</td>\n",
              "      <td>2.679535</td>\n",
              "      <td>2.313288</td>\n",
              "      <td>548.990702</td>\n",
              "    </tr>\n",
              "    <tr>\n",
              "      <th>min</th>\n",
              "      <td>1.000000</td>\n",
              "      <td>1.000000</td>\n",
              "      <td>0.000000</td>\n",
              "      <td>1.000000</td>\n",
              "      <td>6.000000</td>\n",
              "      <td>1.000000</td>\n",
              "      <td>1.000000</td>\n",
              "      <td>20.300000</td>\n",
              "      <td>21.430000</td>\n",
              "      <td>1.000000</td>\n",
              "      <td>1003.000000</td>\n",
              "      <td>-33.689948</td>\n",
              "      <td>-68.502935</td>\n",
              "      <td>-32.079231</td>\n",
              "      <td>-63.893565</td>\n",
              "      <td>6.000000</td>\n",
              "    </tr>\n",
              "    <tr>\n",
              "      <th>25%</th>\n",
              "      <td>1.000000</td>\n",
              "      <td>1.000000</td>\n",
              "      <td>11.000000</td>\n",
              "      <td>2.000000</td>\n",
              "      <td>18.000000</td>\n",
              "      <td>6.000000</td>\n",
              "      <td>4.000000</td>\n",
              "      <td>61.010000</td>\n",
              "      <td>61.770000</td>\n",
              "      <td>1.000000</td>\n",
              "      <td>11662.000000</td>\n",
              "      <td>-23.591653</td>\n",
              "      <td>-48.144859</td>\n",
              "      <td>-23.610279</td>\n",
              "      <td>-48.807256</td>\n",
              "      <td>213.000000</td>\n",
              "    </tr>\n",
              "    <tr>\n",
              "      <th>50%</th>\n",
              "      <td>1.000000</td>\n",
              "      <td>1.000000</td>\n",
              "      <td>15.000000</td>\n",
              "      <td>3.000000</td>\n",
              "      <td>23.000000</td>\n",
              "      <td>10.000000</td>\n",
              "      <td>5.000000</td>\n",
              "      <td>102.480000</td>\n",
              "      <td>103.130000</td>\n",
              "      <td>2.000000</td>\n",
              "      <td>24451.000000</td>\n",
              "      <td>-22.923757</td>\n",
              "      <td>-46.633293</td>\n",
              "      <td>-23.405071</td>\n",
              "      <td>-46.755753</td>\n",
              "      <td>438.000000</td>\n",
              "    </tr>\n",
              "    <tr>\n",
              "      <th>75%</th>\n",
              "      <td>1.000000</td>\n",
              "      <td>1.000000</td>\n",
              "      <td>19.000000</td>\n",
              "      <td>4.000000</td>\n",
              "      <td>28.000000</td>\n",
              "      <td>15.000000</td>\n",
              "      <td>5.000000</td>\n",
              "      <td>170.480000</td>\n",
              "      <td>171.440000</td>\n",
              "      <td>4.000000</td>\n",
              "      <td>58038.000000</td>\n",
              "      <td>-20.223980</td>\n",
              "      <td>-43.642950</td>\n",
              "      <td>-21.757321</td>\n",
              "      <td>-46.522287</td>\n",
              "      <td>786.000000</td>\n",
              "    </tr>\n",
              "    <tr>\n",
              "      <th>max</th>\n",
              "      <td>2.000000</td>\n",
              "      <td>2.000000</td>\n",
              "      <td>23.000000</td>\n",
              "      <td>6.000000</td>\n",
              "      <td>50.000000</td>\n",
              "      <td>46.000000</td>\n",
              "      <td>5.000000</td>\n",
              "      <td>1042.680000</td>\n",
              "      <td>1042.680000</td>\n",
              "      <td>10.000000</td>\n",
              "      <td>99980.000000</td>\n",
              "      <td>0.082159</td>\n",
              "      <td>-34.799347</td>\n",
              "      <td>-2.501242</td>\n",
              "      <td>-34.855616</td>\n",
              "      <td>2485.000000</td>\n",
              "    </tr>\n",
              "  </tbody>\n",
              "</table>\n",
              "</div>"
            ],
            "text/plain": [
              "       items_number  sellers_number  ...  geolocation_lng_seller      distance\n",
              "count  88361.000000    88361.000000  ...            88361.000000  88361.000000\n",
              "mean       1.029753        1.011804  ...              -47.246973    586.145494\n",
              "std        0.169906        0.108003  ...                2.313288    548.990702\n",
              "min        1.000000        1.000000  ...              -63.893565      6.000000\n",
              "25%        1.000000        1.000000  ...              -48.807256    213.000000\n",
              "50%        1.000000        1.000000  ...              -46.755753    438.000000\n",
              "75%        1.000000        1.000000  ...              -46.522287    786.000000\n",
              "max        2.000000        2.000000  ...              -34.855616   2485.000000\n",
              "\n",
              "[8 rows x 16 columns]"
            ]
          },
          "metadata": {
            "tags": []
          },
          "execution_count": 20
        }
      ]
    },
    {
      "cell_type": "markdown",
      "metadata": {
        "id": "1xtpckfhDOcl"
      },
      "source": [
        "### Univariate Analysis"
      ]
    },
    {
      "cell_type": "code",
      "metadata": {
        "id": "iDU6i7OHPmsv",
        "colab": {
          "base_uri": "https://localhost:8080/",
          "height": 1000
        },
        "outputId": "e1aaa2fb-5a89-420d-c79d-fe0de725a1fa"
      },
      "source": [
        "import seaborn as sns\n",
        "numerical_col=data.select_dtypes(include=np.number).columns\n",
        "fig=plt.figure(figsize=(20,18))\n",
        "for i, col in enumerate(numerical_col):\n",
        "  fig.add_subplot(4,4,i+1)\n",
        "  sns.distplot(data[col],bins=20,hist_kws=dict(edgecolor=\"black\", linewidth=1))\n",
        "  plt.xlabel(col,fontsize=14)\n",
        "  plt.ylabel('Density',fontsize=14)\n",
        "  plt.title(f\"Distribution of {col}\")\n",
        "  plt.tight_layout()"
      ],
      "execution_count": null,
      "outputs": [
        {
          "output_type": "display_data",
          "data": {
            "image/png": "[encoded data removed]",
            "text/plain": [
              "<Figure size 1440x1296 with 16 Axes>"
            ]
          },
          "metadata": {
            "tags": [],
            "needs_background": "light"
          }
        }
      ]
    },
    {
      "cell_type": "markdown",
      "metadata": {
        "id": "uWrztgpObNz6"
      },
      "source": [
        "We have better shape for our numerical features after the several transformations we have made"
      ]
    },
    {
      "cell_type": "code",
      "metadata": {
        "colab": {
          "base_uri": "https://localhost:8080/"
        },
        "id": "3eIM1mgOXDVp",
        "outputId": "df2a4732-cba1-4124-8e0b-9f337d856742"
      },
      "source": [
        "numerical_col=data.select_dtypes(include=np.number).columns\n",
        "numerical_col\n"
      ],
      "execution_count": null,
      "outputs": [
        {
          "output_type": "execute_result",
          "data": {
            "text/plain": [
              "Index(['items_number', 'sellers_number', 'purchase_hour', 'week_of_month',\n",
              "       'estimated_delivery_days', 'delivery_days', 'review_score',\n",
              "       'mean_payments', 'max_payment', 'payment_ease',\n",
              "       'geolocation_zip_code_prefix', 'geolocation_lat', 'geolocation_lng',\n",
              "       'geolocation_lat_seller', 'geolocation_lng_seller', 'distance'],\n",
              "      dtype='object')"
            ]
          },
          "metadata": {
            "tags": []
          },
          "execution_count": 24
        }
      ]
    },
    {
      "cell_type": "code",
      "metadata": {
        "id": "WNiA5lt_YXCW"
      },
      "source": [
        "def get_percentile(plot, feature):\n",
        "    total = len(feature)\n",
        "    for p in plot.patches:\n",
        "        percentage = '{:.1f}%'.format(100 * p.get_height()/total)\n",
        "        x = p.get_x() + p.get_width() / 2 - 0.05\n",
        "        y = p.get_y() + p.get_height()\n",
        "        plot.annotate(percentage, (x, y), size = 12)\n",
        "    plt.show()"
      ],
      "execution_count": null,
      "outputs": []
    },
    {
      "cell_type": "code",
      "metadata": {
        "id": "ljoQK5vrVdDu"
      },
      "source": [
        "#categorical_distribution\n",
        "def categorical_plot1(df,feature):\n",
        "  feature_dt=df[feature].value_counts(ascending=False).head(20)\n",
        "  plt.figure(figsize=(8,6))\n",
        "  g=sns.countplot(feature,data=df,order=feature_dt.index.values)\n",
        "  plt.xticks(rotation=70)\n",
        "  get_percentile(g,df[feature])\n",
        "  plt.show()\n",
        "\n"
      ],
      "execution_count": null,
      "outputs": []
    },
    {
      "cell_type": "code",
      "metadata": {
        "id": "DNGynadtjYK2"
      },
      "source": [
        "#pie_chart\n",
        "def categorical_plot2(df,feature):\n",
        "\n",
        "  fig=plt.figure(figsize=(10,8))\n",
        "\n",
        "  pie_data=df[feature].value_counts(normalize=True)\n",
        "    \n",
        "  explode=pie_data.apply(lambda x:(x>=0.5) | (x<=0.1))\n",
        "  explode=explode.apply(lambda x:0.05 if x==True else 0)\n",
        "  legend=pie_data.index.values\n",
        "  plt.pie(pie_data.mul(100),labels=pie_data.index.values,shadow=False,explode=explode,startangle=90,rotatelabels=True, autopct='%1.1f%%',textprops={'fontsize': 13})\n",
        "  plt.title(f'distribution de {feature}',{'fontsize':20})\n",
        "  plt.legend(legend,loc='center left')\n",
        "\n",
        "\n",
        "  plt.show()"
      ],
      "execution_count": null,
      "outputs": []
    },
    {
      "cell_type": "code",
      "metadata": {
        "colab": {
          "base_uri": "https://localhost:8080/",
          "height": 437
        },
        "id": "iz6Q-n5ZT3XW",
        "outputId": "a415972c-b7d1-43f9-e0e5-5c6fd931b2b1"
      },
      "source": [
        "categorical_plot1(data,'purchase_day')"
      ],
      "execution_count": null,
      "outputs": [
        {
          "output_type": "display_data",
          "data": {
            "image/png": "[encoded data removed]",
            "text/plain": [
              "<Figure size 576x432 with 1 Axes>"
            ]
          },
          "metadata": {
            "tags": [],
            "needs_background": "light"
          }
        }
      ]
    },
    {
      "cell_type": "markdown",
      "metadata": {
        "id": "jfEHjnFtbXvT"
      },
      "source": [
        "we notice that the clients made the most of their online orders in the beginning of the week"
      ]
    },
    {
      "cell_type": "code",
      "metadata": {
        "colab": {
          "base_uri": "https://localhost:8080/",
          "height": 525
        },
        "id": "ASD7MBYoUCbJ",
        "outputId": "f0d250ab-98f4-46a0-b714-12ae30360670"
      },
      "source": [
        "categorical_plot2(data,'main_category')"
      ],
      "execution_count": null,
      "outputs": [
        {
          "output_type": "display_data",
          "data": {
            "image/png": "[encoded data removed]",
            "text/plain": [
              "<Figure size 720x576 with 1 Axes>"
            ]
          },
          "metadata": {
            "tags": []
          }
        }
      ]
    },
    {
      "cell_type": "markdown",
      "metadata": {
        "id": "fiQ-12PHbnFu"
      },
      "source": [
        "the three top categories our clients are interested in are: \n",
        "\n",
        "- Electronics\n",
        "\n",
        "- Beauty\n",
        "\n",
        "- Home furniture"
      ]
    },
    {
      "cell_type": "code",
      "metadata": {
        "colab": {
          "base_uri": "https://localhost:8080/",
          "height": 435
        },
        "id": "D9_OJgItUPI2",
        "outputId": "efec38c8-981a-4ab3-d7ec-ba265434f303"
      },
      "source": [
        "categorical_plot1(data,'common_payment_method')"
      ],
      "execution_count": null,
      "outputs": [
        {
          "output_type": "display_data",
          "data": {
            "image/png": "[encoded data removed]",
            "text/plain": [
              "<Figure size 576x432 with 1 Axes>"
            ]
          },
          "metadata": {
            "tags": [],
            "needs_background": "light"
          }
        }
      ]
    },
    {
      "cell_type": "markdown",
      "metadata": {
        "id": "qShJrHt3b0F-"
      },
      "source": [
        "as it was expected the common payment method to our client is the credit card \n",
        "\n",
        "followed by the boleto which is a common method to pay in Brazil"
      ]
    },
    {
      "cell_type": "code",
      "metadata": {
        "colab": {
          "base_uri": "https://localhost:8080/",
          "height": 487
        },
        "id": "JP_oPmrSWP8N",
        "outputId": "332b54f9-9ac3-4d24-9992-15b40073bba6"
      },
      "source": [
        "categorical_plot2(data,'review_score')"
      ],
      "execution_count": null,
      "outputs": [
        {
          "output_type": "display_data",
          "data": {
            "image/png": "[encoded data removed]",
            "text/plain": [
              "<Figure size 720x576 with 1 Axes>"
            ]
          },
          "metadata": {
            "tags": []
          }
        }
      ]
    },
    {
      "cell_type": "markdown",
      "metadata": {
        "id": "Yus5F41wcAhp"
      },
      "source": [
        "we have a good review score for over 50%  of our orders"
      ]
    },
    {
      "cell_type": "code",
      "metadata": {
        "colab": {
          "base_uri": "https://localhost:8080/",
          "height": 466
        },
        "id": "kSejEnC9WpJY",
        "outputId": "5141ff19-c6b6-409d-8b01-54c0c48452a8"
      },
      "source": [
        "categorical_plot2(data,'customer_state')"
      ],
      "execution_count": null,
      "outputs": [
        {
          "output_type": "display_data",
          "data": {
            "image/png": "[encoded data removed]",
            "text/plain": [
              "<Figure size 720x576 with 1 Axes>"
            ]
          },
          "metadata": {
            "tags": []
          }
        }
      ]
    },
    {
      "cell_type": "markdown",
      "metadata": {
        "id": "HftNwDSscIsZ"
      },
      "source": [
        "Sao paolo and Rio de Janeiro are the top states "
      ]
    },
    {
      "cell_type": "code",
      "metadata": {
        "colab": {
          "base_uri": "https://localhost:8080/",
          "height": 401
        },
        "id": "3KT2TPvoW-QK",
        "outputId": "88d8f479-94f3-402e-f6ef-a8a77686714c"
      },
      "source": [
        "categorical_plot1(data,'week_of_month')"
      ],
      "execution_count": null,
      "outputs": [
        {
          "output_type": "display_data",
          "data": {
            "image/png": "[encoded data removed]",
            "text/plain": [
              "<Figure size 576x432 with 1 Axes>"
            ]
          },
          "metadata": {
            "tags": [],
            "needs_background": "light"
          }
        }
      ]
    },
    {
      "cell_type": "code",
      "metadata": {
        "colab": {
          "base_uri": "https://localhost:8080/",
          "height": 393
        },
        "id": "zbul9nkuXUEV",
        "outputId": "61fe274a-89ce-4bbc-9534-257889bb3c9e"
      },
      "source": [
        "categorical_plot1(data,'purchase_hour')"
      ],
      "execution_count": null,
      "outputs": [
        {
          "output_type": "display_data",
          "data": {
            "image/png": "[encoded data removed]",
            "text/plain": [
              "<Figure size 576x432 with 1 Axes>"
            ]
          },
          "metadata": {
            "tags": [],
            "needs_background": "light"
          }
        }
      ]
    },
    {
      "cell_type": "markdown",
      "metadata": {
        "id": "LCU4rX-8cQuc"
      },
      "source": [
        "the best hours to made a sell are (16h , 11h, 14h,  13h, 15h) \n",
        "\n",
        "our client tends to pass their order in the middle of the day (while working maybe :D )"
      ]
    },
    {
      "cell_type": "code",
      "metadata": {
        "colab": {
          "base_uri": "https://localhost:8080/",
          "height": 837
        },
        "id": "0F6nVD551X-P",
        "outputId": "0cfa465c-2056-4b3a-b532-5a957f7a31e1"
      },
      "source": [
        "plt.figure(figsize=(12,10))\n",
        "Mask=np.triu(np.ones_like(data.corr()))\n",
        "c=sns.heatmap(data.corr(),cmap='viridis',annot=True,linewidths=0.1,cbar=True,mask=Mask,fmt='.2f')\n",
        "c.set_xticklabels(c.get_xmajorticklabels(), fontsize = 18)\n",
        "c.set_yticklabels(c.get_ymajorticklabels(), fontsize = 18)\n",
        "\n",
        "\n",
        "plt.show()"
      ],
      "execution_count": null,
      "outputs": [
        {
          "output_type": "display_data",
          "data": {
            "image/png": "[encoded data removed]",
            "text/plain": [
              "<Figure size 864x720 with 2 Axes>"
            ]
          },
          "metadata": {
            "tags": []
          }
        }
      ]
    },
    {
      "cell_type": "markdown",
      "metadata": {
        "id": "gyrnVlz-cq9N"
      },
      "source": [
        "### **Observations**\n",
        "\n",
        "\n",
        "- very high correlation between **max_payment*** and **mean_payment** (we should keep only one of them)\n",
        "\n",
        "- good correlation between the number of **items** and the **sellers** \n",
        "\n",
        "- also between **distance** and **lat/long**"
      ]
    },
    {
      "cell_type": "markdown",
      "metadata": {
        "id": "l0s1Q14hN4Kz"
      },
      "source": [
        "### Save data"
      ]
    },
    {
      "cell_type": "code",
      "metadata": {
        "id": "mmcaWCXcOBTx"
      },
      "source": [
        "data=data.set_index('customer_id')"
      ],
      "execution_count": null,
      "outputs": []
    },
    {
      "cell_type": "code",
      "metadata": {
        "colab": {
          "base_uri": "https://localhost:8080/",
          "height": 17
        },
        "id": "UwZakfBrN94A",
        "outputId": "1249093b-e197-49ca-af52-0550f2a437d7"
      },
      "source": [
        "from google.colab import files\n",
        "data.to_csv('data.csv') \n",
        "files.download('data.csv')"
      ],
      "execution_count": null,
      "outputs": [
        {
          "output_type": "display_data",
          "data": {
            "application/javascript": [
              "\n",
              "    async function download(id, filename, size) {\n",
              "      if (!google.colab.kernel.accessAllowed) {\n",
              "        return;\n",
              "      }\n",
              "      const div = document.createElement('div');\n",
              "      const label = document.createElement('label');\n",
              "      label.textContent = `Downloading \"${filename}\": `;\n",
              "      div.appendChild(label);\n",
              "      const progress = document.createElement('progress');\n",
              "      progress.max = size;\n",
              "      div.appendChild(progress);\n",
              "      document.body.appendChild(div);\n",
              "\n",
              "      const buffers = [];\n",
              "      let downloaded = 0;\n",
              "\n",
              "      const channel = await google.colab.kernel.comms.open(id);\n",
              "      // Send a message to notify the kernel that we're ready.\n",
              "      channel.send({})\n",
              "\n",
              "      for await (const message of channel.messages) {\n",
              "        // Send a message to notify the kernel that we're ready.\n",
              "        channel.send({})\n",
              "        if (message.buffers) {\n",
              "          for (const buffer of message.buffers) {\n",
              "            buffers.push(buffer);\n",
              "            downloaded += buffer.byteLength;\n",
              "            progress.value = downloaded;\n",
              "          }\n",
              "        }\n",
              "      }\n",
              "      const blob = new Blob(buffers, {type: 'application/binary'});\n",
              "      const a = document.createElement('a');\n",
              "      a.href = window.URL.createObjectURL(blob);\n",
              "      a.download = filename;\n",
              "      div.appendChild(a);\n",
              "      a.click();\n",
              "      div.remove();\n",
              "    }\n",
              "  "
            ],
            "text/plain": [
              "<IPython.core.display.Javascript object>"
            ]
          },
          "metadata": {
            "tags": []
          }
        },
        {
          "output_type": "display_data",
          "data": {
            "application/javascript": [
              "download(\"download_921618f3-4cb0-4389-8a14-9617c4c03b55\", \"data.csv\", 20707860)"
            ],
            "text/plain": [
              "<IPython.core.display.Javascript object>"
            ]
          },
          "metadata": {
            "tags": []
          }
        }
      ]
    }
  ]
}